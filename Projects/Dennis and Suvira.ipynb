{
 "cells": [
  {
   "cell_type": "markdown",
   "metadata": {},
   "source": [
    "## Is our $CO_2$ reading correct?\n",
    "\n",
    "I am beginning to suspect our $CO_2$ reading. Given your last run with HPLC measurements I am going to fit the growth curve and use this when obtaining $r_{CO_2}$ via the model.\n",
    "\n",
    "Let's start with your growth data. I will be using Suvira's short run (ferm 4):\n"
   ]
  },
  {
   "cell_type": "code",
   "execution_count": 66,
   "metadata": {
    "collapsed": true
   },
   "outputs": [],
   "source": [
    "te=[0,1,2,3,4,5,6,7]\n",
    "Cx_e=[1.670877123,1.921508001,2.31054237,3.237087469,4.104799739,5.629561616,6.701583683,8.074238701]\n",
    "rco2_e=[2.31884058,3.571428571,5.504587156,7.817589577,11.00917431,12.8342246,13.04347826,6.16966581]"
   ]
  },
  {
   "cell_type": "markdown",
   "metadata": {},
   "source": [
    "Please note that I have started my time zero after 2 hours of experimentation. Let's first see how a constant $\\mu$ value fits the data:"
   ]
  },
  {
   "cell_type": "code",
   "execution_count": 48,
   "metadata": {
    "collapsed": true
   },
   "outputs": [],
   "source": [
    "import numpy\n",
    "import matplotlib.pyplot as plt\n",
    "from scipy.integrate import odeint\n",
    "%matplotlib inline"
   ]
  },
  {
   "cell_type": "code",
   "execution_count": 57,
   "metadata": {},
   "outputs": [
    {
     "data": {
      "image/png": "[encoded data removed]",
      "text/plain": [
       "<matplotlib.figure.Figure at 0x110ca2860>"
      ]
     },
     "metadata": {},
     "output_type": "display_data"
    }
   ],
   "source": [
    "tspan=numpy.linspace(0,7,200)\n",
    "mu=0.23\n",
    "\n",
    "def intfun(c,t):\n",
    "    return [(mu)*c[0]]                     \n",
    "\n",
    "Cx_t = odeint(intfun, Cx[0], tspan)  \n",
    "\n",
    "plt.plot(te, Cx_e, '*',color='blue', label='cx')\n",
    "plt.plot(tspan, Cx_t, color='red', label='cx_t')\n",
    "plt.ylabel('Concentration g/L') \n",
    "plt.xlabel('time (min)') \n",
    "plt.show()"
   ]
  },
  {
   "cell_type": "markdown",
   "metadata": {},
   "source": [
    "Not perfect but good enough for now. No clear evidence of product inhibition so we'll start by using $\\mu=0.23 \\frac{1}{h}$"
   ]
  },
  {
   "cell_type": "markdown",
   "metadata": {},
   "source": [
    "So we will run the model with a constant $\\mu$ and vary the energy balance parameters to obtain a fit on the glucose and ethanol data. Let's start with the model:\n",
    "\n",
    "<img src=\"etmap.png\" width=\"600\" />"
   ]
  },
  {
   "cell_type": "markdown",
   "metadata": {},
   "source": [
    "Unlike the basis in this model we will use $\\mu$ as the basis. Let's generate some concentration profiles:"
   ]
  },
  {
   "cell_type": "code",
   "execution_count": 58,
   "metadata": {
    "collapsed": true
   },
   "outputs": [],
   "source": [
    "alpha, beta, gamma = 0.1, 0.1,1.2\n",
    "mu, theta, Km= 0.23, 0.1, 0.001"
   ]
  },
  {
   "cell_type": "code",
   "execution_count": 59,
   "metadata": {
    "collapsed": true
   },
   "outputs": [],
   "source": [
    "def response_fun(C):\n",
    "    \n",
    "    Cx, Cs, Cg, Ce = C[0],C[1],C[2],C[3] \n",
    "    \n",
    "    mu1=mu*Cs/(Km+Cs)\n",
    "    theta1=theta*Cs/(Km+Cs)\n",
    "             \n",
    "    S = numpy.matrix([[-1,1+alpha,1,0,0],\n",
    "                      [ 0,0,-1,1,1.5],\n",
    "                      [  0,beta,0,-1/3,0],\n",
    "                      [ 0,-gamma,-1/3,0,1],\n",
    "                      [ 0,1,0,0,0]])\n",
    "\n",
    "    C = numpy.matrix([0, 0, 0, theta1, mu1]).T\n",
    "    r = numpy.linalg.solve(S, C) \n",
    "        \n",
    "    \n",
    "    return [mu,        # important to see the order of the rates (X,S,G,E)\n",
    "           -r[0,0],   # glucose, note the negative since the flux model calculated (-rs)\n",
    "            r[3,0],    # glycerol\n",
    "            r[4,0]]    # ethanol   "
   ]
  },
  {
   "cell_type": "code",
   "execution_count": 60,
   "metadata": {
    "collapsed": true
   },
   "outputs": [],
   "source": [
    "def ferm_eq(C,t):\n",
    "    Cx, Cs, Cg, Ce = C[0],C[1],C[2],C[3]   \n",
    "    r=response_fun([Cx, Cs, Cg, Ce])\n",
    "    \n",
    "    return [r[0]*Cx,\n",
    "            r[1]*Cx,    \n",
    "            r[2]*Cx,\n",
    "            r[3]*Cx]   "
   ]
  },
  {
   "cell_type": "markdown",
   "metadata": {},
   "source": [
    "Let's import the experimental concentration data:\n"
   ]
  },
  {
   "cell_type": "code",
   "execution_count": 61,
   "metadata": {
    "collapsed": true
   },
   "outputs": [],
   "source": [
    "te2=[0,2,4,6]\n",
    "Ce_e=[9.69552,11.86366,19.77011,28.65115]\n",
    "Cs_e=[53.53423,48.20409,33.73149,12.78452]"
   ]
  },
  {
   "cell_type": "markdown",
   "metadata": {},
   "source": [
    "Solve the model and plot:\n"
   ]
  },
  {
   "cell_type": "code",
   "execution_count": 64,
   "metadata": {},
   "outputs": [
    {
     "data": {
      "image/png": "[encoded data removed]",
      "text/plain": [
       "<matplotlib.figure.Figure at 0x110ea0710>"
      ]
     },
     "metadata": {},
     "output_type": "display_data"
    }
   ],
   "source": [
    "Co=[Cx[0]/24.6, Cs_e[0]/30,0,Ce_e[0]/23]\n",
    "tmax=7\n",
    "tspan=numpy.linspace(0,tmax,200)            \n",
    "C = odeint(ferm_eq, Co, tspan)\n",
    "\n",
    "Cx=C[:,0]*24.6                          \n",
    "Cs=C[:,1]*30\n",
    "Cg=C[:,2]*30.666\n",
    "Ce=C[:,3]*23\n",
    "\n",
    "plt.plot(tspan, Ce, color='blue', label='e')\n",
    "plt.plot(tspan, Cs, color='red',label='s')\n",
    "plt.plot(tspan, Cx, color='green',label='x')\n",
    "plt.plot(te2, Cs_e,'*', color='red')\n",
    "plt.plot(te2, Ce_e,'*', color='blue')\n",
    "plt.plot(te, Cx_e, '*', color='green')\n",
    "\n",
    "plt.legend(loc='best')\n",
    "plt.ylabel('Concentration g/L') \n",
    "plt.xlabel('time (h)') \n",
    "plt.show()"
   ]
  },
  {
   "cell_type": "markdown",
   "metadata": {},
   "source": [
    "Interesting, given the previously measured $\\theta=0.1 \\frac{mol \\, ATP}{cmol \\, X \\cdot h}$ it appears that $\\gamma$ is lower than the usual $1.8 \\frac{mol \\, ATP}{cmol \\, X}$. This is most likely attributed to the yeast extract supplying peptides. Remember peptides take ATP to build.\n",
    "\n",
    "Now let's see how good the $r_{CO2}$ measurement was:"
   ]
  },
  {
   "cell_type": "code",
   "execution_count": 72,
   "metadata": {},
   "outputs": [
    {
     "data": {
      "image/png": "[encoded data removed]",
      "text/plain": [
       "<matplotlib.figure.Figure at 0x111edb3c8>"
      ]
     },
     "metadata": {},
     "output_type": "display_data"
    }
   ],
   "source": [
    "from numpy import asarray\n",
    "Ci=(C[:, :3])                                  #first 4 elements of N devided by 5th element to get Ci, \n",
    "r=asarray([response_fun(C) for C in C])        # All Ci rows assigned (one by one) to function r_prime\n",
    "\n",
    "T, P = 25, 86  # °C, kPa \n",
    "\n",
    "rx=r[:,0]\n",
    "re=r[:,3]\n",
    "rco2=(0.5*re+beta*rx)*(1/60)*8.314*(T+273)*1000/P*(Cx/24.6)*0.5  #ml CO2/min   \n",
    "\n",
    "plt.plot(tspan, rco2, color='blue', label='model')\n",
    "plt.plot(te, rco2_e, '*', color='red',label='measured')\n",
    "\n",
    "plt.legend(loc='best')\n",
    "plt.ylabel('CO2 rate (ml/min)') \n",
    "plt.xlabel('time (h)') \n",
    "plt.show()"
   ]
  },
  {
   "cell_type": "markdown",
   "metadata": {},
   "source": [
    "Wow, it appears that the $CO_2$ absorption in the pipette is severe. Time for some vegatable oil, or low pH water or another plan I guess. We need a liquid that does not absorb $CO_2$ and that is not too messy to work with.\n",
    "\n",
    "Also, the model suggest that you might be consuming all your glucose. Is this the reason for that 'turn'?\n",
    "\n",
    "I guess you can take it from here. It is a fun project! 🧐"
   ]
  },
  {
   "cell_type": "code",
   "execution_count": null,
   "metadata": {
    "collapsed": true
   },
   "outputs": [],
   "source": []
  }
 ],
 "metadata": {
  "kernelspec": {
   "display_name": "Python 3",
   "language": "python",
   "name": "python3"
  },
  "language_info": {
   "codemirror_mode": {
    "name": "ipython",
    "version": 3
   },
   "file_extension": ".py",
   "mimetype": "text/x-python",
   "name": "python",
   "nbconvert_exporter": "python",
   "pygments_lexer": "ipython3",
   "version": "3.6.1"
  }
 },
 "nbformat": 4,
 "nbformat_minor": 2
}
