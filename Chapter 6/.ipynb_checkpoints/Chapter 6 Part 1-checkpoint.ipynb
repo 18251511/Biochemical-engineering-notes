{
 "cells": [
  {
   "cell_type": "markdown",
   "metadata": {},
   "source": [
    "## Chapter 6 : Biological rates and bioreactors\n",
    "\n",
    "## 6.1 Rates\n",
    "\n",
    "Chapter 4 and chapter 5 was all about ratios. Ratio of a component with respect to another. We referred to these ratios as yields and opted to express most of the ratios (or yields) with substrate consumed as the denominator of the ratio. This chapter is all about rates, where time will always feature in the denominator of the expression. We’ll be expressing the consumption and production of metabolites (in cmols, mols or gram) as a function of time. When reading this you should see something like $\\frac{cmol}{time}$ in your mind’s eye. Given this visualisation we have the perfect opportunity to define the **BASIS** for reaction rates. I want you to replace the previous visualisation with this one for the reaction rate of substrate:\n",
    "\n",
    "<img src=\"basis1.png\" width=\"180\" />\n",
    "\n",
    "That **BASIS** in the denominator of the reaction rate (note the use of r for reaction rate) is very important and very useful. It will become clear as we move along.\n",
    "\n",
    "Talking about rate, have you ever wondered about the rate of energy consumption in your own body. Maybe not, but most of us wonder about the rate of food (indirectly energy) intake and the consequences thereof. While sitting and reading these notes your energy expenditure is around 100W, same as an old fashioned light bulb (or 7 energy saving bulbs). This implies that you should consume 8640 kJ a day (or 3.8 Big Mac burgers – check the calculation yourself). But maybe you weigh a mere 50kg and your friend a 100kg. This begs the question whether both of are consuming 100W of energy while reading this and whether both can consume the 3.8 Big Macs per day without picking up weight? It is most likely that your heavier friend are consuming more energy while sitting and reading. So when quantifying human energy expenditure rates the Watt unit ($\\frac{energy}{time}$) has its limitations since humans differ in size. To improve the quantification, we should use a **BASIS** for the rate. Human size differences are accurately quantified by weight, so it is not a bad idea to rather define energy expenditure rates in $\\frac{W}{kg}$ ($\\frac{energy}{time\\; mass}$). We will now have a more accurate number for both you and your friend. The number is in the vicinity of 1.5 $\\frac{W}{kg}$. There will of course be variations since our metabolisms differ from one another. If you are interested in how this number can vary depending on your activity level see this link on [cycling energy output](http://sportsscientists.com/2010/07/cycling-performance-what-is-possible/). You don’t have to read it, but an interesting figure is that Lance Armstrong were able to deliver an output of over 7 $\\frac{W}{kg}$ for 40 minutes using the [illegal substance EPO](http://www.runnersworld.com/sweat-science/how-does-epo-work). If you can produce this number you can win the Tour de France, since the top cyclists today struggle to maintain 6.2 $\\frac{W}{kg}$for 40 minutes.\n",
    "\n",
    "<img src=\"cyclist.png\" width=\"200\" />\n",
    "\n",
    "The energy expenditure number will also pop up when working with microbes. They are after all also living things who require energy to sustain life. An interesting fact is that microbes can outcompete humans by an order of magnitude when it comes to energy expenditure. Not considering the energy a microbe spends on growth, the cell maintenance energy expenditure is in the vicinity of 10 $\\frac{W}{kg}$. If the growth energy is included this number can be much higher than 100 $\\frac{W}{kg}$. Unlike humans the rate of oxygen delivery won’t be an issue and they also don’t carry a significant fraction of dead weight (like bones and fat), accordingly the microbes rule when it comes to energy generation rates!\n",
    "\n",
    "We’ll be using a **cmol of X** as our general **BASIS**  for all rates, similar to the kg unit used in the discussion above. In addition hour (h) is chosen as the time unit to quantify biological rates. We’ll formalise these cmol based rates by using the following notation:\n",
    "\n",
    "<img src=\"rate_def1.png\" width=\"180\" />\n",
    "\n",
    "\n"
   ]
  },
  {
   "cell_type": "markdown",
   "metadata": {},
   "source": [
    "## 6.2 The rate of biomass production ($\\mu$)\n",
    "\n",
    "Given the green block above, the first thing we’ll put into it is biomass itself. We are interested in the rate of biomass generation per cmol of biomass. The expression will become:\n",
    "\n",
    "<img src=\"mu1.png\" width=\"350\" />\n",
    "\n",
    "The Greek letter $\\mu$ is typically to describe this rate ($r_X^{'}=\\mu$). It is very important to fully understand the meaning of $\\mu$. It is possible to interpret $\\mu$ as a ‘biomass interest rate’. \n",
    "\n",
    "### 6.2.1 Sidetrack example on interest rate\n",
    "\n",
    "To draw the analogy, take an investment of a $1000$ dollar, with an interest rate of 12% per year. The question is how much interest will be earned after a year. Is it a mere $120$ dollar where 12% gets added after a year, or should the interest rather be calculated on a monthly basis where 1% interest will be earned in a month? This should be better since the growth of the investment is calculated more regularly and accordingly the earned interest can start to earn interest of its own. You should be able to show to yourself that if interest is calculated on a monthly basis (1% per month) the investment will be worth $1000\\times(1.01)^{12}=1126.83$ after a year, so an $126.83$ dollar increase instead of $120$ dollar. The greedy will now demand a daily calculation of interests so that the annual growth will be $1000\\times(1+\\frac{0.12}{365})^{365}-1000 = 127.48$. The super greedy will demand an instantaneous calculation of interest, so that the maximum can be earned. Doing this will result in the absolute maximum of $127.50$ dollar annual growth. The calculation is based on a continuous function, where the time differential of **the investment (x)**  is given by:\n",
    "\n",
    "$$\\frac{dx}{dt}=0.12x$$\n",
    "and thus\n",
    "$$\\frac{x(t)}{x_0}=e^{0.12t}$$  \n",
    "\n",
    "Let's calculate the value of the investment after 10 years given an instantaneous calculation of the interest. "
   ]
  },
  {
   "cell_type": "code",
   "execution_count": 1,
   "metadata": {
    "collapsed": false
   },
   "outputs": [],
   "source": [
    "import numpy as np as np\n",
    "import matplotlib.pyplot as plt\n",
    "%matplotlib inline "
   ]
  },
  {
   "cell_type": "markdown",
   "metadata": {},
   "source": [
    "Now that we've imported our libraries, we can continue with the calculation:"
   ]
  },
  {
   "cell_type": "code",
   "execution_count": 10,
   "metadata": {
    "collapsed": false
   },
   "outputs": [
    {
     "data": {
      "image/png": "[encoded data removed]",
      "text/plain": [
       "<matplotlib.figure.Figure at 0x10f022320>"
      ]
     },
     "metadata": {},
     "output_type": "display_data"
    }
   ],
   "source": [
    "interest = 0.12  # per year calculated on an instantaneous basis\n",
    "t = np.arange(0, 10, 0.1) # define time intervals from 0 to 5 hours in 0.1 hour increments\n",
    "x1 = 1000*(np.exp(interest*t))  # analytical solution to differential equation (DE)\n",
    "plt.plot(t, x1)\n",
    "plt.ylabel('Investment')\n",
    "plt.xlabel('Years')\n",
    "plt.axis([0, 10, 900, 3500])\n",
    "plt.show()"
   ]
  },
  {
   "cell_type": "markdown",
   "metadata": {},
   "source": [
    "We can determine what the investment is worth after 10 years"
   ]
  },
  {
   "cell_type": "code",
   "execution_count": 11,
   "metadata": {
    "collapsed": false
   },
   "outputs": [
    {
     "data": {
      "text/plain": [
       "3280.5136147501821"
      ]
     },
     "execution_count": 11,
     "metadata": {},
     "output_type": "execute_result"
    }
   ],
   "source": [
    "x_10 = x1[-1]  # determine the last value of the x1 array (investment after 10 years)\n",
    "x_10"
   ]
  },
  {
   "cell_type": "markdown",
   "metadata": {},
   "source": [
    "We can also perform the calculation with numerical integration. This will become the standard integration technique in this chapter since hand calculations will become harder as our formulations grow."
   ]
  },
  {
   "cell_type": "code",
   "execution_count": 12,
   "metadata": {
    "collapsed": false
   },
   "outputs": [
    {
     "data": {
      "image/png": "[encoded data removed]",
      "text/plain": [
       "<matplotlib.figure.Figure at 0x10f0fb748>"
      ]
     },
     "metadata": {},
     "output_type": "display_data"
    },
    {
     "data": {
      "text/plain": [
       "array([ 3280.51366513])"
      ]
     },
     "execution_count": 12,
     "metadata": {},
     "output_type": "execute_result"
    }
   ],
   "source": [
    "from scipy.integrate import odeint\n",
    "\n",
    "def intfun(x, t):\n",
    "       return interest*x  # define the differential equation (DE) of dx/dt =0.12x\n",
    "\n",
    "x2 = odeint(intfun, 1000, t)  # integrate the function intfun for xo=100 and returne x-values on the t array \n",
    "plt.plot(t, x2, color='red')\n",
    "plt.ylabel('Investment')\n",
    "plt.xlabel('Years')\n",
    "plt.axis([0, 10, 900, 3500])\n",
    "plt.show()\n",
    "\n",
    "x_10_2 = x2[-1]  # determine the last value of the x1 array (investment after 10 years)\n",
    "x_10_2"
   ]
  },
  {
   "cell_type": "markdown",
   "metadata": {},
   "source": [
    "Note that the answers from the two methods are identical for all practical purposes."
   ]
  },
  {
   "cell_type": "markdown",
   "metadata": {},
   "source": [
    "### 6.2.2 Back to $\\mu$\n",
    "\n",
    "If you understand instantaneous interest you understand $\\mu$. We refer to $\\mu$ as the **specific growth rate** of the organism and later we will show how this parameter is influenced by conditions in the fermenter. Using the units of $\\frac{1}{h}$ is standard for $\\mu$. When looking a $\\mu$ a few questions can be asked. The first is to calculate the **fractional hourly increase (FHI)** of biomass (or effective hourly investment). This is straightforward since: \n",
    "\n",
    "$$\\frac{dX}{dt}=\\mu X$$\n",
    "with biomass as **X** and thus:\n",
    "$$FHI=e^{\\,\\mu t}-1$$\n",
    "\n",
    "You will note that the FHI is very close to $\\mu$ if $\\mu<0.2$. For larger $\\mu$ FHI will be much larger than $\\mu$.\n",
    "\n",
    "One can also ask how long it takes to double the biomass content. The doubletime ($t_d$) can be determined as:\n",
    "\n",
    "$$t_d=\\frac{ln(2)}{\\mu}$$\n",
    "\n",
    "Typical double times vary from 1 to 7 hours, although certain _E.coli_ strains have been reported to double itself in 20 minutes."
   ]
  },
  {
   "cell_type": "markdown",
   "metadata": {},
   "source": [
    "## 6.3 Rate of ATP production\n",
    "\n",
    "The next important rate relates to energy generation. In biological terms this will be ATP production rates. It is important to realise that ATP consumption is not considered here, but given that the ATP balance always holds the total ATP consumption rate has to be equal to the total ATP production rate. When we put ATP production into the green block that defines rate an immediate distinction should be made between energy used for growth versus energy used for cell maintenance. In chapter 5 we were mostly concerned with growth ATP and not maintenance ATP. The reason for this was that growth ATP could be related to a physical carbon containing stream, the biomass stream. This is not possible for maintenance ATP since the energy is not spent to produce a carbon containing stream. It is merely the energy required for the cell to stay alive and should be expressed as a rate similar to the 1.5 $\\frac{W}{kg}$ for sitting humans. We use the parameter $\\theta$ to quantify this physiological quantity. The biomass based ATP **production rate** can now be given as:\n",
    "\n",
    "<img src=\"ratp eq.png\" width=\"550\" />\n",
    "\n",
    "You might wonder how the growth fraction of the equation above ($r_{{ATP}_G}^{'}$) is the same as $\\gamma\\mu$? Analysing the units will shed light on this:\n",
    "\n",
    "$$r_{{ATP}_G}^{'}=\\gamma\\mu\\;\\left[\\frac{mol\\,ATP}{cmol\\, X\\,produced}\\cdot\\frac{cmol\\, X\\,produced}{cmol\\, X\\,basis\\,\\cdot h}\\right]$$\n",
    "\n",
    "The units for the growth and maintenance part ($r_{{ATP}_M}^{'}$) must be the same:\n",
    "\n",
    "$$r_{{ATP}_M}^{'}=\\theta\\;\\left[\\frac{mol\\,ATP}{cmol\\, X\\cdot h}\\right]$$\n",
    "\n",
    "The ATP distribution between growth and maintenance has **a severe** effect on the overall yields obtained. You should have realised from tutorial 6-10, that the yield coefficients change if the growth based ATP balance is replaced by a zero biomass flux specification. This substitution resulted in the same amount of flux model equations, but vastly different yield coefficients. We thus have the situation where a fraction of the substrate is consumed according to the growth stoichiometry, while the remaining fraction is consumed according to the maintenance stoichiometry. We thus have to distinguish between growth yields ($Y^G$) and maintenance yields ($Y^M$). The contributions of the two ATP rates will determine how the two sets of yield coefficients should be combined to form the overall stoichiometry. The following schematic illustrates the discussion above:  \n",
    "\n",
    "<img src=\"ratp1.png\" width=\"800\" />"
   ]
  },
  {
   "cell_type": "markdown",
   "metadata": {},
   "source": [
    "Note that the growth stoichiometry will combine with the maintenance stoichiometry to form the overall (or observed) stoichiometry. The easiest way to determine the observed yield coefficients is to work with the rates of metabolite production/depletion. The schematic below shows what we are working towards. At the end of section 6.4 we'll be able to determine the observed yield coefficients.\n",
    "\n",
    "<img src=\"yields.png\" width=\"450\" />\n",
    "\n",
    "Note again that all ATP is **ATP generated** and that ATP consumption (for biomass formation) is not considered."
   ]
  },
  {
   "cell_type": "markdown",
   "metadata": {},
   "source": [
    "## 6.4 Rate of substrate/product formation\n",
    "\n",
    "We have seen in 6.3 that there is two ‘types’ of metabolisms operating, one where biomass is formed and another where biomass is not part of the stoichiometry. When we consider the substrate for example it is safe to say that a part of the substrate is consumed for the growth metabolism and the remainder for the maintenance metabolism. The same will apply to the formation of products. The distribution between these two ‘metabolisms’ will be governed by the physiological parameters $\\mu$, $\\gamma$ and $\\theta$. Note that the yield coefficients for the growth and maintenance metabolisms can be solved by applying the techniques acquired in chapter 5 so that all the $Y^G$ and $Y^M$ values are known.\n",
    "\n",
    "The biomass based rate of substrate consumption is given below. $r$ is defined as production and accordingly a minus sigh is required to indicate consumption (on either side of the equation).  \n",
    "\n",
    "$$-r_{S}^{'}=|{Y_{XS}^{G}}|\\cdot\\mu+\\frac{\\theta}{Y_{SATP}^{M}}$$\n",
    "Check the units of the given equation for consistency.\n",
    "$$\\left[\\frac{cmol\\,S}{cmol\\,X\\cdot h}=\\frac{cmol\\,S}{cmol\\,X}\\cdot\\frac{1}{h}+\\frac{mol\\,ATP}{cmol\\,X\\cdot h}\\cdot\\frac{cmol\\,S}{mol\\,ATP}\\right]        $$\n",
    "\n",
    "Important to understand that the first term relates to the growth stoichiometry and the second term to the maintenance stoichiometry, thus the usage of the different set of yield coefficients. The two terms will never be opposite in sign and for consumption reactions it is better to indicate the negative sign on the right side of the equation. Use absolute values of yield coefficients when confused.\n",
    "\n",
    "The same procedure can be followed for metabolic products:\n",
    "\n",
    "$$r_{P}^{'}={Y_{XP}^{G}}\\cdot\\mu+\\frac{\\theta}{Y_{PATP}^{M}}$$\n",
    "\n",
    "The observed yield coefficients $Y^o$ can be easily obtained by merely taking the ratios of the respective rates. This is very useful and the easiest method for calculating the overall (or observed) stoichiometry where both growth and maintenance effects contribute. For example:  \n",
    "\n",
    "$$Y_{SP}^{O}=\\frac{r_{P}^{'}}{|r_{S}^{'}|}=\n",
    "\\frac{ Y_{XP}^{G}\\cdot\\mu+\\theta\\cdot Y_{ATP\\,P}^{M}  }\n",
    "{ |Y_{XS}^{G}|\\cdot\\mu+\\theta\\cdot Y_{ATP\\,S}^{M} }\n",
    "$$\n",
    "\n",
    "The observed biomass yield can be calculated as follow:\n",
    "\n",
    "$$Y_{SX}^{O}=\\frac{r_{X}^{'}}{|r_{S}^{'}|}=\n",
    "\\frac{ \\mu  }\n",
    "{ |Y_{XS}^{G}|\\cdot\\mu+\\theta\\cdot Y_{ATP\\,S}^{M} }\n",
    "$$\n",
    "\n",
    "We can even calculate the overall yield of ATP produced on substrate:\n",
    "\n",
    "$$Y_{SATP}^{O}=\\frac{r_{ATP}^{'}}{|r_{S}^{'}|}=\n",
    "\\frac{ \\gamma \\mu+\\theta  }\n",
    "{ |Y_{XS}^{G}|\\cdot\\mu+\\theta\\cdot Y_{ATP\\,S}^{M} }\n",
    "$$\n",
    "\n"
   ]
  },
  {
   "cell_type": "markdown",
   "metadata": {},
   "source": [
    "### 6.5 Example on anaerobic ethanol fermentation\n",
    "\n",
    "For this example biomass, glycerol and ethanol is the only metabolic products. The cmol pathway map and flux model are given below.\n",
    "\n",
    "<img src=\"et1.png\" width=\"600\" />\n",
    "\n",
    "We can now generate the growth and maintenance yield coefficients using the standard estimate for the physiological paramaters\n",
    "\n",
    "($\\alpha=0.1$ and $\\beta=0.1$ due to X being $CH_{1.8}O_{0.5}N_{0.2}$)\n"
   ]
  },
  {
   "cell_type": "code",
   "execution_count": 13,
   "metadata": {
    "collapsed": false
   },
   "outputs": [
    {
     "data": {
      "text/plain": [
       "matrix([[ 0.14084507],\n",
       "        [ 0.84507042],\n",
       "        [ 0.04225352],\n",
       "        [ 0.8028169 ],\n",
       "        [ 0.53521127]])"
      ]
     },
     "execution_count": 13,
     "metadata": {},
     "output_type": "execute_result"
    }
   ],
   "source": [
    "import numpy as np\n",
    "Sg = np.matrix([[1.1, 1, 0, 0, 0],     # Sg is the growth stoich matrix\n",
    "                   [0, -1, 1, 1, 0],\n",
    "                   [0, 0, 0, 2/3, -1],\n",
    "                   [0.1, 0, -1/3, 2/3, -1],\n",
    "                   [-1.8, -1/3, 0, 2/3, 0]])\n",
    "\n",
    "C = np.matrix([1, 0, 0, 0, 0]).T\n",
    "Yg = np.linalg.solve(Sg, C)        # growth yield coefficients\n",
    "Sm = Sg.copy()\n",
    "Sm[4] = np.matrix([1, 0, 0, 0, 0])  # replace the energy balance 'row' with a X=0 spec (for maintenance calc)\n",
    "Ym = np.linalg.solve(Sm, C)\n",
    "Yg"
   ]
  },
  {
   "cell_type": "markdown",
   "metadata": {},
   "source": [
    "We can easily calculate $Y_{S\\,ATP}^{G}$, $Y_{S\\,ATP}^{M}$,$Y_{SC}^{G}$ and $Y_{SC}^{M}$   "
   ]
  },
  {
   "cell_type": "code",
   "execution_count": 14,
   "metadata": {
    "collapsed": false
   },
   "outputs": [
    {
     "name": "stdout",
     "output_type": "stream",
     "text": [
      "Ysatp_g = 0.253521126761\n"
     ]
    }
   ],
   "source": [
    "Ysatp_g = -1/3*Yg[1] + 2/3*Yg[3]  # all streams except biomass to obtain effective ATP production\n",
    "#Ysatp_g = 1.8*Yg[0]           # ATP spent on biomass production with substrate basis\n",
    "Ysatp_m = -1/3*Ym[1] + 2/3*Ym[3]\n",
    "Ysc_g = 0.1*Yg[0] + 1/3*Yg[3]\n",
    "Ysc_m = 1/3*Ym[3]\n",
    "print(\"Ysatp_g =\", Ysatp_g[0, 0]) # Although just a single element Ysatp is still of kind matrix"
   ]
  },
  {
   "cell_type": "markdown",
   "metadata": {},
   "source": [
    "Make sure you understand the code above and that the following can be written for growth:\n",
    "\n",
    "$$Gluc\\to0.141X+0.042Gly+0.535Et+0.281CO_2+0.254\\,ATP$$"
   ]
  },
  {
   "cell_type": "markdown",
   "metadata": {},
   "source": [
    "Also, the maintenance stoichiometry will be given by:"
   ]
  },
  {
   "cell_type": "code",
   "execution_count": 15,
   "metadata": {
    "collapsed": false
   },
   "outputs": [
    {
     "data": {
      "text/plain": [
       "matrix([[  0.00000000e+00],\n",
       "        [  1.00000000e+00],\n",
       "        [  2.22044605e-16],\n",
       "        [  1.00000000e+00],\n",
       "        [  6.66666667e-01]])"
      ]
     },
     "execution_count": 15,
     "metadata": {},
     "output_type": "execute_result"
    }
   ],
   "source": [
    "Ym"
   ]
  },
  {
   "cell_type": "markdown",
   "metadata": {},
   "source": [
    "$$Gluc \\to\\frac{2}{3}Et+\\frac{1}{3}CO_2+\\frac{1}{3}\\,ATP$$"
   ]
  },
  {
   "cell_type": "markdown",
   "metadata": {},
   "source": [
    "We are not ready to model bioreactors yet but let's assume for now that growth is occuring at $\\mu=0.3 \\frac{1}{h}$ and that $\\theta$  for _S.cerevisiae_ is $0.15 \\frac{mol\\,ATP}{cmol\\,X\\cdot h}$. The observed (or overall yields) can now be determined. \n",
    "\n",
    "We can reprint the equations above:\n",
    "\n",
    "\n",
    "$$Y_{SP}^{O}=\\frac{r_{P}^{'}}{|r_{S}^{'}|}=\n",
    "\\frac{ Y_{XP}^{G}\\cdot\\mu+\\theta\\cdot Y_{ATP\\,P}^{M}  }\n",
    "{ |Y_{XS}^{G}|\\cdot\\mu+\\theta\\cdot Y_{ATP\\,S}^{M} }\n",
    "$$\n",
    "\n",
    "\n",
    "$$Y_{SX}^{O}=\\frac{r_{X}^{'}}{|r_{S}^{'}|}=\n",
    "\\frac{ \\mu  }\n",
    "{ |Y_{XS}^{G}|\\cdot\\mu+\\theta\\cdot Y_{ATP\\,S}^{M} }\n",
    "$$\n",
    "\n",
    "$$Y_{SATP}^{O}=\\frac{r_{ATP}^{'}}{|r_{S}^{'}|}=\n",
    "\\frac{ \\gamma \\mu+\\theta  }\n",
    "{ |Y_{XS}^{G}|\\cdot\\mu+\\theta\\cdot Y_{ATP\\,S}^{M} }\n",
    "$$\n",
    "\n",
    "\n"
   ]
  },
  {
   "cell_type": "code",
   "execution_count": 16,
   "metadata": {
    "collapsed": false
   },
   "outputs": [
    {
     "name": "stdout",
     "output_type": "stream",
     "text": [
      "Yse_o = 0.558139534884\n"
     ]
    }
   ],
   "source": [
    "mu = 0.3\n",
    "theta = 0.15\n",
    "Yxe_g = Yg[4]/Yg[0]\n",
    "Yxs_g = 1/Yg[0]\n",
    "Yatpe_m = Ym[4]/Ysatp_m\n",
    "Yatps_m = 1/Ysatp_m\n",
    "re_prime = Yxe_g*mu + Yatpe_m*theta\n",
    "rs_prime = Yxs_g*mu + Yatps_m*theta\n",
    "Yse_o = re_prime/rs_prime\n",
    "\n",
    "print(\"Yse_o =\", Yse_o[0, 0])"
   ]
  },
  {
   "cell_type": "markdown",
   "metadata": {},
   "source": [
    "We now know have the overall (observed) yield coeffisient of ethanol. We can repeat the same procedure for the other products. Alternatively we can define a fraction $z$ such that the addition of the two metabolisms result in:\n",
    "\n",
    "$$(z) Gluc\\to (z) 0.141X+(z) 0.042Gly+(z) 0.535Et+(z) 0.281CO_2+(z) 0.254\\,ATP$$\n",
    "$$(1-z) Gluc \\to(1-z) \\frac{2}{3}Et+(1-z) \\frac{1}{3}CO_2+(1-z) \\frac{1}{3}\\,ATP$$\n",
    "* * * \n",
    "$$ Gluc\\to Y_{SX}^O X+ Y_{SG}^OGly+Y_{SE}^OEt+Y_{SC}^OCO_2+Y_{SATP}^OATP$$\n"
   ]
  },
  {
   "cell_type": "markdown",
   "metadata": {},
   "source": [
    "Given the calculated $Y_{SE}^O$ above we can calculate $z$. In general $z$ is defined as the substrate fraction spent on growth and can be defined as: \n",
    "\n",
    "$$z=\\frac{|Y_{XS}^{G}|\\cdot\\mu}{|Y_{XS}^{G}|\\cdot\\mu+\\theta\\cdot Y_{ATP\\,S}^{M}}$$\n",
    "\n",
    "Thus the observed yield coeffisients $Y^O$ can be calculated as:\n",
    "\n",
    "$$ Y_{Si}^O=zY_{Si}^G+(1-z)Y_{Si}^M $$\n",
    "\n",
    "\n"
   ]
  },
  {
   "cell_type": "code",
   "execution_count": 17,
   "metadata": {
    "collapsed": false
   },
   "outputs": [
    {
     "data": {
      "text/plain": [
       "matrix([[ 0.11627907],\n",
       "        [ 0.87209302],\n",
       "        [ 0.03488372],\n",
       "        [ 0.8372093 ],\n",
       "        [ 0.55813953]])"
      ]
     },
     "execution_count": 17,
     "metadata": {},
     "output_type": "execute_result"
    }
   ],
   "source": [
    "z = Yxs_g*mu/(Yxs_g*mu + Yatps_m*theta)\n",
    "z = z[0,0]   # making a 'scalar' of the single element matrix\n",
    "Yo = z*Yg + (1 - z)*Ym   # an array calculation (5 seperate times)\n",
    "Yo"
   ]
  },
  {
   "cell_type": "markdown",
   "metadata": {},
   "source": [
    "So we have $Y_{SE}^O$ , $Y_{SG}^O$ and $Y_{SX}^O$. You should understand that 17% of the glucose is spent on cell maintenance. "
   ]
  },
  {
   "cell_type": "markdown",
   "metadata": {},
   "source": [
    "Now, you have all the background to model a bioreactor, finally!\n",
    "-------------\n",
    "\n",
    "\n",
    "<img src=\"tdf.png\" width=\"500\" />"
   ]
  },
  {
   "cell_type": "code",
   "execution_count": null,
   "metadata": {
    "collapsed": true
   },
   "outputs": [],
   "source": []
  }
 ],
 "metadata": {
  "kernelspec": {
   "display_name": "Python 3",
   "language": "python",
   "name": "python3"
  },
  "language_info": {
   "codemirror_mode": {
    "name": "ipython",
    "version": 3
   },
   "file_extension": ".py",
   "mimetype": "text/x-python",
   "name": "python",
   "nbconvert_exporter": "python",
   "pygments_lexer": "ipython3",
   "version": "3.5.1"
  }
 },
 "nbformat": 4,
 "nbformat_minor": 0
}
