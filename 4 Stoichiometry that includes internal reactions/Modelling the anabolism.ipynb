{
 "cells": [
  {
   "cell_type": "markdown",
   "metadata": {},
   "source": [
    "## 4. Stoichiometry that includes internal reactions\n",
    "\n",
    "So we know now that biomass can be presented as a ‘molecule’ when we do cmol balances instead of mole balances. We also know how to use carbon, oxygen, hydrogen and nitrogen balances to determine stoichiometric or yield coefficients. It has been shown that we can exclude water from the calculations by doing a degree of reduction (DOR) balance instead of a hydrogen and oxygen balance. It should be evident from examples with numerous excretion products that additional specifications (equations) are required to solve for the overall stoichiometry. This chapter is about obtaining extra fundamental equations for describing the overall stoichiometry. The energy or ATP balance stands at the core of this chapter. \n",
    "\n",
    "In order to get more equations we need to consider what is happening within the cell. Unfortunately we won’t be able to model all the reactions occurring within a cell because there are millions of them, we will however be able to model a few, specifically the catabolic breakdown reactions where almost all ATP gets generated. The chapter 2 biochemistry will thus be utilised in this chapter. It is very important to understand that the final aim is to predict the overall (uptake and excretion) stoichiometry. We will have to include some internal rates to extend our prediction capability of the overall stoichiometry. In mathematical terms one can say that we’ll be generating more equations to solve for more overall yield coefficients. Less specifications will then be required. The following drawing might be useful:\n",
    "\n",
    "<img src=\"specgone.jpg\" width=\"650\" />\n",
    "\n",
    "The two special molecules extensively used in this chapter is ATP and NADH. We’ll be performing a balance on both of these molecules. These molecules are unique in the sense that they never get excreted from the cell. Whatever is produced in the cell, need to be consumed within the cell. The complex molecules of ATP and NADH are part of the biomass and we won’t consider their molecular structure in our calculations. We will consider ATP as a mere energy storage molecule, where the uptake of a phosphate group by ADP is an energy consumption step. ATP should rather be seen as an energy unit that needs to be spent within the cell since all energy generated via ATP should be used by the cell. In a similar manner NADH can be seen as an electron (and proton) carrier. All electrons picked up by NADH should be used elsewhere in the cell. There can thus be no NADH build-up within the cell.\n",
    "\n",
    "We’ll start this chapter by considering the anabolism. Anabolism is the making of biomass molecules. We’ll use the overall approach of chapter 3 to model the million anabolic reactions as a single reaction. Although an overall approach will be used it is imperative to understand that the overall anabolic reaction does not represent the overall reaction of the cell. It should rather be seen as a *half reaction*, similar to an redox half reaction. In the anabolic overall half reaction ATP and NADH are considered as reagents/products just like electrons are considered as reagents/products in redox half reactions. The internal products of ATP and NADH thus has to be balanced by alternative reactions happening within the cell. These reactions can be grouped into the catabolic reactions and the maintenance reactions. The catabolic reactions will be covered in detail, where all ATP production reaction steps will be separately modelled. Maintenance will only be considered as an energy sink (ATP consumption) and similar to the anabolism no specific reactions will be considered.\n",
    "\n",
    "[Video: Lecture 4 Anabolism, catabolism and maintenance](http://www.youtube.com/watch?v=vdbLzvZefuI) \n",
    "\n"
   ]
  },
  {
   "cell_type": "markdown",
   "metadata": {},
   "source": [
    "## Modelling the anabolism\n",
    "\n",
    "<img src=\"432.png\" width=\"850\" />\n",
    "\n",
    "Biomass can be made from a carbon substrate and a nitrogen source (and micro quantities of essential elements like phosphor, magnesium, sulphur etc. but these will not be considered in the calculation). We’ll use glucose and ammonia ($NH_3$) as the simplest substrates and assume that all amino acids and vitamins can be synthesised by the organism. Given this the following equation can be used to describe biomass formation:\n",
    "\n",
    "\n",
    "\n",
    "\n",
    "\n",
    "$$ Y_{XS} CH_2O+Y_{XN} NH_3 + \\gamma ATP \\to X + \\alpha CO_2 + \\beta NADH + Y_{XW} H_2 O $$\n",
    "\n",
    "\n",
    "\n",
    "\n",
    "\n",
    "Note that unlike our previous examples, biomass (instead of glucose) is used as the basis (the coefficient before X is chosen to be 1). Due to the new basis the notation of the yield coeffisients are different. For this analysis we'll consider **NADPH** (used in the anabolism) to be identical to **NADH**. It is well established that $CO_2$ is formed when biomass is synthesized and we use the parameter $\\alpha$ to quantify the amount. A typical value for $\\alpha$ is 0.1.\n",
    "\n",
    "It is possible to perform the elemental balances on this half reaction. **NADH** can be considered as $H_2$ since only the two protons and two electrons are part of the overall chemistry. **ATP** is only an energy unit and won't contribute to the elemental balance. Let's opt for a degree of reduction ($DOR$) balance and exclude water in the calculation, the following can be obtained if the generic formula for biomass is used ($CH_{1.8}O_{0.5}N_{0.2}$):\n",
    "\n",
    "\n",
    "\n",
    "\n",
    "$$\\begin{bmatrix}-1&0 & 1 & 1&0\\\\-4&0&4.2&0&2\\\\0&-1&0.2&0&0\\\\0&0&1&0&0\\\\0&0&0&1&0\\end{bmatrix}\\times\\begin{bmatrix}-r_s\\\\-r_N\\\\r_{X}\\\\r_C\\\\r_{NADH}\\end{bmatrix}=\\begin{bmatrix}0\\\\0\\\\0\\\\1\\\\ \\alpha \\end{bmatrix}$$\n",
    "\n",
    "\n",
    "\n",
    "The solution to the above formulation will result in $\\beta=0.1$ if $\\alpha=0.1$. **Prove this to yourself and also do a full hydrogen and oxygen balance to confirm the same answer.**\n",
    "\n",
    "The yield coefficient $\\gamma$ represents a fundamental physiological property of the organism. Values of $\\gamma$ are in the range of 1.8 $\\frac{mol ATP}{cmol X}$ for anaerobic conditions and in the range of 2.5 $\\frac{mol ATP}{cmol X}$ for aerobic conditions.\n",
    "\n",
    "[Back to Contents page](https://nbviewer.jupyter.org/github/willienicol/Biochemical-engineering-notes/blob/master/List%20of%20contents.ipynb)\n",
    "\n"
   ]
  },
  {
   "cell_type": "code",
   "execution_count": null,
   "metadata": {
    "collapsed": true
   },
   "outputs": [],
   "source": []
  }
 ],
 "metadata": {
  "kernelspec": {
   "display_name": "Python 3",
   "language": "python",
   "name": "python3"
  },
  "language_info": {
   "codemirror_mode": {
    "name": "ipython",
    "version": 3
   },
   "file_extension": ".py",
   "mimetype": "text/x-python",
   "name": "python",
   "nbconvert_exporter": "python",
   "pygments_lexer": "ipython3",
   "version": "3.6.1"
  }
 },
 "nbformat": 4,
 "nbformat_minor": 1
}
