{
 "cells": [
  {
   "cell_type": "markdown",
   "metadata": {},
   "source": [
    "## Aerobic systems\n",
    "\n",
    "When oxygen is available energy is in abundance. A mole of glucose can result in more than 20 mols of ATP (depending on the $P/O$ ratios) through respiration, while the standard anaerobic catabolism of lactic acid and ethanol formation only gives one 2 moles of ATP per mole of glucose. During respiration the carbon backbone of glucose is destroyed since the only $CO_2$ and $H_2O$ forms. This stands in contrast with anaerobic systems where sections of the carbon backbone is excreted from the cell and regularly used as commercial chemicals (ethanol, lactic acid, succinic acid, acetic acid etc.). For some aerobic processes biomass itself is the product like the _Saccharomyces cerevisiae_ example of [tutorial 3.2](https://nbviewer.jupyter.org/github/willienicol/Biochemical-engineering-notes/blob/master/Tutorials/Tut%203.2.ipynb). But apart from making biomass, is it possible to make other molecules when the catabolism only results in the formation of $CO_2$ and $H_2O$?\n",
    "\n",
    "The answer is a definite yes. Most commercial fermentation processes employ aerobes where oxygen is sparged through the bioreactor. In all of these systems a major part of the carbon flux is directed to molecules with a carbon skeleton. Examples of these include organic acids like citric, fumaric and malic acid, alcohols like propane diol, amino acids like glutamate and lysine, proteins like insulin and cellulase and various other commercial chemicals. These biochemicals cannot be seen as ‘true’ catabolites, since their production is typically not associated with ATP production. We will however consider the metabolic pathways for producing these chemicals as part of the catabolism that we model. Some reactions might require ATP and will be directly considered in the ATP balance. For these scenarios respiration will fuel the ATP requirements of the anabolism and the energy hungry catabolic reactions. The principles of metabolic flux modelling discussed in [section 4.2](https://nbviewer.jupyter.org/github/willienicol/Biochemical-engineering-notes/blob/master/4%20Stoichiometry%20that%20includes%20internal%20reactions/Main%20fermentative%20pathways.ipynb) will apply directly. \n",
    "\n",
    "But why does these molecules get produced if ATP generation is not the objective. The answer to this question lies in the organism’s interaction with its environment and fellow competitors. In most scenarios the excreted product performs an extracellular function that favours the survival of the organism. For example, extracellular fungal enzymes or exoenzymes are used to break complex macromolecules like cellulose into digestible glucose units. The enzymes are thus used to prepare the food to the organism on the outside. Another example is the excretion of organic acids by some fungi. This creates a low pH environment that the organism is more adapted to and hence it has a growth advantage over other competing organisms.\n",
    "\n",
    "Whatever the metabolism of these organism entail, oxygen is used to generate ATP in an efficient manner. It also ‘digest’ excess NADH formed in some of these processes. In order to model the metabolic flux distributions of these systems, oxidative phosphorylation need to be included into the flux model. This can be done by defining a molar oxygen rate within the flux model:\n",
    "\n",
    "<img src=\"OP1.png\" width=\"400\" />\n",
    "\n",
    "This is merely the representation of the equation we had in [chapter 2](https://nbviewer.jupyter.org/github/willienicol/Biochemical-engineering-notes/blob/master/2%20Basic%20biochemistry/Basic%20Biochemistry.ipynb):\n",
    "\n",
    "$$2NADH+O_2→2(P⁄O)_{NADH} ATP+2H_2 O$$"
   ]
  },
  {
   "cell_type": "markdown",
   "metadata": {},
   "source": [
    "We will now return to the _Saccharomyces cerevisiae_ example ([tutorial 3.2](https://nbviewer.jupyter.org/github/willienicol/Biochemical-engineering-notes/blob/master/Tutorials/Tut%203.2.ipynb)) where biomass production is considered. The full TCA model will be performed for this example. After the example it will be shown that respiration can be reduced to a much simpler flux model. The reason for the detail modelling of the TCA cycle is to provide a tool for handling scenarios where TCA intermediates (or metabolites a few enzymatic steps away from a TCA intermediate) are considered as excretion products. Numerous commercial fermentation products originates from TCA cycle intermediates.\n",
    "\n",
    "The cmol flux diagram of are given by the following:\n",
    "\n",
    "<img src=\"TCA.png\" width=\"800\" />\n",
    "\n",
    "***Flux model of the TCA cycle in conjunction with cell growth*** *Glu - glucose, X - biomass, Pyr - pyruvate, AcCoA - acetyl-CoA, Cit  -citrate, $\\alpha$-Ket - $\\alpha$-ketoglutarate, Su-CoA - succinyl-CoA, OXA - oxaloacetate*\n",
    "\n",
    "Take note of the following:\n",
    "* Blue nodes giving stoichiometric nodes\n",
    "* All rates have units of $\\frac{\\text{cmol/mol i}}{\\text{cmol X}\\cdot\\text{h}}$\n",
    "* Pyruvate oxidation occurs via pyruvate dehydrogenase (PDH)\n",
    "* $r_6$ represents a four carbon molecule joining up with a two carbon molecule ($r_3$) to result in a six carbon molecule ($r_4$) and thus equation 4.\n",
    "*  Equation 5a substituted into equation 5b results in equation 4. Accordingly either 5a or 5b should be specified to have a linear independent set of equations.\n",
    "*\tThe transition in the cycle from $C_6$ to $C_5$ to $C_4$, where carbon is lost via $CO_2$ formation. The last stoichiometric balances reflect these transitions.\n",
    "*\tThe $\\frac{1}{2}$ NADH on $v_6$ is two separate oxidation steps ($2\\times\\frac{1}{4}$) in the cycle where FADH is considered as NADH.\n",
    "*\tThe GTP formed in the cycle is considered as ATP.\n",
    "*\tOxidative phosphorylation is reflected in the ATP and NADH balance by using the oxygen flux as reference. The $(P/O)$ is specified as 1.5.\n",
    "*   The growth rate ($\\mu$) as basis specification. \n",
    "\n",
    "The flux model does not solve for the total $CO_2$ produced. We can include an additional rate ($r_{CO_2}$) and an additional equation to address the issue. The equation will be as follow:\n",
    "\n",
    "$$r_{CO_2}=r_8=\\alpha r_1+\\frac{1}{2}r_3+\\frac{1}{5}r_5+\\frac{1}{4}r_6$$\n",
    "\n",
    "Given 9 equations for 9 rates ($CO_2$ included) the system is fully specified. The formulation can easily be solved by the matrix method. Like before we'll choose $\\alpha=0.1 \\frac{\\text{mol}\\,CO_2}{\\text{cmol X}}$ and work out $\\beta=0.1\\frac{\\text{mol NADH}}{\\text{cmol X}}$ given that biomass is given as $CH_{1.8}O_{0.5}N_{0.2}$. We'll further define $\\gamma=2.5\\frac{\\text{mol ATP}}{\\text{cmol X}}$, $\\theta=0.1 \\frac{\\text{mol ATP}}{\\text{mol X}\\cdot \\text{h}}$ and $\\mu =0.25 \\frac{1}{\\text{h}}$. Since this is a big matrix let's opt for Excel to define the define the stoichiometric matrix. It is much easier when columns are clearly defined: \n"
   ]
  },
  {
   "cell_type": "markdown",
   "metadata": {},
   "source": [
    "The stoichiometric matrix in Excel will look like this:\n",
    "\n",
    "<img src=\"TCA_excel.png\" width=\"700\" />\n",
    "\n",
    "We can easily solve for the formulation in Excel. [This video will show you how](https://www.youtube.com/watch?v=vLsouen-G8M)\n",
    "\n",
    "Alternatively, we can import the Excel formulation into Python. Note that the **pandas** tool will import from the first sheet in the specified Excel file."
   ]
  },
  {
   "cell_type": "code",
   "execution_count": 39,
   "metadata": {},
   "outputs": [
    {
     "data": {
      "text/html": [
       "<div>\n",
       "<table border=\"1\" class=\"dataframe\">\n",
       "  <thead>\n",
       "    <tr style=\"text-align: right;\">\n",
       "      <th></th>\n",
       "      <th>0</th>\n",
       "      <th>1</th>\n",
       "      <th>2</th>\n",
       "      <th>3</th>\n",
       "      <th>4</th>\n",
       "      <th>5</th>\n",
       "      <th>6</th>\n",
       "      <th>7</th>\n",
       "      <th>8</th>\n",
       "    </tr>\n",
       "  </thead>\n",
       "  <tbody>\n",
       "    <tr>\n",
       "      <th>0</th>\n",
       "      <td>-1</td>\n",
       "      <td>1.1</td>\n",
       "      <td>1.000000</td>\n",
       "      <td>0.0</td>\n",
       "      <td>0.000000</td>\n",
       "      <td>0.0</td>\n",
       "      <td>0.00</td>\n",
       "      <td>0</td>\n",
       "      <td>0</td>\n",
       "    </tr>\n",
       "    <tr>\n",
       "      <th>1</th>\n",
       "      <td>0</td>\n",
       "      <td>0.0</td>\n",
       "      <td>0.000000</td>\n",
       "      <td>1.0</td>\n",
       "      <td>-1.000000</td>\n",
       "      <td>0.0</td>\n",
       "      <td>1.00</td>\n",
       "      <td>0</td>\n",
       "      <td>0</td>\n",
       "    </tr>\n",
       "    <tr>\n",
       "      <th>2</th>\n",
       "      <td>0</td>\n",
       "      <td>0.0</td>\n",
       "      <td>-0.666667</td>\n",
       "      <td>1.0</td>\n",
       "      <td>0.000000</td>\n",
       "      <td>0.0</td>\n",
       "      <td>0.00</td>\n",
       "      <td>0</td>\n",
       "      <td>0</td>\n",
       "    </tr>\n",
       "    <tr>\n",
       "      <th>3</th>\n",
       "      <td>0</td>\n",
       "      <td>0.0</td>\n",
       "      <td>0.000000</td>\n",
       "      <td>0.0</td>\n",
       "      <td>-0.666667</td>\n",
       "      <td>0.0</td>\n",
       "      <td>1.00</td>\n",
       "      <td>0</td>\n",
       "      <td>0</td>\n",
       "    </tr>\n",
       "    <tr>\n",
       "      <th>4</th>\n",
       "      <td>0</td>\n",
       "      <td>0.0</td>\n",
       "      <td>0.000000</td>\n",
       "      <td>0.0</td>\n",
       "      <td>-0.833333</td>\n",
       "      <td>1.0</td>\n",
       "      <td>0.00</td>\n",
       "      <td>0</td>\n",
       "      <td>0</td>\n",
       "    </tr>\n",
       "    <tr>\n",
       "      <th>5</th>\n",
       "      <td>0</td>\n",
       "      <td>0.1</td>\n",
       "      <td>0.333333</td>\n",
       "      <td>0.5</td>\n",
       "      <td>0.000000</td>\n",
       "      <td>0.2</td>\n",
       "      <td>0.75</td>\n",
       "      <td>-2</td>\n",
       "      <td>0</td>\n",
       "    </tr>\n",
       "    <tr>\n",
       "      <th>6</th>\n",
       "      <td>0</td>\n",
       "      <td>-2.5</td>\n",
       "      <td>0.333333</td>\n",
       "      <td>0.0</td>\n",
       "      <td>0.000000</td>\n",
       "      <td>0.0</td>\n",
       "      <td>0.25</td>\n",
       "      <td>3</td>\n",
       "      <td>0</td>\n",
       "    </tr>\n",
       "    <tr>\n",
       "      <th>7</th>\n",
       "      <td>0</td>\n",
       "      <td>1.0</td>\n",
       "      <td>0.000000</td>\n",
       "      <td>0.0</td>\n",
       "      <td>0.000000</td>\n",
       "      <td>0.0</td>\n",
       "      <td>0.00</td>\n",
       "      <td>0</td>\n",
       "      <td>0</td>\n",
       "    </tr>\n",
       "    <tr>\n",
       "      <th>8</th>\n",
       "      <td>0</td>\n",
       "      <td>0.1</td>\n",
       "      <td>0.000000</td>\n",
       "      <td>0.5</td>\n",
       "      <td>0.000000</td>\n",
       "      <td>0.2</td>\n",
       "      <td>0.25</td>\n",
       "      <td>0</td>\n",
       "      <td>-1</td>\n",
       "    </tr>\n",
       "  </tbody>\n",
       "</table>\n",
       "</div>"
      ],
      "text/plain": [
       "   0    1         2    3         4    5     6  7  8\n",
       "0 -1  1.1  1.000000  0.0  0.000000  0.0  0.00  0  0\n",
       "1  0  0.0  0.000000  1.0 -1.000000  0.0  1.00  0  0\n",
       "2  0  0.0 -0.666667  1.0  0.000000  0.0  0.00  0  0\n",
       "3  0  0.0  0.000000  0.0 -0.666667  0.0  1.00  0  0\n",
       "4  0  0.0  0.000000  0.0 -0.833333  1.0  0.00  0  0\n",
       "5  0  0.1  0.333333  0.5  0.000000  0.2  0.75 -2  0\n",
       "6  0 -2.5  0.333333  0.0  0.000000  0.0  0.25  3  0\n",
       "7  0  1.0  0.000000  0.0  0.000000  0.0  0.00  0  0\n",
       "8  0  0.1  0.000000  0.5  0.000000  0.2  0.25  0 -1"
      ]
     },
     "execution_count": 39,
     "metadata": {},
     "output_type": "execute_result"
    }
   ],
   "source": [
    "import pandas, numpy\n",
    "pandas.read_excel('TCA_example.xlsx')"
   ]
  },
  {
   "cell_type": "markdown",
   "metadata": {},
   "source": [
    "It is possible to define a matrix in Python from the Excel file. Note that the first row and column defined in Excel (in colour peach) will not form part of the imported matrix. Let's import and solve the formulation:"
   ]
  },
  {
   "cell_type": "code",
   "execution_count": 40,
   "metadata": {},
   "outputs": [
    {
     "data": {
      "text/plain": [
       "matrix([[ 0.4625],\n",
       "        [ 0.25  ],\n",
       "        [ 0.1875],\n",
       "        [ 0.125 ],\n",
       "        [ 0.375 ],\n",
       "        [ 0.3125],\n",
       "        [ 0.25  ],\n",
       "        [ 0.2   ],\n",
       "        [ 0.2125]])"
      ]
     },
     "execution_count": 40,
     "metadata": {},
     "output_type": "execute_result"
    }
   ],
   "source": [
    "M = numpy.matrix(pandas.read_excel('TCA_example.xlsx'))\n",
    "mu,theta=0.25,0.1\n",
    "C = numpy.matrix([[0,0,0,0,0,0,theta,mu,0]]).T\n",
    "r = numpy.linalg.solve(M,C)\n",
    "r   \n"
   ]
  },
  {
   "cell_type": "markdown",
   "metadata": {},
   "source": [
    "Let's immediately check for mass balance consistency by performing the overall balance of tutorial 3.2. Note the inclusion of $NH_3$ and the oxygen rate specification from the previous answer. "
   ]
  },
  {
   "cell_type": "code",
   "execution_count": 42,
   "metadata": {},
   "outputs": [
    {
     "data": {
      "text/plain": [
       "matrix([[ 0.4625],\n",
       "        [ 0.05  ],\n",
       "        [ 0.2   ],\n",
       "        [ 0.25  ],\n",
       "        [ 0.2125],\n",
       "        [ 0.3125]])"
      ]
     },
     "execution_count": 42,
     "metadata": {},
     "output_type": "execute_result"
    }
   ],
   "source": [
    "rO2=r[7,0].tolist()  #oxygen rate\n",
    "S = numpy.matrix([[-1,0,0,1,1,0],\n",
    "                  [-2,-3,0,1.8,0,2],\n",
    "                  [-1,0,-2,0.5,2,1],\n",
    "                  [0,-1,0,0.2,0,0],\n",
    "                  [0,0,0,1,0,0],\n",
    "                  [0,0,1,0,0,0]])\n",
    "        \n",
    "C2 = numpy.matrix([[0,0,0,0,mu,rO2]]).T\n",
    "r2 = numpy.linalg.solve(S,C2)\n",
    "r2      "
   ]
  },
  {
   "cell_type": "markdown",
   "metadata": {},
   "source": [
    "The uptake and excretion rates are exactly the same. **Make sure you agree with this statement!** We have taken a long route to include the additional equation given by the ATP balance. This is why one specification was required when solving for the elemental balances. See the following video for an alternative view of what the previous calculation was about:\n",
    "\n",
    "[Video: Lecture 8 Extra equations](https://youtu.be/OdbcdI1lUhI)\n"
   ]
  },
  {
   "cell_type": "markdown",
   "metadata": {},
   "source": [
    "### Simplification of respiration\n",
    "\n",
    "The full TCA model is useful since the steady state internal rates (not excreted) are quantified. When TCA cycle intermediates are excreted the full TCA cycle model needs to be used. However, if the sole purpose of the TCA cycle is to provide NADH for oxidative phosphorylation, the flux model can be significantly reduced. The following simplified model should give the same as the model above:\n",
    "\n",
    "<img src=\"TCA2.png\" width=\"650\" />\n",
    "\n",
    "Note that the $\\frac{2}{3}$ATP in the respiration flux ($r_2$) is $\\frac{2}{3}$ATP from glycolysis and $\\frac{2}{3}$ATP from pyruvate oxidation via pyruvate dehydrogenase. The $(P/O)$ value remains at 1.5.\n",
    "\n",
    "Let’s confirm if we get the same answer:\n"
   ]
  },
  {
   "cell_type": "code",
   "execution_count": 43,
   "metadata": {},
   "outputs": [
    {
     "data": {
      "text/plain": [
       "matrix([[ 0.4625],\n",
       "        [ 0.25  ],\n",
       "        [ 0.1875],\n",
       "        [ 0.2   ]])"
      ]
     },
     "execution_count": 43,
     "metadata": {},
     "output_type": "execute_result"
    }
   ],
   "source": [
    "alpha=0.1\n",
    "beta=0.1   # Can be calculated - see section 4.1\n",
    "gamma=2.5\n",
    "mu,theta = 0.25, 0.1\n",
    "\n",
    "S = numpy.matrix([[-1,(1+alpha),1,0],\n",
    "[0,beta,2,-2],\n",
    "[0,-gamma, 2/3,3],                  \n",
    "[0,1,0,0]])\n",
    "        \n",
    "C = numpy.matrix([[0,0,theta,mu]]).T\n",
    "Y = numpy.linalg.solve(S,C)\n",
    "Y      "
   ]
  },
  {
   "cell_type": "markdown",
   "metadata": {},
   "source": [
    "Exactly the same. Definitely the simplest solution to aerobic growth of _S. cerevisiae_. \n",
    "\n",
    "<img src=\"simplify.jpg\" width=\"450\" />\n",
    "\n",
    "[Back to Contents page](https://nbviewer.jupyter.org/github/willienicol/Biochemical-engineering-notes/blob/master/List%20of%20contents.ipynb)\n"
   ]
  },
  {
   "cell_type": "code",
   "execution_count": null,
   "metadata": {
    "collapsed": true,
    "jupyter": {
     "outputs_hidden": true
    }
   },
   "outputs": [],
   "source": []
  }
 ],
 "metadata": {
  "kernelspec": {
   "display_name": "Python 3",
   "language": "python",
   "name": "python3"
  },
  "language_info": {
   "codemirror_mode": {
    "name": "ipython",
    "version": 3
   },
   "file_extension": ".py",
   "mimetype": "text/x-python",
   "name": "python",
   "nbconvert_exporter": "python",
   "pygments_lexer": "ipython3",
   "version": "3.7.6"
  }
 },
 "nbformat": 4,
 "nbformat_minor": 4
}
