{
 "cells": [
  {
   "cell_type": "markdown",
   "metadata": {},
   "source": [
    "# Biochemical Engineering (CBI 310)\n",
    "\n",
    "### 1. Introduction and bio basics\n",
    "\n",
    "* [Introduction and bio basics](https://nbviewer.jupyter.org/github/willienicol/Biochemical-engineering-notes/blob/master/Introduction%20and%20bio%20background/Intro%20and%20bio%20background.ipynb)\n",
    "\n",
    "### 2. Basic biochemistry\n",
    "* [Basic biochemistry](https://nbviewer.jupyter.org/github/willienicol/Biochemical-engineering-notes/blob/master/2%20Basic%20biochemistry/Basic%20Biochemistry.ipynb) \n",
    "\n",
    "### 3. Stoichiometry without internal reactions\n",
    "\n",
    "* [3.1 Defining rates and yields and balancing equations](https://nbviewer.jupyter.org/github/willienicol/Biochemical-engineering-notes/blob/master/3%20Stoichiometry%20without%20internal%20reactions/Defining%20rates%20and%20yields%20and%20balancing%20equations.ipynb)\n",
    "\n",
    "* [3.2 The cmol balance and biomass as molecule](https://nbviewer.jupyter.org/github/willienicol/Biochemical-engineering-notes/blob/master/3%20Stoichiometry%20without%20internal%20reactions/The%20cmol%20balance%20and%20biomass%20as%20molecule%20.ipynb)\n",
    "\n",
    "* [3.3 Degree of reduction balances](https://nbviewer.jupyter.org/github/willienicol/Biochemical-engineering-notes/blob/master/3%20Stoichiometry%20without%20internal%20reactions/Degree%20of%20reduction%20balances.ipynb)\n",
    "\n",
    "\n",
    "### 4. Stoichiometry that includes internal reactions \n",
    "\n",
    "* [4.1 Modelling the anabolism](https://nbviewer.jupyter.org/github/willienicol/Biochemical-engineering-notes/blob/master/4%20Stoichiometry%20that%20includes%20internal%20reactions/Modelling%20the%20anabolism.ipynb)\n",
    "\n",
    "* [4.2 Main fermentative pathways](https://nbviewer.jupyter.org/github/willienicol/Biochemical-engineering-notes/blob/master/4%20Stoichiometry%20that%20includes%20internal%20reactions/Main%20fermentative%20pathways.ipynb)\n",
    "\n",
    "* [4.3 TCA cycle and oxidative phosphorylation](https://nbviewer.jupyter.org/github/willienicol/Biochemical-engineering-notes/blob/master/4%20Stoichiometry%20that%20includes%20internal%20reactions/TCA%20cycle%20and%20oxidative%20phosphorylation.ipynb)\n",
    "\n",
    "### 5. Basic fermenter modeling\n",
    "\n",
    "* [5.1 Real life fermenters](https://nbviewer.jupyter.org/github/willienicol/Biochemical-engineering-notes/blob/master/5%20Basic%20bioreactor%20modeling/Real%20life%20fermenters.ipynb)\n",
    "\n",
    "* [5.2 Solving differential equations](https://nbviewer.jupyter.org/github/willienicol/Biochemical-engineering-notes/blob/master/5%20Basic%20bioreactor%20modeling/Solving%20differential%20equations.ipynb)\n",
    "\n",
    "* [5.3 The fermenter equation](https://nbviewer.jupyter.org/github/willienicol/Biochemical-engineering-notes/blob/master/5%20Basic%20bioreactor%20modeling/The%20fermenter%20equation.ipynb)\n",
    "\n",
    "* [5.4 Understanding growth](https://nbviewer.jupyter.org/github/willienicol/Biochemical-engineering-notes/blob/master/5%20Basic%20bioreactor%20modeling/Understanding%20growth.ipynb)\n",
    "\n",
    "### 6. Modeling stoichiometry variations\n",
    "\n",
    "* [6.1 Altering rates](https://nbviewer.jupyter.org/github/willienicol/Biochemical-engineering-notes/blob/master/6%20Modeling%20stoichiometry%20variations/Altering%20rates.ipynb)\n",
    "\n",
    "$$$$\n",
    "\n",
    "### [Tutorials](https://nbviewer.jupyter.org/github/willienicol/Biochemical-engineering-notes/blob/master/Tutorials/All%20tutorials.ipynb)\n",
    "\n",
    "\n",
    "\n",
    "\n"
   ]
  },
  {
   "cell_type": "code",
   "execution_count": null,
   "metadata": {
    "collapsed": true
   },
   "outputs": [],
   "source": []
  }
 ],
 "metadata": {
  "kernelspec": {
   "display_name": "Python 3",
   "language": "python",
   "name": "python3"
  },
  "language_info": {
   "codemirror_mode": {
    "name": "ipython",
    "version": 3
   },
   "file_extension": ".py",
   "mimetype": "text/x-python",
   "name": "python",
   "nbconvert_exporter": "python",
   "pygments_lexer": "ipython3",
   "version": "3.5.1"
  }
 },
 "nbformat": 4,
 "nbformat_minor": 0
}
