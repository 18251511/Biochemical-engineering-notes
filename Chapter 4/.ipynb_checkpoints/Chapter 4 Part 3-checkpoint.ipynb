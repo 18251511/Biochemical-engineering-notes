{
 "cells": [
  {
   "cell_type": "markdown",
   "metadata": {
    "collapsed": true
   },
   "source": [
    "## 4.5 The degree of reduction method for balancing equations\n",
    "\n",
    "Numerous textbooks use the degree of reduction (DOR) method to balance biochemical reactions. This is a very elegant and one can say shortcut method for performing carbon, oxygen, hydrogen (sometimes nitrogen) balances. Note that it is just an alternative method to do exactly the same thing that we did above with our matrix method. The answer from the balance (yield coefficients) will be exactly the same as before. One can look at it as a hand and paper method where it is very easy to obtain the yield coefficients without setting up a matrix. In this method we combine the hydrogen and oxygen balances into what is referred as a degree of reduction balance. The method does not solve for the amount of water formed/consumed, but this yield coefficient is typically not important.\n",
    "\n",
    "For biochemical reactions the degree of reduction of a component is defined as the amount of electrons that oxygen can accept from the component when the component is fully combusted, i.e. only water and $CO_2$ is formed as products. Remember that reduction is gain (RIG), so the reduced component will own the electrons and will thus have a positive degree of reduction. Oxygen on the other hand is thirsty for electrons and will have a negative DOR. In order to quantify the DOR we use the oxidation states of hydrogen and oxygen (see reduction/oxidation video if you feel rusty). Hydrogen will be +1 and oxygen will be -2. We further define the combustion products ($CO_2$ and water) as neutral, thus the DOR will be zero for these components. Since the DOR of CO2 is zero it implies that the oxidation state of carbon is +4 (this will be used for the whole DOR method). For cases where nitrogen is considered we'll take NH3 as the neutral component, thus the oxidation state of nitrogen will be -3.\n",
    "We can start by looking at simple combustion reactions. Let’s start with glucose using the cmol analogy (see section 4.4):\n",
    "\n",
    "$$ CH_2 O+O_2→CO_2+H_2 O $$\n",
    "\n",
    "The DOR per cmol of glucose can be determined as 4+2-2=4, while the DOR of reduction for $O_2$ will be 2x-2=-4. The products will both have a DOR of zero (according to the definition). The DOR balance implies that the DOR on one side of the equation equals the other side, which is true for the above equation (+4-4=0+0) and thus the equation is balanced. We can do the same procedure for methane:\n"
   ]
  },
  {
   "cell_type": "markdown",
   "metadata": {},
   "source": [
    "\n",
    "$$CH_4+2O_2→CO_2+2H_2 O$$\n",
    "\n",
    "Methane is more reduced (more electrons can be harvested by oxygen) and has a DOR of 8, accordingly 2 oxygen molecules (2x2x-2=-8) is required to complete the electron transfer. Also have a look at ethanol:\n",
    "\n",
    "$$CH_3 O_{\\frac{1}{2}}+\\frac{3}{2} O_2→CO_2+\\frac{3}{2} H_2 O$$ \n",
    "\n",
    "Ethanol has a DOR of +6 and given this number the oxygen yield coefficient of 1.5 can be determined by merely doing the DOR balance. In the DOR method the water product (or reagent) can be ignored since it will always be zero. We do however still have to perform the carbon balance. So the carbon, oxygen and hydrogen balances are replaced by a carbon and a DOR balance in this method.\n",
    "\n",
    "<img src=\"31.jpg\" width=\"450\" />\n",
    "\n",
    "We can also use the DOR method for reactions where full combustion (TCA+oxidative phosphorylation) do not occur (remember anaerobic fermentation. Let’s go back to the original succinic acid (SA) problem. We had the following in a cmol formulation:\n",
    "\n",
    "$$CH_2 O+Y_{SC} CO_2→Y_{SP} CH_{1.5} O$$\n",
    "\n",
    "You will note that we are discarding water in the analysis. The DOR for SA can be calculated as 3.5. So $Y_{SP}$ is a straightforward calculation from the DOR balance of $\\frac{4}{3.5}$ or $\\frac{8}{7}$ like calculated before. After the DOR balance the carbon balance can be performed to solve for $Y_{SC}=\\frac{1}{7}$. Very straightforward and easy (can be done on the back of a cigarette box) and exactly the same as calculated before.\n",
    "\n",
    "In chapter 5 we’ll use the DOR to check whether NADH is formed/consumed in a pathway. For now we can use the formation of glycerol from glucose as an example. Note that NADH carries 2 electrons and 2 protons (see chapter 3) so the oxidation state will be +2.\n",
    "\n",
    "$$CH_2 O→Y_{SG} CH_{\\frac{8}{3}} O+Y_{SH} NADH$$\n",
    "\n",
    "The DOR of glucose is 4, while the DOR of glycerol is 14/3. Given the carbon balance it is clear that $Y_G$ must be 1 (we know from the pathway that no $CO_2$ is used/formed). The DOR will result in in $Y_H$ having a value of $-\\frac{1}{3}$. This implies that NADH is really a reagent. You will see in chapter 3 that DHAP (dihydroxyacetone phosphate) is formed without using NADH, while the two steps from DHAP to glycerol entails the addition of NADH. 1 Glucose molecule will produce 2 DHAP molecules and thus 2 molecules of NADH will be required. When dividing by six you will see that 1 cmol of glucose require $\\frac{2}{6}$ (or $\\frac{1}{3}$) mol of NADH. It all agrees as it should! Glycerol has an higher degree of reduction than glucose and accordingly electrons (and hydrogens) need to be added to form glycerol. The DOR method is a very useful and fast way of checking for NADH requirements. Note that the above equation can also be solved via a carbon, hydrogen and oxygen balance where NADH is considered as $H_2$ (NADH is effectively biological hydrogen).\n"
   ]
  },
  {
   "cell_type": "markdown",
   "metadata": {
    "collapsed": true
   },
   "source": [
    "## 4.6 The equation for making biomass\n",
    "\n",
    "We have looked at the elemental composition of biomass. We have also defined the average biomass composition as $CH_{1.8}O_{0.5}N_{0.2}$. In addition we have introduced the per carbon (or cmol) way of analysing stoichiometry so that biomass can be considered as ‘molecule’ when determining stoichiometric coefficients. We did however not consider the thousands of metabolic pathways for producing biomass (also referred to as the anabolic reactions). In chapter 5 we’ll use biomass formation as an integral part of analysing catabolic products (catabolism is the breakdown part of the metabolism –glycolysis, TCA and fermentative pathways), so it is important to understand the redox (NADH requirements) and energy (ATP) requirements of making biomass. You might note that NADPH is used in the anabolism, but for now we’ll treat it as similar to NADH.\n",
    "\n",
    "<img src=\"432.png\" width=\"850\" />\n",
    "\n",
    "Biomass can be made from a carbon substrate and a nitrogen source (and micro quantities of essential elements like phosphor, magnesium, sulphur etc. but these will not be considered in the calculation). We’ll use glucose and ammonia ($NH_3$) as the simplest substrates and assume that all amino acids and vitamins can be synthesised by the organism. Given this the following overall equation is typically used to describe biomass formation:\n",
    "\n",
    "$$Y_{XS} CH_2 O+Y_{XN} NH_3+γATP→X+αCO_2+βNADH+Y_{XW}H_2O$$\n",
    "\n",
    "Note that unlike our previous examples, biomass (instead of glucose) is used as the basis for all yields (the coefficient before X is chosen to be 1). Note how the notation of the yield names changed. We do this because the ATP requirement and $CO_2$ production it typically defined with respect to the amount of biomass formed. It is well established that $CO_2$ is formed when biomass is synthesized and we use the parameter $α$ to quantify the amount. A typical value for $α$ is 0.1. Given a known $α$ value and the elemental formula for biomass, the value of $β$ ,$Y_{XS}$ and $Y_{XN}$ can be calculated with an overall mass balance.\n"
   ]
  },
  {
   "cell_type": "markdown",
   "metadata": {},
   "source": [
    "ATP has no redox or elemental contribution to the overall equation and that it is merely the energy required to build biomass (this is one of the main reasons why ATP gets produced via the catabolism). Values of $γ$ are in the range of 1.8 $\\frac{mol ATP}{cmol X}$ for anaerobic conditions and in the range of 2.5 $\\frac{mol ATP}{cmol X}$ for aerobic conditions. This figure will be extensively used in Chapter 5. \n",
    "\n",
    "The last two overall equations (glycerol from glucose and biomass from glucose) contained NADH as final product. NADH is never excreted from a cell; it typically remains at a constant concentration within the cell implying that the rate of NADH production is the same the rate of NADH consumption. Accordingly the biomass (and glycerol) reaction should be considered as ‘half’ overall reactions within a cell, where other overall reaction(s) will operate in conjunction to consume the produced NADH. This will become very clear in Chapter 5.\n"
   ]
  }
 ],
 "metadata": {
  "kernelspec": {
   "display_name": "Python 3",
   "language": "python",
   "name": "python3"
  },
  "language_info": {
   "codemirror_mode": {
    "name": "ipython",
    "version": 3
   },
   "file_extension": ".py",
   "mimetype": "text/x-python",
   "name": "python",
   "nbconvert_exporter": "python",
   "pygments_lexer": "ipython3",
   "version": "3.5.1"
  }
 },
 "nbformat": 4,
 "nbformat_minor": 0
}
