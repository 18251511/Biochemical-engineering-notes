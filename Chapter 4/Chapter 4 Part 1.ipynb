{
 "cells": [
  {
   "cell_type": "markdown",
   "metadata": {},
   "source": [
    "## Chapter 4 : Basic bioreaction stoichiometry and balances\n",
    "\n",
    "In this chapter we’ll be looking at the mass balances around the cell itself. We’ll be looking at what comes into the cell and what exits the cell. In essence we’ll be writing a single reaction where all the inputs (reagents) and outputs (products) are considered and properly balanced. It is really about determining the stoichiometric coefficients of this reaction. A new concept will be introduced where cellular biomass itself will be a product of the described reaction. It is very similar to what you did in your first year chemical engineering courses although the approach will be more numerical.\n",
    "\n",
    "## 4.1 What does a cell in a bioreactor do?  \n",
    "\n",
    "<img src=\"411.bmp\" width=\"250\" />\n",
    "\n",
    "\n",
    "Hopefully you have gathered from your cell biology crash course in chapters 1-3 that it is all about energy. Microbes need energy to sustain life and to multiply. This principle is exactly the same for a cell suspended in a bioreactor. The cell is unaware that it is working as a ‘catalyst’ in some commercial process, so fortunately there will be no strikes. The cell just require nutrients (food) so that it can live and multiply (grow more of itself). Some of the nutrients are used directly as feedstock for making new amino acids, nucleic acids, lipids and all the other biochemicals that constitute the organism. To perform all these synthesis reactions energy is required and accordingly a significant fraction of the nutrients (mainly the carbon source like glucose) is used exclusively to make energy (or ATP in cellular terms). One can say that a large fraction of the carbon source is used as fuel with only the remainder used to build new cell material. \n",
    "For anaerobic conditions the burning of the ‘fuel’ is incomplete. This implies that CO2 and H2O are not the sole ‘combustion’ products. Instead the ‘combustion’ products still contain a carbon skeleton with hydrogen and oxygen atoms attached to the skeleton. Have a look at the fermentative pathways in chapter 3 and the principle of substrate level phosphorylation. In glycolysis glucose is broken down to simpler structures in order to generate ATP. Once ATP is generated within the cell the remainder of the carbon structure can be excreted (as long as the electron balance is satisfied –more about this in chapter 5). This excretion product can be very useful from a commercial perspective since numerous anaerobic catabolises can be used as industrial chemicals. Typical examples include organic acids (lactic, succinic, acetic) and alcohols (ethanol, 1,3-propane diol, butanol)\n",
    "\n",
    "For aerobic reactions the cell has an effective method of obtaining the maximum energy out of the carbon containing nutrient. The ‘combustion’ products of $CO_2$ and $H_2O$ will have no commercial use. Given the effective use of the fuel (lots of ATP generated per carbon source consumed) a larger fraction of the carbon source can be used for building new biomass. In some cases the biomass itself will be the product like in the production of baker’s yeast. In other cases the cells excretes a large fraction of the original carbon source in the form of an amino acid, protein of organic acid. The reason for the excretion in these scenarios is typically not linked to energy generation but rather that the excretion product has to perform an extracellular (on the outside) function. In some cases it is mere metabolic overflow of a certain product. Examples include the production of citric acid, lysine, insulin and cellulase.\n",
    "\n",
    "The chemical engineer has a simplified view on all of this. Sugar that is cheap can be converted to useful chemicals and products. Although the biochemistry is extensive to achieve this (numerous enzymatic reaction steps - just look at glycolysis for starters) it can be approximated as a single reaction step all occurring within the cell. Unfortunately unlike normal chemical reactions some unwanted or by-products need to be made, it won’t be possible to canalise all the carbon in the feed to the desired product. We need to use some of that carbon to make more biomass. But biomass is not exactly a by-product, it is more like catalyst! Catalyst is typically an expensive part of a reactor, but with bioreactors we can grow our catalyst from cheap feed materials. Another massive advantage when thinking like a chemical engineer!  So let’s have a look at these overall reactions.    \n"
   ]
  },
  {
   "cell_type": "markdown",
   "metadata": {},
   "source": [
    "## 4.2 Balancing equations\n",
    "\n",
    "We’ll start by ignoring the formation of biomass in order to develop a feel for balancing equations. This section presents a method of balancing equations that aren’t readily solvable by hand. It is nothing different from the reaction balancing you performed in your secondary school chemistry education. It will be shown how linear matrix calculations can be performed in Ipython notebook (IPN). This ‘matrix-method’ is an essential tool for analysing overall stoichiometry and metabolic pathways. The only work required for this method is setting up the correct equations, the rest is mere ‘plug and play’.\n"
   ]
  },
  {
   "cell_type": "markdown",
   "metadata": {},
   "source": [
    "Take the reaction where glucose ($C_6 H_{12}O_6$)  is converted to succinic acid ($C_4 H_{6}O_4$). The overall chemical reaction will entail the consumption of carbon dioxide and the production of water. The chemical reaction is given by the following:"
   ]
  },
  {
   "cell_type": "markdown",
   "metadata": {},
   "source": [
    "$$C_6 H_{12} O_6+CO_2→C_4 H_6 O_4+H_2 O$$"
   ]
  },
  {
   "cell_type": "markdown",
   "metadata": {
    "collapsed": true
   },
   "source": [
    "This is an unbalanced equation and from your chemistry background your first instinct will be add certain whole numbers (or stoichiometric coefficients) in front of the different components. Why do we do this? We do this to make sure that the number of carbon, hydrogen and oxygen atoms on both sides of the equation are the same. It implies that all the atoms starting as reagents (in their respective molecules) have to be present in the products that formed. In essence this the conservation of mass, the most important law for all chemical engineering calculations.\n",
    "\n",
    "It is not impossible to balance the above equation by hand by testing a few guesses, but we will follow a formalised and structured approach to obtain the answer. First we need to define the unknown stoichiometric coefficients as follow: \n"
   ]
  },
  {
   "cell_type": "markdown",
   "metadata": {},
   "source": [
    "$$Y_o C_6 H_{12} O_6+Y_1 CO_2→Y_2 C_4 H_6 O_4+Y_3 H_2 O$$"
   ]
  },
  {
   "cell_type": "markdown",
   "metadata": {},
   "source": [
    "We typically prefer to define the stoichiometric coefficients with regards to a chosen basis. In this example we will choose glucose (C6H12O6) as basis and accordingly Yo will become 1, leaving us with:\n",
    "\n",
    "$$C_6 H_{12} O_6+Y_1 CO_2→Y_2 C_4 H_6 O_4+Y_3 H_2 O$$\n",
    "\n",
    "From the conventional method of balancing simple chemical reactions the choice of the number one in front of glucose might seem incorrect since it is custom to use only whole numbers for all the stoichiometric coefficients and intuitively it is unlikely for $Y_1,Y_2$ and $Y_3$ to be whole numbers given the choice of $Y_0$.  Since stoichiometric coefficients only presents ratios in which the different molecules react with one another, we don’t mind expressing them as fractions so we will continue with $Y_0$ as unity. In order to determine $Y_1,Y_2$ and $Y_3$ we need to count the carbon, hydrogen and oxygen atoms on both sides of the equation. Since no losses occur the atoms on the two sides of the reaction (separated by the arrow) should be equal. We can start with carbon. The six carbons in glucose combined with the $Y_1\\times1$ carbon in carbon dioxide should be equal to $Y_2\\times4$ carbons in succinic acid. This is called the carbon balance and can be expressed mathematically:"
   ]
  },
  {
   "cell_type": "markdown",
   "metadata": {},
   "source": [
    "\n",
    "$$6+1Y_1=4Y_2$$\n",
    "The hydrogen and oxygen balances will follow: \n",
    "\n",
    "$$12=6Y_2+2Y_3$$\n",
    "\n",
    "$$6+2Y_1=4Y_2+Y_3$$\n",
    "\n",
    "We know have 3 equations, with 3 unknowns $Y_1,Y_2$ and $Y_3$ and since all the equations are linear we can formulate the equation set in matrix format. From the above the following can be obtained:\n"
   ]
  },
  {
   "cell_type": "markdown",
   "metadata": {},
   "source": [
    "$$\\begin{bmatrix}-1 & 4 & 0\\\\0&6&2\\\\-2&4&1\\end{bmatrix}\\times\\begin{bmatrix}Y_1\\\\Y_2\\\\Y_3\\end{bmatrix}=\\begin{bmatrix}6\\\\12\\\\6\\end{bmatrix}$$\n",
    "\n",
    "The generic notation used for the formulation above is as follow:\n",
    "\n",
    "$$\\mathbf{S\\times Y=C}$$\n",
    "\n",
    "We can now easily solve the $\\mathbf Y$ matrix with our notebook. Note hat $C$ is referred to as the constant array. We now switch to the code mode (In [ ] indicates this) and define the $S$ matrix and $C$ array: "
   ]
  },
  {
   "cell_type": "code",
   "execution_count": 2,
   "metadata": {
    "collapsed": true
   },
   "outputs": [],
   "source": [
    "import numpy\n",
    "S = numpy.matrix([[-1, 4,   0,],  \n",
    "                  [ 0,  6,  2], \n",
    "                  [-2,  4,  1], \n",
    "                   ], dtype=float)\n",
    "\n",
    "C = numpy.matrix([[6,12,6]]).T"
   ]
  },
  {
   "cell_type": "markdown",
   "metadata": {},
   "source": [
    "We can now easily solve the function with built in Python functions and show (print) the solution:"
   ]
  },
  {
   "cell_type": "code",
   "execution_count": 3,
   "metadata": {
    "collapsed": false
   },
   "outputs": [
    {
     "name": "stdout",
     "output_type": "stream",
     "text": [
      "[[ 0.85714286]\n",
      " [ 1.71428571]\n",
      " [ 0.85714286]]\n"
     ]
    }
   ],
   "source": [
    "Y = numpy.linalg.solve(S,C)\n",
    "print(Y)"
   ]
  },
  {
   "cell_type": "markdown",
   "metadata": {},
   "source": [
    "We can print it out element by element:"
   ]
  },
  {
   "cell_type": "code",
   "execution_count": 25,
   "metadata": {
    "collapsed": false
   },
   "outputs": [
    {
     "name": "stdout",
     "output_type": "stream",
     "text": [
      "Y1= [[ 0.85714286]]\n",
      "Y2= [[ 1.71428571]]\n",
      "Y3= [[ 0.85714286]]\n"
     ]
    }
   ],
   "source": [
    "print (\"Y1=\", Y[0])\n",
    "print (\"Y2=\", Y[1])\n",
    "print (\"Y3=\", Y[2])"
   ]
  },
  {
   "cell_type": "markdown",
   "metadata": {},
   "source": [
    "We can also solve the formulation symbolically by using sympy:"
   ]
  },
  {
   "cell_type": "code",
   "execution_count": 34,
   "metadata": {
    "collapsed": false
   },
   "outputs": [
    {
     "data": {
      "text/latex": [
       "$$\\left[\\begin{matrix}\\frac{6}{7}\\\\\\frac{12}{7}\\\\\\frac{6}{7}\\end{matrix}\\right]$$"
      ],
      "text/plain": [
       "⎡6/7 ⎤\n",
       "⎢    ⎥\n",
       "⎢12/7⎥\n",
       "⎢    ⎥\n",
       "⎣6/7 ⎦"
      ]
     },
     "execution_count": 34,
     "metadata": {},
     "output_type": "execute_result"
    }
   ],
   "source": [
    "import sympy\n",
    "sympy.init_printing(use_latex='mathjax')\n",
    "\n",
    "S = sympy.Matrix([[-1, 4,   0,],  \n",
    "                  [ 0,  6,  2], \n",
    "                  [-2,  4,  1],])\n",
    "\n",
    "C = sympy.Matrix([[6,12,6]]).T\n",
    "\n",
    "Y = S.inv()*C\n",
    "Y"
   ]
  },
  {
   "cell_type": "markdown",
   "metadata": {},
   "source": [
    "Short sidetrack: To illustrate the power of sympy, let’s define 2 variables in the stoiciometric matrix:\n"
   ]
  },
  {
   "cell_type": "code",
   "execution_count": 33,
   "metadata": {
    "collapsed": false
   },
   "outputs": [
    {
     "data": {
      "text/latex": [
       "$$\\left[\\begin{matrix}- \\frac{2 a b \\left(\\frac{a}{3} - \\frac{2}{3}\\right)}{\\frac{b}{3} \\left(a - 2\\right) + 1} + \\frac{a b}{\\frac{b}{3} \\left(a - 2\\right) + 1} + 2 a - 6\\\\- \\frac{2 b \\left(\\frac{a}{3} - \\frac{2}{3}\\right)}{\\frac{b}{3} \\left(a - 2\\right) + 1} + \\frac{b}{\\frac{b}{3} \\left(a - 2\\right) + 1} + 2\\\\\\frac{4 a - 8}{\\frac{b}{3} \\left(a - 2\\right) + 1} - \\frac{6}{\\frac{b}{3} \\left(a - 2\\right) + 1}\\end{matrix}\\right]$$"
      ],
      "text/plain": [
       "⎡        ⎛a   2⎞                          ⎤\n",
       "⎢  2⋅a⋅b⋅⎜─ - ─⎟                          ⎥\n",
       "⎢        ⎝3   3⎠        a⋅b               ⎥\n",
       "⎢- ───────────── + ───────────── + 2⋅a - 6⎥\n",
       "⎢  b⋅(a - 2)       b⋅(a - 2)              ⎥\n",
       "⎢  ───────── + 1   ───────── + 1          ⎥\n",
       "⎢      3               3                  ⎥\n",
       "⎢                                         ⎥\n",
       "⎢          ⎛a   2⎞                        ⎥\n",
       "⎢      2⋅b⋅⎜─ - ─⎟                        ⎥\n",
       "⎢          ⎝3   3⎠          b             ⎥\n",
       "⎢   - ───────────── + ───────────── + 2   ⎥\n",
       "⎢     b⋅(a - 2)       b⋅(a - 2)           ⎥\n",
       "⎢     ───────── + 1   ───────── + 1       ⎥\n",
       "⎢         3               3               ⎥\n",
       "⎢                                         ⎥\n",
       "⎢           ⎛a   2⎞                       ⎥\n",
       "⎢        12⋅⎜─ - ─⎟                       ⎥\n",
       "⎢           ⎝3   3⎠          6            ⎥\n",
       "⎢      ───────────── - ─────────────      ⎥\n",
       "⎢      b⋅(a - 2)       b⋅(a - 2)          ⎥\n",
       "⎢      ───────── + 1   ───────── + 1      ⎥\n",
       "⎣          3               3              ⎦"
      ]
     },
     "execution_count": 33,
     "metadata": {},
     "output_type": "execute_result"
    }
   ],
   "source": [
    "from sympy import symbols\n",
    "a, b = symbols('a b')\n",
    "\n",
    "S = sympy.Matrix([[-1, a,   0,],  \n",
    "                  [ 0,  6,  b], \n",
    "                  [-2,  4,  1],])\n",
    "Y = S.inv()*C\n",
    "Y"
   ]
  },
  {
   "cell_type": "markdown",
   "metadata": {},
   "source": [
    "This might not be the simplest form of the algebraic solution, so let's see if sympy can simplify:"
   ]
  },
  {
   "cell_type": "code",
   "execution_count": 30,
   "metadata": {
    "collapsed": false
   },
   "outputs": [
    {
     "data": {
      "text/latex": [
       "$$\\left[\\begin{matrix}\\frac{- 3 a b + 6 a + 12 b - 18}{a b - 2 b + 3}\\\\\\frac{3 b + 6}{a b - 2 b + 3}\\\\\\frac{12 a - 42}{a b - 2 b + 3}\\end{matrix}\\right]$$"
      ],
      "text/plain": [
       "⎡-3⋅a⋅b + 6⋅a + 12⋅b - 18⎤\n",
       "⎢────────────────────────⎥\n",
       "⎢     a⋅b - 2⋅b + 3      ⎥\n",
       "⎢                        ⎥\n",
       "⎢       3⋅(b + 2)        ⎥\n",
       "⎢     ─────────────      ⎥\n",
       "⎢     a⋅b - 2⋅b + 3      ⎥\n",
       "⎢                        ⎥\n",
       "⎢      6⋅(2⋅a - 7)       ⎥\n",
       "⎢     ─────────────      ⎥\n",
       "⎣     a⋅b - 2⋅b + 3      ⎦"
      ]
     },
     "execution_count": 30,
     "metadata": {},
     "output_type": "execute_result"
    }
   ],
   "source": [
    "sympy.simplify(Y)"
   ]
  },
  {
   "cell_type": "markdown",
   "metadata": {},
   "source": [
    "Pretty neat. Try doing this by hand and see how long it takes."
   ]
  },
  {
   "cell_type": "markdown",
   "metadata": {},
   "source": [
    "Getting back to the original single reaction we thus have: The balanced equation should be the following:\n",
    "\n",
    "\n",
    "$$C_6 H_{12}O_6+\\frac{6}{7} CO_2→\\frac{12}{7} C_4 H_6 O_4+\\frac{6}{7} H_2 O$$\n"
   ]
  },
  {
   "cell_type": "markdown",
   "metadata": {},
   "source": [
    "### WE ARE NOW READY FOR LARGER FORMULATIONS!!\n",
    "\n",
    "<img src=\"413.jpg\" width=\"650\" />\n",
    "\n"
   ]
  },
  {
   "cell_type": "code",
   "execution_count": null,
   "metadata": {
    "collapsed": true
   },
   "outputs": [],
   "source": []
  }
 ],
 "metadata": {
  "kernelspec": {
   "display_name": "Python 3",
   "language": "python",
   "name": "python3"
  },
  "language_info": {
   "codemirror_mode": {
    "name": "ipython",
    "version": 3
   },
   "file_extension": ".py",
   "mimetype": "text/x-python",
   "name": "python",
   "nbconvert_exporter": "python",
   "pygments_lexer": "ipython3",
   "version": "3.5.1"
  }
 },
 "nbformat": 4,
 "nbformat_minor": 0
}
