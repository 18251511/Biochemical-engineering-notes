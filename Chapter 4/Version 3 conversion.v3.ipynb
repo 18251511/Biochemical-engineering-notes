{
 "metadata": {
  "kernelspec": {
   "display_name": "Python 3",
   "language": "python",
   "name": "python3"
  },
  "language_info": {
   "codemirror_mode": {
    "name": "ipython",
    "version": 3
   },
   "file_extension": ".py",
   "mimetype": "text/x-python",
   "name": "python",
   "nbconvert_exporter": "python",
   "pygments_lexer": "ipython3",
   "version": "3.5.1"
  },
  "name": ""
 },
 "nbformat": 3,
 "nbformat_minor": 0,
 "worksheets": [
  {
   "cells": [
    {
     "cell_type": "code",
     "collapsed": false,
     "input": [
      "import glob\n",
      "import os\n",
      "import nbformat\n",
      "\n",
      "allnotebooks = glob.glob('*.ipynb')\n",
      "nonv3 = [n for n in allnotebooks if '.v3' not in n]\n",
      "\n",
      "def newer(thisfile, otherfile):\n",
      "    return os.path.getmtime(thisfile) > os.path.getmtime(otherfile)\n",
      "\n",
      "for f in nonv3:\n",
      "    v3name = f[:-6] + '.v3.ipynb'\n",
      "    if not os.path.exists(v3name) or newer(f, v3name):\n",
      "        notebook = nbformat.read(f, 4)\n",
      "        nbformat.write(notebook, v3name, 3)\n",
      "        print(f)"
     ],
     "language": "python",
     "metadata": {},
     "outputs": [
      {
       "output_type": "stream",
       "stream": "stdout",
       "text": [
        "Chapter 4 Part 4.ipynb\n",
        "Untitled.ipynb\n"
       ]
      }
     ],
     "prompt_number": 1
    },
    {
     "cell_type": "code",
     "collapsed": true,
     "input": [],
     "language": "python",
     "metadata": {},
     "outputs": [],
     "prompt_number": null
    }
   ],
   "metadata": {}
  }
 ]
}
