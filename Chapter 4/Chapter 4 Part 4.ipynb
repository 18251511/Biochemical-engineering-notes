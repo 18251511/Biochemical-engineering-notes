{
 "cells": [
  {
   "cell_type": "markdown",
   "metadata": {},
   "source": [
    "## 4.7 NADH and ATP balances\n",
    "\n",
    "\n",
    "It is very important to understand that any cell maintains a redox and energy balance. In simple terms one can say that all NADH produced needs to be consumed (redox balance) while the exact same apply for ATP (energy balance). For purposes of simplicity we’ll refer to all the electron carriers (NADH, NADPH and FADH<sub>2</sub>) as NADH and all the energy carriers (GTP, ATP) as ATP. \n",
    "\n",
    "In our course we will clearly distinguish between the catabolism and the anabolism. Catabolism entails the breakdown of a carbon source with the main purpose of generating energy in the form of ATP. Anabolism entails the synthesis of biochemical building blocks to produce and maintain biomass. The amount of biochemical reactions of the anabolism far outweighs the amount of catabolic reactions. Accordingly we will only model the catabolic reactions, while an overall and lumped equation will be used to model the anabolism. We have already discussed this equation in section 4.6. In this section (and in this section only) we’ll also lump the catabolism into a single overall expression. The idea is to show the ‘half reactions’ of the overall ‘black box’ equation that describes the process.\n",
    "\n",
    "<img src=\"441.png\" width=\"450\" />\n"
   ]
  },
  {
   "cell_type": "markdown",
   "metadata": {},
   "source": [
    "The figure illustrates that the ATP consumed by the anabolism must be the same as the ATP produced by the catabolism. In a similar manner the NADH produced by the anabolism must be consumed by the catabolism. It has to be said however that the NADH produced by the anabolism is very small and in some cases almost negligible. In this section we’ll choose our values so that the $β$ value is zero, thus no NADH production in the anabolism. In chapter 5 we’ll show how positive $β$ values can be incorporated into the NADH balance. Given negligible NADH production in the anabolism, the implication is that NADH should be balanced in the catabolism. This is in agreement with the videos we have seen on ethanol and lactic acid fermentation. Remember these diagrams?\n",
    "\n",
    "<img src=\"442.png\" width=\"750\" />\n",
    "\n",
    "\n",
    "For aerobic systems it is simple to balance NADH, since any excess of NADH can be consumed via oxidative phosphorylation to produce more ATP.\n",
    "\n",
    "### Lactic acid energy balance\n",
    "\n",
    "To illustrate the energy interplay between the anabolism and the catabolism we have a look at lactic acid bacteria operating under anaerobic conditions. The anabolism can be described by the following reaction:\n",
    "\n",
    "$$(1+α)CH_2 O+Y_{XN} NH_3+γATP→CH_{1.9} H_{0.5} N_{0.2}+αCO_2+βNADH + Y_{XW}H_2O$$\n"
   ]
  },
  {
   "cell_type": "markdown",
   "metadata": {},
   "source": [
    "In this example we’ll opt for an $α$ value of **0.075** $\\frac{cmol CO_2}{cmol X}$. Prove to yourself (look at tutorial 4) that the overall equation written with biomass as basis becomes:\n",
    "\n",
    "\n",
    "$$1.075CH_2 O+0.2NH_3+γATP→CH_{1.9} H_{0.5} N_{0.2}+0.075CO_2+0.425H_2 O$$\n",
    "\n",
    "We can rewrite this equation using glucose as the basis:\n",
    "\n",
    "\n",
    "$$CH_2 O+0.186NH_3+0.93γATP→0.93CH_{1.9} H_{0.5} N_{0.2}+0.07CO_2+0.4H_2 O $$\n",
    "\n",
    "We keep $γ$ in the equation since this is the fundamental parameter that defines the mol of ATP required to form a cmol of biomass. Note that the anabolic reaction is redox neutral (no NADH).\n",
    "We can also write the overall catabolic reaction:\n",
    "\n",
    "\n",
    "$$CH_2 O(g)→CH_2 O(la)+\\frac{1}{3} ATP$$\n",
    "\n",
    "A typical value for $γ$ under anaerobic conditions is 1.8 $\\frac{mol ATP}{cmol X}$, so the anabolism becomes:\n",
    "\n",
    "\n",
    "$$CH_2 O+0.186NH_3+1.67ATP→0.93CH_{1.9} H_{0.5} N_{0.2}+0.07CO_2+0.4H_2 O$$\n",
    "\n",
    "Given this two half reactions the energy balance can be performed, since the ATP generated must be equal to the ATP consumed. We can now effectively calculate the glucose split.\n",
    "\n",
    "By balancing the ATP and specifying 1 cmol of glucose the half and total reactions are given by:\n",
    "\n",
    "\n",
    "$$0.166CH_2 O+0.031NH_3+0.278ATP→0.154CH_{1.9} H_{0.5} N_{0.2}+0.012CO_2+0.066H_2 O$$\n",
    "\n",
    "$$0.834CH_2 O(g)→0.834CH_2 O(la)+0.278ATP$$\n",
    "** --------------------- **\n",
    "$$CH_2 O+0.0031NH_3→0.154CH_{1.9} H_{0.5} N_{0.2}+0.834CH_2 O(la)+0.012CO_2+0.066H_2 O$$\n",
    "\n",
    "\n",
    "Note that the above equation (overall) has 6 unknowns (5 if $Y_{SS}$=1). In the standard matrix method an additional specification is required, but **the inclusion of the energy balance effectively gave us an extra equation!** Let’s check if the overall equation is correct. Now for some **Python**.\n",
    "\n",
    "\n",
    "<img src=\"444.png\" width=\"500\" />\n"
   ]
  },
  {
   "cell_type": "code",
   "execution_count": 1,
   "metadata": {
    "collapsed": false
   },
   "outputs": [
    {
     "data": {
      "text/plain": [
       "matrix([[ 1. ,  0. ,  1. ,  1. ,  1. ,  0. ],\n",
       "        [ 2. ,  3. ,  1.9,  2. ,  0. ,  2. ],\n",
       "        [ 1. ,  0. ,  0.5,  1. ,  2. ,  1. ],\n",
       "        [ 0. ,  1. ,  0.2,  0. ,  0. ,  0. ],\n",
       "        [ 1. ,  0. ,  0. ,  0. ,  0. ,  0. ],\n",
       "        [ 0. ,  0. ,  1. ,  0. ,  0. ,  0. ]])"
      ]
     },
     "execution_count": 1,
     "metadata": {},
     "output_type": "execute_result"
    }
   ],
   "source": [
    "import numpy\n",
    "S = numpy.matrix([[1,0,1,1,1,0],\n",
    "[2,3,1.9,2,0,2],\n",
    "[1,0,0.5,1,2,1],\n",
    "[0,1,0.2,0,0,0],\n",
    "[1,0,0,0,0,0],\n",
    "[0,0,1,0,0,0],\n",
    "], dtype=float)\n",
    "\n",
    "S\n"
   ]
  },
  {
   "cell_type": "markdown",
   "metadata": {},
   "source": [
    "** Now we specify $Y_{SX}$ **\n"
   ]
  },
  {
   "cell_type": "code",
   "execution_count": 12,
   "metadata": {
    "collapsed": false
   },
   "outputs": [
    {
     "data": {
      "text/plain": [
       "matrix([[-1.        ],\n",
       "        [-0.21477953],\n",
       "        [ 0.15444   ],\n",
       "        [ 1.07389767],\n",
       "        [-0.07389767],\n",
       "        [ 0.30196651]])"
      ]
     },
     "execution_count": 12,
     "metadata": {},
     "output_type": "execute_result"
    }
   ],
   "source": [
    "ysx=0.15444                                      # Note that this is specified here and not solved for!!!\n",
    "C = numpy.matrix([[0,0,0,0,-1,ysx]]).T\n",
    "Y = numpy.linalg.solve(S,C)\n",
    "Y"
   ]
  },
  {
   "cell_type": "markdown",
   "metadata": {},
   "source": [
    "**The answer is exactly the same! Please note that an alternative solution will be possible for a different specification. Let's try.**\n"
   ]
  },
  {
   "cell_type": "code",
   "execution_count": 13,
   "metadata": {
    "collapsed": false
   },
   "outputs": [
    {
     "data": {
      "text/plain": [
       "matrix([[-1.        ],\n",
       "        [-0.19534884],\n",
       "        [ 0.05      ],\n",
       "        [ 0.97674419],\n",
       "        [ 0.02325581],\n",
       "        [ 0.36511628]])"
      ]
     },
     "execution_count": 13,
     "metadata": {},
     "output_type": "execute_result"
    }
   ],
   "source": [
    "ysx=0.05                                      # Different value than before!!!\n",
    "C = numpy.matrix([[0,0,0,0,-1,ysx]]).T\n",
    "Y = numpy.linalg.solve(S,C)\n",
    "Y"
   ]
  },
  {
   "cell_type": "markdown",
   "metadata": {},
   "source": [
    "Without the energy balance there is a degree of freedom in the formulation. This implies that a range of different solutions is possible (like the solution above). However these solutions won't satisfy the specific energy balance of the example. The $γ$ value for the solution above will be very high (lot's of ATP required to produce the biomass)"
   ]
  },
  {
   "cell_type": "markdown",
   "metadata": {},
   "source": [
    "### Aerobic growth of Saccharomyces cerevisiae\n",
    "\n",
    "For this example we’ll use the same anabolic reaction as before. We will only change the $γ$ value to 2.5 $\\frac{mol ATP}{cmol X}$. The following reaction will result:\n",
    "\n",
    "\n",
    "$$CH_2 O+0.186NH_3+2.325ATP→0.93CH_{1.9} H_{0.5} N_{0.2}+0.07CO_2+0.4H_2 O$$\n",
    "\n",
    "\n",
    "Aerobic reactions typically require more energy to produce biomass as reflected by the higher $γ$ value. The lower energy efficiency is related to the fact that tenfold more ATP can be generated from a cmol of carbon, accordingly the ‘rich’ do not have to be conservative.\n",
    "\n",
    "Let’s quickly take the overall reaction from glycolysis and the TCA cycle in cmol format: \n",
    "\n",
    "$$CH_2 O+H_2 O→CO_2+\\frac{5}{3} NADH+\\frac{1}{3} FADH_2+\\frac{2}{3}ATP$$\n",
    "\n",
    "<img src=\"443.jpg\" width=\"500\" />\n",
    "\n",
    "For oxidative phosphorylation we’ll use $(P/O)_{NADH} = (P/O)_{FADH_2} =1.5$. Respiration can then be written as:\n",
    "\n",
    "$$CH_2 O+O_2→CO_2+H_2 O+\\frac{11}{3} ATP$$\n",
    "\n",
    "The catabolism is thus given by respiration only since no other catabolites are formed (except $CO_2$ and $H_2O$). Note that NADH balancing is straightforward in an aerobic system, since excess NADH can be converted to ATP.\n",
    "Like before we can now balance the energy production and consumption. Note that both the anabolism and the catabolism is redox neutral. \n",
    "\n",
    "$$ 0.388CH_2 O + 0.388 O_2→0.388CO_2+0.388H_2O+1.42ATP$$\n",
    "\n",
    "$$0.612CH_2 O+0.114NH_3+1.42ATP→0.569CH_{1.9} H_{0.5} N_{0.2}+0.043CO_2+0.245H_2 O$$\n",
    "** --------------------- **\n",
    "$$CH_2 O+0.114NH_3+0.388O_2→0.569CH_{1.9} H_{0.5} N_{0.2}+0.43CO_2+0.63H_2 O$$\n",
    "\n",
    "Like before we can test the answer with a matrix based mass balance. We’ll have to specify one of the overall yield coefficients, let’s take $Y_{SO}$.\n"
   ]
  },
  {
   "cell_type": "code",
   "execution_count": 8,
   "metadata": {
    "collapsed": false
   },
   "outputs": [
    {
     "data": {
      "text/plain": [
       "matrix([[ 1. ,  0. ,  0. ,  1. ,  1. ,  0. ],\n",
       "        [ 2. ,  3. ,  0. ,  1.9,  0. ,  2. ],\n",
       "        [ 1. ,  0. ,  2. ,  0.5,  2. ,  1. ],\n",
       "        [ 0. ,  1. ,  0. ,  0.2,  0. ,  0. ],\n",
       "        [ 1. ,  0. ,  0. ,  0. ,  0. ,  0. ],\n",
       "        [ 0. ,  0. ,  1. ,  0. ,  0. ,  0. ]])"
      ]
     },
     "execution_count": 8,
     "metadata": {},
     "output_type": "execute_result"
    }
   ],
   "source": [
    "S = numpy.matrix([[1,0,0,1,1,0],\n",
    "[2,3,0,1.9,0,2],\n",
    "[1,0,2,0.5,2,1],\n",
    "[0,1,0,0.2,0,0],\n",
    "[1,0,0,0,0,0],\n",
    "[0,0,1,0,0,0],         \n",
    "], dtype=float)\n",
    "\n",
    "S\n"
   ]
  },
  {
   "cell_type": "code",
   "execution_count": 14,
   "metadata": {
    "collapsed": false
   },
   "outputs": [
    {
     "data": {
      "text/plain": [
       "matrix([[-1.        ],\n",
       "        [-0.11384186],\n",
       "        [-0.3881    ],\n",
       "        [ 0.5692093 ],\n",
       "        [ 0.4307907 ],\n",
       "        [ 0.63001395]])"
      ]
     },
     "execution_count": 14,
     "metadata": {},
     "output_type": "execute_result"
    }
   ],
   "source": [
    "yso=-0.3881                                      # From the formulation above \n",
    "C = numpy.matrix([[0,0,0,0,-1,yso]]).T\n",
    "Y = numpy.linalg.solve(S,C)\n",
    "Y"
   ]
  },
  {
   "cell_type": "markdown",
   "metadata": {},
   "source": [
    "It is exactly the same! But note again that the energy balance gave us an extra equation so that we could solve the whole system without any specifications. In chapter 5 an easier method will be introduced to incorporate the energy balance into the solution.\n",
    "\n",
    "Look at the difference between the two examples. Almost 4 times more biomass formed from glucose when comparing aerobic to anaerobic conditions. With efficient generation of ATP from glucose, a larger fraction of the glucose can be channelled to biomass formation (<font color='red'>make sure that you understand this statement from the numbers of the examples</font>).   \n",
    "\n",
    "<img src=\"445.jpg\" width=\"500\" />\n",
    "\n"
   ]
  },
  {
   "cell_type": "code",
   "execution_count": null,
   "metadata": {
    "collapsed": true
   },
   "outputs": [],
   "source": []
  }
 ],
 "metadata": {
  "kernelspec": {
   "display_name": "Python 3",
   "language": "python",
   "name": "python3"
  },
  "language_info": {
   "codemirror_mode": {
    "name": "ipython",
    "version": 3
   },
   "file_extension": ".py",
   "mimetype": "text/x-python",
   "name": "python",
   "nbconvert_exporter": "python",
   "pygments_lexer": "ipython3",
   "version": "3.5.1"
  }
 },
 "nbformat": 4,
 "nbformat_minor": 0
}
