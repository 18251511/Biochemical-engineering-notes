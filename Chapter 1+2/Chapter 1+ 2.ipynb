{
 "cells": [
  {
   "cell_type": "markdown",
   "metadata": {},
   "source": [
    "## Chapter 1: Bioprocessing and Bioreactors\n",
    "\n",
    "Biotechnology is about using various life forms to make commercial products. Bioprocessing is the chemical engineering discipline of making this happens. Micro-organisms are the most common life form in bioprocessing applications where bacteria, yeasts and fungi are exploited as workhorses  to facilitate the conversion of a cheap feed into a value added products. This course will focus on the synthesis of value added products but it should be stated that bioprocessing is not restricted to this type of product. Micro-organisms are often use for clean-up where the end product is  bio-remediated, just think of a sewage plant for treating wastewater. Bioprocessing is an ancient discipline and has been used for centuries in the production of foods and beverages such as yoghurt, bread, vinegar, soy sauce, beer and wine. Today numerous commercial bioprocesses are used to produce bulk chemicals (like citric acid), proteins (like enzymes), amino acids, vitamins, antibiotics and even fuels. You are regularly using products where a micro-organism was part of the production train. Just think of the antibiotic and vitamins that helped to cure that terrible cold, the enzymes in your washing power giving that shining white, the citric acid keeping your soft drink preserved, the ethanol addition to your car fuel and of course the ethanol in you party drinks. These little organisms have been working for you for a long time!   \n",
    "\n",
    "Our dependency on micro-organisms is likely to grow in the future. The world is slowly moving away from  fossil reserves like coal, oil and natural gas. The reason is twofold: the supplies are limited and the environmental consequences of using fossil reserves are severe. One might think of the refinery as the supplier of various fuels like petrol, diesel and jet fuel but it is important to realise that a major fraction of bulk chemicals have their origin in the refinery. Just look around you and you will find materials that originated from the refinery everywhere. The plastic in your smartphone, the synthetic materials in your clothes, all the containers of your food and drinks and the non-metal parts of your car. The list goes on to show you how intimately you are connected to fossil reserves. How will the dependency be broken? We are definitely not ready to part with all the wonderful end-products. The solution is to use sustainable feedstock (like plant matter) to generate the same materials. This will be performed in the biorefinery, where micro-organisms will play an important role. In essence micro-organisms will feed on various sugars in plants and excrete useful molecules that can be used as chemicals or fuel. More than two thirds of dry plant matter consists out of sugars, whether the plant contains edible parts or not. So a non-fossil alternative exist but clever chemical engineers will be required to make the bioconversion processes economical. This is exactly the reason why this course is part of you undergraduate curriculum. See this explanation from TU Delft in the Netherlands:\n"
   ]
  },
  {
   "cell_type": "code",
   "execution_count": 2,
   "metadata": {
    "collapsed": false,
    "scrolled": true
   },
   "outputs": [
    {
     "data": {
      "text/html": [
       "\n",
       "        <iframe\n",
       "            width=\"400\"\n",
       "            height=\"300\"\n",
       "            src=\"https://www.youtube.com/embed/1MXHfZqbrCs\"\n",
       "            frameborder=\"0\"\n",
       "            allowfullscreen\n",
       "        ></iframe>\n",
       "        "
      ],
      "text/plain": [
       "<IPython.lib.display.YouTubeVideo at 0x503c326710>"
      ]
     },
     "execution_count": 2,
     "metadata": {},
     "output_type": "execute_result"
    }
   ],
   "source": [
    "from IPython.display import YouTubeVideo\n",
    "YouTubeVideo('1MXHfZqbrCs')"
   ]
  },
  {
   "cell_type": "markdown",
   "metadata": {},
   "source": [
    "At the heart of any bioprocess is the bioreactor. This is the unit in the process where the chemical transformation is taking place. It might not always be the most expensive unit in the process, but it typically is the most important unit in the sense that all development is centred around the bioreactor. The conversion needs to be possible and also economical. Once this is established we can look at purification and pre-treatment options. Accordingly this course will exclusively focus on the bioreactor. The term bioreaction engineering is often employed to describe this sub-discipline of bioprocessing. The other sub-disciplines only take up an estimated 20% of bioprocessing and we won’t be looking at them in this course.\n",
    "So in layman’s terms, what are we going to do? We are going to put microbes (short for micro-organisms but we’ll also use the word bugs) in liquid filled vessels (reactors), give them food (plant sugars) so that they can grow and excrete useful molecules into the liquid. At times the microbes themselves will be the product. The first objective will be to make the conversion process fast, so we either need bugs operating at a fast metabolism or a high concentration of bugs in the bioreactor. This will be referred to as the productivity objective. The second objective will be to achieve high product yields. We want the carbon that we feed the bugs to end up in the desired product, this is yield in a nutshell and the whole of chapter 4 and chapter 5 will be dedicated to understand yield. The last objective will be to obtain high product titre or concentration as this will simplify the separation process that purifies the desired product. Always remember the PYT goal, productivity(P), yield(Y) and titre(T).\n",
    "\n",
    "Before we can start to address the PYT quest we need to understand the basics of microbes. We therefore need to understand the basics of how life works. The course aims at performing engineering calculations and not at memorising microbiology and biochemistry textbooks. But the calculations will be based on prerequisite knowledge of these disciplines. You need to understand these basics but you don’t need to remember all the terms. We’ll use the internet as an extension of our memory given the availability of the web nowadays. You need to be acquainted with the basics so that you can easily Google new questions. The background in chapter 2 and 3 is by no means complete, it is only the first few guided steps that will enable further and self-development in your understanding of microbes. Get used to formulate and answer questions with the internet, but be careful for a single answer, rather search for different people saying the same thing in different words. Internet literature on basic microbiology and biochemistry is mature with wonderful pictures and videos available. Use it and enjoy, the magic is in the palm of your hand.    \n"
   ]
  },
  {
   "cell_type": "markdown",
   "metadata": {
    "collapsed": true
   },
   "source": [
    "## Chapter 2 : How life works, the crash course\n",
    "\n",
    "Chapter 2 and chapter 3 is about giving you tools to understand the rest of course. You will need to revisit some of these sections later in the semester. We’ll extensively use professional help freely available on the internet and recap on the important aspects. Note that the internet is full of other sources on the same subject so enhance your understanding by visiting more sites (and watching more videos) than the ones given here. The assumption is that the internet will always be available and that it essentially becomes an extension of your memory. So no memorisation is required, rather focus on understanding the essentials and develop methods for accessing terminology that you cannot remember.  \n",
    "Chapter 2 and 3 will be broken down into dedicated lectures. See the Click-Up calendar for the schedule. Work through the dedicated section and videos prior to the scheduled contact session. In class we’ll discuss queries and link the content to the latter chapters in the course. Let’s get going:\n",
    "\n",
    "### Lecture 1:\n",
    "\n",
    "### Classification and the tree of life\n",
    "Every living thing requires a scientific name. The organisation structure for giving names changed throughout the last centuries, but let’s starts with a primary school lesson on the topic since we are beginners.\n"
   ]
  },
  {
   "cell_type": "code",
   "execution_count": 4,
   "metadata": {
    "collapsed": false
   },
   "outputs": [
    {
     "data": {
      "text/html": [
       "\n",
       "        <iframe\n",
       "            width=\"400\"\n",
       "            height=\"300\"\n",
       "            src=\"https://www.youtube.com/embed/vqxomJIBGcY\"\n",
       "            frameborder=\"0\"\n",
       "            allowfullscreen\n",
       "        ></iframe>\n",
       "        "
      ],
      "text/plain": [
       "<IPython.lib.display.YouTubeVideo at 0x503c326b38>"
      ]
     },
     "execution_count": 4,
     "metadata": {},
     "output_type": "execute_result"
    }
   ],
   "source": [
    "YouTubeVideo('vqxomJIBGcY')"
   ]
  },
  {
   "cell_type": "markdown",
   "metadata": {},
   "source": [
    "Lots of different subdivisions before you get to the genus and specie names. Don’t bother trying to remember all the different classes. Let’s rather think about how one develops a system of classification. Let’s see what Paul Andersen has to say on the topic:"
   ]
  },
  {
   "cell_type": "code",
   "execution_count": 5,
   "metadata": {
    "collapsed": false
   },
   "outputs": [
    {
     "data": {
      "text/html": [
       "\n",
       "        <iframe\n",
       "            width=\"400\"\n",
       "            height=\"300\"\n",
       "            src=\"https://www.youtube.com/embed/v=tYL_8gv7RiE\"\n",
       "            frameborder=\"0\"\n",
       "            allowfullscreen\n",
       "        ></iframe>\n",
       "        "
      ],
      "text/plain": [
       "<IPython.lib.display.YouTubeVideo at 0x503c326e48>"
      ]
     },
     "execution_count": 5,
     "metadata": {},
     "output_type": "execute_result"
    }
   ],
   "source": [
    "YouTubeVideo('v=tYL_8gv7RiE')"
   ]
  },
  {
   "cell_type": "markdown",
   "metadata": {},
   "source": [
    "The important part of this video is that DNA is the key to perform proper classification. Prior to the age of understanding DNA, classification was based on looks and functionality, but have a look at these two bugs, they are completely different by name!"
   ]
  },
  {
   "cell_type": "code",
   "execution_count": null,
   "metadata": {
    "collapsed": true
   },
   "outputs": [],
   "source": []
  }
 ],
 "metadata": {
  "kernelspec": {
   "display_name": "Python 3",
   "language": "python",
   "name": "python3"
  },
  "language_info": {
   "codemirror_mode": {
    "name": "ipython",
    "version": 3
   },
   "file_extension": ".py",
   "mimetype": "text/x-python",
   "name": "python",
   "nbconvert_exporter": "python",
   "pygments_lexer": "ipython3",
   "version": "3.5.1"
  }
 },
 "nbformat": 4,
 "nbformat_minor": 0
}
