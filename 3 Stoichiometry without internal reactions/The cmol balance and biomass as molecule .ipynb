{
 "cells": [
  {
   "cell_type": "markdown",
   "metadata": {},
   "source": [
    "### Making biomass\n",
    "\n",
    "In this course microbial growth will be central to all of the calculations we perform. The overall reaction that a cell drives can be written as follow: \n",
    "$$$$\n",
    "$$\\mathbf {carbon\\ source + nitrogen\\ source + micro\\ nutrients + oxygen\\ (if \\ aerobic)+cells \\; (biomass)  \\to} $$\n",
    "$$$$\n",
    "$$\\mathbf {more\\ cells\\; (biomass) + excretion \\, products}$$\n",
    "\n",
    "$$$$\n",
    "<img src=\"421a.jpg\" width=\"350\" />\n",
    "$$$$\n",
    "<center>_The colonies (circles) on this plate all originated from a single cell._</center>\n",
    "\n",
    "When considering the elemental composition of biomass it is important to realise that the elements of carbon, hydrogen, oxygen and nitrogen are the main constituents. A typical *E. coli* cell has the following mass based distribution of the main building blocks: proteins (55%), RNA (20%), Lipids (10%) and DNA (4%). From chapter 1 the chemical composition of these building blocks are well established and by merely looking at the structures of these chemicals it should be evident that carbon, hydrogen, oxygen and nitrogen are the main atoms in these molecules. Elements like phosphor and sulphur will also feature but to an lesser extent. In addition numerous other elements are present in minute quantities and although the amounts are small they are all essential to life.\n",
    "\n",
    "The chemical engineer has a mass balance orientated approach and accordingly only the major elemental constituents (C H O and N) will be considered. We will effectively add all the building blocks together and only concern ourselves with an overall elemental analysis of biomass. For microbial biomass the following formula is used as the average:\n",
    "$$$$\n",
    "\n",
    "$$\\mathbf {biomass = X=CH_{1.8}O_{0.5}N_{0.2}}$$\n",
    "\n",
    "$$$$\n",
    "<img src=\"421.jpg\" width=\"350\" />\n",
    "\n",
    "Although major variations exist this chemical composition can be used as estimate for microbial biomass where an elemental analysis is not available. Note that there is **1.8 hydrogen atoms, 0.5 oxygen atoms and 0.2 nitrogen atoms for each carbon atom.**"
   ]
  },
  {
   "cell_type": "markdown",
   "metadata": {},
   "source": [
    "The written balance for the anaerobic fermentation above can now be simplified to:\n",
    "$$$$\n",
    "\n",
    "$$\\mathbf {carbon\\ source + nitrogen\\ source +oxygen \\ (if \\ aerobic) \\to  cells \\; (biomass) + excretion \\ products}$$\n",
    "\n",
    "$$$$\n",
    "We will assume that all the micro nutrients are present in the liquid medium. Note that biomass is an net product but that nothing will be possible if biomass does not act as reagent. One requires biomass to make more biomass. The carbon source will contain the majority of the carbon that will end up as either biomass or catabolites. The carbon source will also contain the required oxygen and hydrogen atoms, just think of the chemical formula for glucose ($C_6H_{12}O_6$). The nitrogen source can either be defined or complex. A defined nitrogen source will be something like ammonia or urea where the chemical composition is known. We’ll mostly use these nitrogen sources in our calculations. Complex nitrogen sources entails the use of cell building blocks like amino acids or peptides that originated from a growing organism. An example is yeast extract where dissolvable parts of disrupted (opened) yeast cells are used as nitrogen feed in a fermentation. Some organisms cannot synthesise all their required amino acids from inorganic nitrogen (see auxotrophy) and requires a complex nitrogen feed. \n",
    "\n",
    "The intention is to write the balance above as a chemical formulation, similar to that of the previous section. The only problem is that biomass cannot be represented as a single molecule although the elemental ratios are known. We will address this by performing a per carbon stoichiometric formulation."
   ]
  },
  {
   "cell_type": "markdown",
   "metadata": {},
   "source": [
    "### The cmol (per carbon) stoichiometric formulation\n",
    "\n",
    "To include biomass (or $CH_{1.8}O_{0.5}N_{0.2}$) into the overall reaction over the cell we need to consider all the carbon containing molecules on a cmol basis. We will effectively reduce all carbon containing molecules to only having a single carbon atom. To understand the cmol method of performing elemental balances we’ll start by redoing the succinic acid example of the previous section. Thereafter we’ll include biomass growth into the overall stoichiometry. The molecular stoichiometry was determined as follow in the previous section:\n",
    "\n",
    "$$$$\n",
    "\n",
    "$$C_6 H_{12} O_6+\\frac{6}{7} CO_2→\\frac{12}{7} C_4 H_6 O_4+\\frac{6}{7} H_2 O$$\n",
    "\n",
    "We will redefine using a per carbon basis: \n",
    "\n",
    "$$$$\n",
    "\n",
    "$$CH_2 O+Y_{SC}\\ CO_2→Y_{SSA}\\ CH_{1.5} O+Y_{SW}\\ H_2 O$$\n",
    "\n",
    "Note that the yield coefficients ($Y_1,Y_2$ and $Y_3$) are not the same as before due to the alternative formulation. The rates will be defined by cmols and not mols changing per time. The difference between cmols and mols will be the number of carbon atoms in the carbon containing molecule. In this formulation the molecules are redefined as single carbon molecules containing the averaged oxygen and hydrogen counterparts. Like before we can rewrite the stoichiometry in terms of cmol rates:\n",
    "\n",
    "$$$$\n",
    "\n",
    "$$(-r_S)\\ CH_2 O+(-r_C)\\ CO_2→(r_{SA})\\ CH_{1.5} O+(r_W)\\ H_2 O$$\n",
    "\n",
    "For now we will choose an arbitrary glucose consumption rate ($-r_S$) of 1. We can proceed by solving the carbon, hydrogen and oxygen balances in a similar manner as before. Prove to yourself that the following matrix formulation incorporates the three elemental balances and $-r_S$ specification:\n",
    "\n",
    "$$$$\n",
    "\n",
    "$$\\begin{bmatrix}-1&-1 & 1 & 0\\\\-2&0&1.5&2\\\\-1&-2&1&1\\\\1&0&0&0\\end{bmatrix}\\times\\begin{bmatrix}-r_s\\\\-r_C\\\\r_{SA}\\\\r_W\\end{bmatrix}=\\begin{bmatrix}0\\\\0\\\\0\\\\1\\end{bmatrix}$$\n",
    "\n",
    "You should be able to solve this in **Excel** or on your preferred app. We can also calculate with **Python**:"
   ]
  },
  {
   "cell_type": "code",
   "execution_count": 15,
   "metadata": {
    "collapsed": false
   },
   "outputs": [
    {
     "name": "stdout",
     "output_type": "stream",
     "text": [
      "[[ 1.        ]\n",
      " [ 0.14285714]\n",
      " [ 1.14285714]\n",
      " [ 0.14285714]]\n"
     ]
    }
   ],
   "source": [
    "import numpy\n",
    "S = numpy.matrix([[-1,-1, 1,   0,],  \n",
    "                  [-2 ,0,  1.5, 2], \n",
    "                  [-1,-2,  1,  1],\n",
    "                  [1,  0,   0, 0]])\n",
    "\n",
    "C = numpy.matrix([[0,0,0,1]]).T\n",
    "Y = numpy.linalg.solve(S,C)\n",
    "print(Y)"
   ]
  },
  {
   "cell_type": "markdown",
   "metadata": {},
   "source": [
    "Maybe fractions for answers will be more elegant, so let's use sympy:"
   ]
  },
  {
   "cell_type": "code",
   "execution_count": 16,
   "metadata": {
    "collapsed": false
   },
   "outputs": [
    {
     "data": {
      "text/latex": [
       "$$\\left[\\begin{matrix}1\\\\\\frac{1}{7}\\\\\\frac{8}{7}\\\\\\frac{1}{7}\\end{matrix}\\right]$$"
      ],
      "text/plain": [
       "⎡ 1 ⎤\n",
       "⎢   ⎥\n",
       "⎢1/7⎥\n",
       "⎢   ⎥\n",
       "⎢8/7⎥\n",
       "⎢   ⎥\n",
       "⎣1/7⎦"
      ]
     },
     "execution_count": 16,
     "metadata": {},
     "output_type": "execute_result"
    }
   ],
   "source": [
    "import sympy\n",
    "sympy.init_printing(use_latex='mathjax')\n",
    "\n",
    "S = sympy.Matrix([[-1,-1, 1,  0,],  \n",
    "                  [-4 ,0, 3,   4], #note that we multiply the oxygen balance with 2, to have whole numbers in the matrix.\n",
    "                  [-1,-2,  1,  1],\n",
    "                  [1,  0,   0, 0]])\n",
    "\n",
    "C = sympy.Matrix([[0,0,0,1]]).T     \n",
    "\n",
    "Y = S.inv()*C\n",
    "Y"
   ]
  },
  {
   "cell_type": "markdown",
   "metadata": {},
   "source": [
    "We therefore have the overall stoichiometry expressed as:\n",
    "\n",
    "$$$$\n",
    "\n",
    "$$CH_2 O+\\frac{1}{7} CO_2→\\frac{8}{7} CH_{1.5} O+\\frac{1}{7} H_2 O$$\n",
    "\n",
    "Note the difference between yield coefficients of the cmol (per carbon) and molecular formulations. The yield coefficient for succinic acid ($Y_2$) will have the following units\n",
    "\n",
    "$$$$\n",
    "\n",
    "$$Y_{SSA}=\\frac{8}{7}\\quad \\left(\\frac{cmol\\ SA}{cmol\\ Gluc}\\right)$$\n",
    "\n",
    "The cmol to mol conversion is easy, because it is known that there is 6 cmol of glucose per mol of glucose and 4 cmol of SA per mol of SA. We can thus determine the molar yield by a simple conversion:\n",
    "\n",
    "$$$$\n",
    "\n",
    "\n",
    "$$Y_{SSA} (molar)=\\frac{8}{7}\\times\\frac{6}{4}\\quad\n",
    "\\left(\n",
    "\\frac{cmol\\ SA}{cmol\\ Gluc}\\times\\frac{6\\ cmol\\ Gluc}{mol\\ Gluc}\\times\\frac{mol\\ SA}{4\\ cmol\\ SA}\n",
    "\\right)\n",
    "=\\frac{12}{7}\\quad\\left(\\frac{mol\\ SA}{mol\\ Gluc}\\right)$$\n",
    "\n",
    "\n",
    "Apart from molar and cmol based yields, mass based yields are often employed in fermentation literature. Conversion to mass based yields are simple provided that the molecular weight of the components are known. The SA mass based yield can easily be calculated as follow: \n",
    "\n",
    "$$$$\n",
    "\n",
    "$$Y_{SSA} (mass)=\\frac{8}{7}\\times\\frac{29.5}{30}\\quad\n",
    "\\left(\n",
    "\\frac{cmol\\ SA}{cmol\\ Gluc}\\times\\frac{cmol\\ Gluc}{30 \\ g \\ Gluc}\\times\\frac{29.5\\ g \\ SA}{cmol\\ SA}\n",
    "\\right)\n",
    "=1.124\\quad\\left(\\frac{g\\ SA}{g \\ Gluc}\\right)$$\n",
    "\n",
    "\n",
    "Note that the 29.5 is derived from the molecular mass of SA of 118 g/mol (divided by 4 to obtain cmol) and that the 30 is derived from the molecular mass of glucose of 180 g/mol (divided by 6 to obtain cmol).\n",
    "\n",
    "The yield conversions are relatively straightforward but it is easy to swop numerators with denominators, so make sure that you develop your own method that is fool proof. \n",
    "\n"
   ]
  },
  {
   "cell_type": "markdown",
   "metadata": {},
   "source": [
    "### Overall reaction with biomass (X) included, MSG Example.\n",
    "\n",
    "We are now ready to tackle problems where biomass is included in the formulation given our understanding of the per carbon (or cmol) or stoichiometric formulation. We’ll tackle an aerobic fermentation with *Corynebacterium glutamicum* to make glutamate (one of the 20 amino acids).\n",
    "\n",
    "<img src=\"msg.jpg\" width=\"350\" />\n",
    "\n",
    "You might have heard about MSG or mono-sodium glutamate, the flavour enhancer that triggers the [umami]( https://en.wikipedia.org/wiki/Umami) taste sensors in your mouth (apart from sweet, sour, bitter and salt, umami is the fifth basic taste). Maybe you are acquainted with MSG via your mother telling you not to through too much Aromat on your eggs. There is the common perception that originated in the sixties that [MSG is unhealthy](http://authoritynutrition.com/msg-good-or-bad/). Today, most health regulatory institutions agree that small amounts of consumed MSG holds no health risk. Glutamate is after all one of the 20 amino acids, while MSG is just the sodium salt of the amino acid.\n",
    "Due to extensive usage of MSG in the East, the annual global production of glutamate exceeds two million tonnes. Most of this is produced via fermentation. Glutamate is directly synthesized from the TCA intermediate &#945;-ketoglutarate (or 2-oxoglutarate) where a mol of $NH_3$ and $NADPH$ is required for the enzymatic step. The overall stoichiometry from glucose to glutamic acid can be written as follow: \n",
    "\n",
    "$$$$\n",
    "\n",
    "$$CH_2 O+Y_{SN} NH_3+Y_{SO} O_2→Y_{SX} CH_{1.8} O_{0.5} N_{0.2}+Y_{SG} CH_{1.8} O_{0.8} N_{0.2}+Y_{SC} CO_2+Y_{SW} H_2 O$$\n"
   ]
  },
  {
   "cell_type": "markdown",
   "metadata": {},
   "source": [
    "This 7 component reaction can be described by the following matrix formulation:\n",
    "\n",
    "$$$$\n",
    "\n",
    "$$\\begin{bmatrix}\n",
    " &Gluc&NH_3&O_2&X&Glut&CO_2&H_2O\\\\\n",
    "C& -1&\t0&\t0&\t1&\t1&\t1&\t0\\\\\n",
    "H& -2&\t-3&\t0&\t1.8&\t1.8&\t0&\t2\\\\\n",
    "O& -1&\t0&\t-2&\t0.5&\t0.8&\t2&\t1\\\\\n",
    "N& 0&\t-1&\t0&\t0.2&\t0.2&\t0&\t0\\\\\n",
    "S_1&1&  0&0&0&0&0&0&\\\\\n",
    "S_2&0&0&1&0&0&0&0\\\\\n",
    "S_3&0&0&0&1&0&0&0\\end{bmatrix}\n",
    "\\times\\begin{bmatrix}\n",
    "-r_{S}\\\\-r_{N}\\\\-r_{O}\\\\r_{X}\\\\r_{G}\\\\r_{C}\\\\r_{W}\\end{bmatrix}\n",
    "=\\begin{bmatrix}0\\\\0\\\\0\\\\0\\\\1\\\\r_{O \\ value}\\\\r_{X \\ value}\\end{bmatrix}$$\n",
    "\n",
    "Note that there is 7 rates and 4 elemental balances. Given the arbitrary assignment of $-r_S=1$ in the fifth matrix row we need to specify two additional rates to have 7 equations and 7 unknowns. Given the fact that $-r_S=1$ the rates calculated in the above matrix will be the same as the yield coefficients ($Y_{Si}$). **Make sure you understand this.** Also make sure that you can deduct the formula for [glutamate](https://en.wikipedia.org/wiki/Glutamic_acid), Wikipedia pages will normally give you the molecular formula. Let's get it solved by assigning values of $-r_{O}=0.2$ and $r_{X}=0.1$:"
   ]
  },
  {
   "cell_type": "code",
   "execution_count": 17,
   "metadata": {
    "collapsed": false
   },
   "outputs": [
    {
     "data": {
      "text/plain": [
       "matrix([[-1. ,  0. ,  0. ,  1. ,  1. ,  1. ,  0. ],\n",
       "        [-2. , -3. ,  0. ,  1.8,  1.8,  0. ,  2. ],\n",
       "        [-1. ,  0. , -2. ,  0.5,  0.8,  2. ,  1. ],\n",
       "        [ 0. , -1. ,  0. ,  0.2,  0.2,  0. ,  0. ],\n",
       "        [ 1. ,  0. ,  0. ,  0. ,  0. ,  0. ,  0. ],\n",
       "        [ 0. ,  0. ,  1. ,  0. ,  0. ,  0. ,  0. ],\n",
       "        [ 0. ,  0. ,  0. ,  1. ,  0. ,  0. ,  0. ]])"
      ]
     },
     "execution_count": 17,
     "metadata": {},
     "output_type": "execute_result"
    }
   ],
   "source": [
    "import numpy\n",
    "S = numpy.matrix([[-1,0,0,1,1,1,0],\n",
    "                  [-2,-3,0,1.8,1.8,0,2],\n",
    "                  [-1,0,-2,0.5,0.8,2,1],                  \n",
    "                  [0,-1,0,0.2,0.2,0,0],\n",
    "                  [1,0,0,0,0,0,0],\n",
    "                  [0,0,1,0,0,0,0],\n",
    "                  [0,0,0,1,0,0,0]])  \n",
    "\n",
    "S"
   ]
  },
  {
   "cell_type": "code",
   "execution_count": 18,
   "metadata": {
    "collapsed": false
   },
   "outputs": [
    {
     "data": {
      "text/plain": [
       "matrix([[ 1.        ],\n",
       "        [ 0.17444444],\n",
       "        [ 0.2       ],\n",
       "        [ 0.1       ],\n",
       "        [ 0.77222222],\n",
       "        [ 0.12777778],\n",
       "        [ 0.47666667]])"
      ]
     },
     "execution_count": 18,
     "metadata": {},
     "output_type": "execute_result"
    }
   ],
   "source": [
    "C = numpy.matrix([[0,0,0,0,1,0.2,0.1]]).T\n",
    "Y = numpy.linalg.solve(S,C)\n",
    "Y"
   ]
  },
  {
   "cell_type": "markdown",
   "metadata": {},
   "source": [
    "Let’s define the mass based yield of glutamate on glucose:"
   ]
  },
  {
   "cell_type": "code",
   "execution_count": 19,
   "metadata": {
    "collapsed": false
   },
   "outputs": [
    {
     "name": "stdout",
     "output_type": "stream",
     "text": [
      "[[ 0.75677778]]\n"
     ]
    }
   ],
   "source": [
    "YSG_mass=Y[4]*(12+1.8+0.8*16+0.2*14)/(12+2+16)  #remember fith element is index 4\n",
    "print(YSG_mass)"
   ]
  },
  {
   "cell_type": "markdown",
   "metadata": {},
   "source": [
    "So 0.757 gram of glucumate per gram of glucose used. Make sure you understand the above conversion.\n",
    "\n",
    "It is all very easy! Just ensure your stoichiometric matrix is correct.\n",
    "\n",
    "<img src=\"424.jpg\" width=\"350\" />\n",
    "\n",
    "### Now we are ready for some problems!\n",
    "\n",
    "[Back to Contents page](https://nbviewer.jupyter.org/github/willienicol/Biochemical-engineering-notes/blob/master/List%20of%20contents.ipynb)"
   ]
  },
  {
   "cell_type": "code",
   "execution_count": null,
   "metadata": {
    "collapsed": true
   },
   "outputs": [],
   "source": []
  }
 ],
 "metadata": {
  "kernelspec": {
   "display_name": "Python 3",
   "language": "python",
   "name": "python3"
  },
  "language_info": {
   "codemirror_mode": {
    "name": "ipython",
    "version": 3
   },
   "file_extension": ".py",
   "mimetype": "text/x-python",
   "name": "python",
   "nbconvert_exporter": "python",
   "pygments_lexer": "ipython3",
   "version": "3.5.1"
  }
 },
 "nbformat": 4,
 "nbformat_minor": 0
}
