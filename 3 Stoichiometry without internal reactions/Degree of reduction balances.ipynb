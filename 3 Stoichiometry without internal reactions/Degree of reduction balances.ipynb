{
 "cells": [
  {
   "cell_type": "markdown",
   "metadata": {},
   "source": [
    "## The degree of reduction method for balancing equations\n",
    "\n",
    "The degree of reduction (DOR) method uses set oxidation states of carbon ($+4$), hydrogen ($+1$), oxygen ($-2$) and nitrogen ($-3$) to perform the hydrogen and oxygen balances in a single balance by excluding water. Instead of having the normal 4 balances ($C,H,O$ and $N$) we end up with a $C$, $DOR$ and $N$ balance where the water yield coefficient is ignored. We thus end up with one less equation but also with one less yield coefficient. It can be considered as a shortcut and alternative method for calculating yield coefficients. The $DOR$ balance is similar to the $NADH$ balance that we will perform in chapter 4.\n",
    "\n",
    "To illustrate the $DOR$ balance we can use the succinic acid example considered before by excluding water as product.\n",
    "\n",
    "$$$$\n",
    "$$(-r_S)\\ CH_2 O+(-r_C)\\ CO_2→(r_{SA})\\ CH_{1.5} O$$\n",
    "\n",
    "The DOR for $CH_2O$ will be $4+2(1)-2=4$.\n",
    "$$$$\n",
    "For $CO_2$ it will be $4+2(-2)=0$\n",
    "$$$$\n",
    "and for $CH_{1.5}O$ it will be $4+1.5(1)-2=3.5$\n",
    "$$$$\n",
    "We can now replace the $H$ and $O$ balances with a $DOR$ balance to get the following:\n",
    "$$$$\n",
    "\n",
    "$$\\begin{bmatrix}-1&-1 & 1\\\\-4&0&3.5\\\\1&0&0\\end{bmatrix}\\times\\begin{bmatrix}-r_s\\\\-r_C\\\\r_{SA}\\end{bmatrix}=\\begin{bmatrix}0\\\\0\\\\1\\end{bmatrix}$$\n",
    "\n",
    "Note the sign difference between reagents and products for the $DOR$ balance. It is exactly the same as that of the carbon balance. Similar to before $-r_{SA}$ is chosen as 1.\n",
    "\n",
    "$$$$\n",
    "Compare to the previous formulation where we had a $4 \\times 4$ matrix:\n",
    "$$$$\n",
    "\n",
    "$$\\begin{bmatrix}-1&-1 & 1 & 0\\\\-2&0&1.5&2\\\\-1&-2&1&1\\\\1&0&0&0\\end{bmatrix}\\times\\begin{bmatrix}-r_s\\\\-r_C\\\\r_{SA}\\\\r_W\\end{bmatrix}=\\begin{bmatrix}0\\\\0\\\\0\\\\1\\end{bmatrix}$$\n",
    "$$$$\n",
    "\n",
    "Both formulations will result in the same answers for the non-water yield coeffisients. Let's check:\n"
   ]
  },
  {
   "cell_type": "code",
   "execution_count": 5,
   "metadata": {
    "collapsed": false
   },
   "outputs": [
    {
     "name": "stdout",
     "output_type": "stream",
     "text": [
      "[[ 1.        ]\n",
      " [ 0.14285714]\n",
      " [ 1.14285714]\n",
      " [ 0.14285714]]\n"
     ]
    }
   ],
   "source": [
    "import numpy\n",
    "S4 = numpy.matrix([[-1,-1, 1,   0],  \n",
    "                  [-2 ,0,  1.5, 2],  # H balance\n",
    "                  [-1,-2,  1,  1],   # O balance\n",
    "                  [1,  0,   0, 0]])\n",
    "\n",
    "C = numpy.matrix([[0,0,0,1]]).T\n",
    "Y = numpy.linalg.solve(S4,C)\n",
    "print(Y)"
   ]
  },
  {
   "cell_type": "code",
   "execution_count": 6,
   "metadata": {
    "collapsed": false
   },
   "outputs": [
    {
     "name": "stdout",
     "output_type": "stream",
     "text": [
      "[[ 1.        ]\n",
      " [ 0.14285714]\n",
      " [ 1.14285714]]\n"
     ]
    }
   ],
   "source": [
    "import numpy\n",
    "S3 = numpy.matrix([[-1,-1, 1],     \n",
    "                  [-4 ,0, 3.5],   # DOR balance\n",
    "                  [1,  0,   0]])\n",
    "\n",
    "C = numpy.matrix([[0,0,1]]).T\n",
    "Y = numpy.linalg.solve(S3,C)\n",
    "print(Y)"
   ]
  },
  {
   "cell_type": "markdown",
   "metadata": {},
   "source": [
    "Convinced?\n",
    "\n",
    "For examples with nitrogen components remember to use $-3$ when calculating the $DOR$. $NH_3$ will have a $DOR$ of zero!\n",
    "\n",
    "[Back to Contents page](https://nbviewer.jupyter.org/github/willienicol/Biochemical-engineering-notes/blob/master/List%20of%20contents.ipynb)"
   ]
  },
  {
   "cell_type": "code",
   "execution_count": null,
   "metadata": {
    "collapsed": true
   },
   "outputs": [],
   "source": []
  }
 ],
 "metadata": {
  "kernelspec": {
   "display_name": "Python 3",
   "language": "python",
   "name": "python3"
  },
  "language_info": {
   "codemirror_mode": {
    "name": "ipython",
    "version": 3
   },
   "file_extension": ".py",
   "mimetype": "text/x-python",
   "name": "python",
   "nbconvert_exporter": "python",
   "pygments_lexer": "ipython3",
   "version": "3.5.1"
  }
 },
 "nbformat": 4,
 "nbformat_minor": 0
}
