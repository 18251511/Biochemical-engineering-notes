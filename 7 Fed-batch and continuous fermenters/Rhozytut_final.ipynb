{
 "cells": [
  {
   "cell_type": "markdown",
   "metadata": {},
   "source": [
    "## Sugar addicted *Rhizopus oryzae*\n",
    "### by Eleanor Reynecke\n",
    "\n",
    "*Rhizopus oryzae*, referred to as *Rhozy* in our lab is an interesting soil fungus that produces fumaric acid under the correct conditions. *Rhozy* consumes glucose at a fixed maximum rate independent of the conditions in the fermenter. When *Rhozy* runs out of a nitrogen source biomass production is not possible, but this does not not stop the fungus from consuming glucose at the maximum possible uptake rate. In this tut we will be looking at the mechanisms that this clever organism uses to process all the consumed glucose. We will look at special transporter proteins in the cell membrane that excretes fumaric acid by using some of the internally generated ATP. You will be expected to set up the flux model by yourself and also incorporate the nitrogen source as an additional substrate. The metabolic flux diagram is given below:\n",
    "\n",
    "<img src=\"RhozyMap.png\" width=\"500\" />\n",
    "\n",
    "We have recently established in our own lab that *Rhozy* is Crabtree positive, just like *Saccharomyces cerevisiae*. You have to accordingly take note of the maximum allowable flux to $r_5$.\n"
   ]
  },
  {
   "cell_type": "markdown",
   "metadata": {},
   "source": [
    "The following physiological parameters are known:\n",
    "\n",
    "|$\\alpha \\qquad \\qquad$|$\\gamma \\qquad \\qquad $|$\\mu_{max} \\qquad$|$\\theta_{max} \\qquad$|$P/O$\n",
    "|----|-|-|-|-|-\n",
    "|$\\frac{\\text{cmol $CO_2$}}{\\text{cmol X}}$|$\\frac{\\text{mol ATP}}{\\text{cmol X}}$|$\\frac{1}{\\text{h}}$|$\\frac{\\text{mol ATP}}{\\text{cmol X}\\cdot \\text{h}}$| $\\frac{\\text {mol ATP}}{\\text {mol NADH} }$\n",
    "|0.1|2.5|0.1|0|1.5\n",
    "\n",
    "The biomass formula is given by $CH_{1.8}O_{0.5}N_{0.2}$\n",
    "\n",
    "The growth rate is given by the following equation:\n",
    "\n",
    "$$\\mu(C_S,C_N)= \\mu_{max} \\left[\\frac{Cs}{K_{M1}+Cs} \\right] \\left[\\frac{C_N}{K_{M2}+C_N} \\right] $$\n",
    "\n",
    "$C_N$ is the concentration of $NH_3$ in the liquid. $K_{M1}$ is 0.0002 $\\frac{cmol}{L}$ and $K_{M2}$ is 0.0003 $\\frac{mol}{L}$."
   ]
  },
  {
   "cell_type": "code",
   "execution_count": 1,
   "metadata": {
    "collapsed": true
   },
   "outputs": [],
   "source": [
    "import numpy\n",
    "from numpy.linalg import solve\n",
    "from scipy.optimize import fsolve, minimize\n",
    "import matplotlib.pyplot as plt\n",
    "from scipy.integrate import odeint\n",
    "import pandas\n",
    "from __future__ import division\n",
    "%matplotlib inline"
   ]
  },
  {
   "cell_type": "code",
   "execution_count": 71,
   "metadata": {
    "collapsed": true
   },
   "outputs": [],
   "source": [
    "β = 0.1\n",
    "α, γ, μ_max, θ, P_O = 0.1, 2.5, 0.1, 0, 1.5\n",
    "Kms, Kmn = 0.0002, 0.0003\n",
    "r_gluc = 0.25\n",
    "r5_max = 0.055 \n",
    "Cso,Cxo,Cno =  2.5, 0.05, 0.05\n"
   ]
  },
  {
   "cell_type": "markdown",
   "metadata": {},
   "source": [
    "a) Determine the yield of ammonia on biomass. Will this relationship change? Why/why not? [$Y_{XU} = 0.2 \\frac{cmolU}{cmolX}$]"
   ]
  },
  {
   "cell_type": "markdown",
   "metadata": {},
   "source": [
    "b) To excrete fumaric acid *Rhozy* has to use a special transporter protein that uses 3 ATPs for each molecule of fumaric acid excreted. This implies that there is energy usage associated with the $r_3$ flux in a similar manner the energy usage of $\\gamma$ is associated with the $r_1$ flux. Perform the ATP balance and prove to yourself that you can obtain the following:\n",
    "\n",
    "$$-\\gamma r_1+ \\frac{1}{3} r_2 + \\frac{1}{3} r_5 – r_3 + 2(\\frac{P}{O})r_6 = \\theta$$"
   ]
  },
  {
   "cell_type": "markdown",
   "metadata": {},
   "source": [
    "c) Set up your own flux model for *Rhozy*. The maximum glucose uptake rate is 0.25 $\\frac{cmol}{cmolX \\cdot h}$. The Crabtree effect is defined by a maximum rate in $r_5$ of 0.055 $\\frac{cmol}{cmolX \\cdot h}$. What is the rate of ethanol excretion when the growth rate is not inhibited (at $\\mu_{max}$)? [0.045 $\\frac{cmol}{cmolX \\cdot h}$]"
   ]
  },
  {
   "cell_type": "markdown",
   "metadata": {},
   "source": [
    "d) Model the fermentation by incorporating the $NH_3$ concentration. Add the rate of ammonia in your response function using the yield of ammonia on biomass. Assume there are no oxygen limitations. Remember that because of *Rhozy's* sugar addiction, glucose will be consumed at a constant rate at all times. You should get the following:\n",
    "\n",
    "<img src=\"Rhozy_pic1.png\" width=\"500\" />\n",
    "\n"
   ]
  },
  {
   "cell_type": "markdown",
   "metadata": {},
   "source": [
    "e) Plot the rates of the liquid phase components and explain the response obtained in (d). Have a close look at the ethanol rates.\n",
    "\n",
    "\n",
    "\n"
   ]
  },
  {
   "cell_type": "markdown",
   "metadata": {},
   "source": [
    "g)Repeat question (d) in an anaerobic fermenter. What do you observe?\n",
    "\n",
    "h) What will be the maximum growth rate of *Rhozy* if fumerate uptake is not possible? Obtain the value and show that the following fermenter profile will be obtained if 3.5 $\\frac{cmol}{L}$ of glucose is fed:\n",
    "\n",
    "<img src=\"Rhozy_pic2.png\" width=\"500\" />"
   ]
  },
  {
   "cell_type": "markdown",
   "metadata": {},
   "source": [
    "i) Return to question (d). What happens to the yield of fumarate on glucose when the initial amount of nitrogen is reduced? How does this effect the productivity?\n",
    "\n",
    "In fermentation engineering there is typically a trade-off between yield and productivity. By increasing one parameter we decrease the other. The optimum process will thus be determined by the profit objective function (POF). Let's assume that the profitability of the fermenter is determined by the following function:\n",
    "\n",
    "\n",
    "$$POF=P + 0.2 \\cdot APY$$\n",
    "\n",
    "Where $P$ is fumaric acid productivity in $\\frac{g}{L \\cdot h}$ and $APY$ is accumalative fumeraric acid yield in $\\frac{g}{g}$."
   ]
  },
  {
   "cell_type": "markdown",
   "metadata": {},
   "source": [
    "j) Determine the optimum intial concentration of ammonia. Generate a range of P and APY values as a function of the initial ammonia amount to start the calculation. "
   ]
  },
  {
   "cell_type": "code",
   "execution_count": null,
   "metadata": {
    "collapsed": true
   },
   "outputs": [],
   "source": []
  }
 ],
 "metadata": {
  "kernelspec": {
   "display_name": "Python 3",
   "language": "python",
   "name": "python3"
  },
  "language_info": {
   "codemirror_mode": {
    "name": "ipython",
    "version": 3
   },
   "file_extension": ".py",
   "mimetype": "text/x-python",
   "name": "python",
   "nbconvert_exporter": "python",
   "pygments_lexer": "ipython3",
   "version": "3.6.1"
  }
 },
 "nbformat": 4,
 "nbformat_minor": 2
}
