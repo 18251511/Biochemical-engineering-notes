{
 "cells": [
  {
   "cell_type": "markdown",
   "metadata": {},
   "source": [
    "## Crabtree positive organisms\n",
    "### (_by Ignatius van Rooyen_)\n",
    "\n",
    "In 1931 Heinrich Warburg received the Nobel price for his work on cancer. Today the cause of the [Warburg effect](https://en.wikipedia.org/wiki/Warburg_effect_(oncology) is still widely debated. The biochemist Herman Crabtree discovered that the bread/wine yeast _Saccharomyces cerevisiae_ behaves in a similar manner to cancer cells, where fermentation pathways (ethanol or lactic acid) are employed in combination with the respiratory pathways when the carbon substrate (like glucose) is freely available. So this implies that _S. cerevisiae_ produces ethanol in aerobic conditions. There are numerous ways to interpret the Crabtree effect, but ultimately it boils down to a limit in mitochondrial activity. The cells exhibit a maximum respiratory capacity that is not induced by an oxygen limitation like the example in Tut 11. Given that the cells are able to take up vast amounts of glucose, more ATP can be obtained by employing the fermentative pathways in the cytosol.\n",
    "\n",
    "In this tutorial we'll model _S. cerevisiae_ under aerobic conditions where oxygen mass transfer limitations are not considered (we'll assume a massive sparging rate in the fermenter). We will also look at the commercial process where _S. cerevisiae_ is produced for the baking industry. In this process the objective is to limit ethanol formation since ethanol will reduce the yield of biomass on glucose.\n",
    "\n",
    "For the yeast in this study you can assume a maximum mitochondrial ATP production rate of $0.25 \\frac{cmol ATP}{cmol\\,X\\cdot h}$. The flux model is the same as before and is given below:\n",
    "\n",
    "<img src=\"etresp.png\" width=\"650\" />\n",
    "\n",
    "The following physiological parameters will be used:\n",
    "\n",
    "\n",
    "|$\\alpha \\qquad \\qquad$|$\\gamma \\qquad \\qquad $|$\\mu_{max} \\qquad$|$\\theta_{max}\\qquad$| $(P/O)$ $\\qquad \\qquad$\n",
    "|----|-|-|-|-\n",
    "|$\\frac{cmol\\,CO_2}{cmol \\, X}$|$\\frac{mol \\, ATP}{Cmol \\, X}$|$\\frac{1}{h}$|$\\frac{mol \\, ATP}{cmol\\,X\\cdot h}$|$\\frac{mol\\,ATP}{mol\\, O}$\n",
    "|0.05|2.3|0.25|0.15|1.5\n",
    "\n",
    "Let's assume the standard biomass formula of $CH_{1.8}O_{0.5}N_{0.2}$.\n",
    "\n",
    "The growth and maintenance functions are given below:\n",
    "\n",
    "$$\\mu=\\mu_{max}\\left[\\frac{Cs}{Km+Cs}\\right] \\left[1-\\frac{C_e}{C_e^*} \\right]$$\n",
    "\n",
    "$$\\theta=\\theta_{max}\\left[\\frac{Cs}{Km+Cs}\\right]$$\n",
    "\n",
    "Parameters are defined in the cell below:\n",
    "\n"
   ]
  },
  {
   "cell_type": "code",
   "execution_count": 1,
   "metadata": {
    "collapsed": true
   },
   "outputs": [],
   "source": [
    "Cemax, Km= 2.5, 0.01"
   ]
  },
  {
   "cell_type": "markdown",
   "metadata": {},
   "source": [
    "a) What is the maximum pyruvate flux to the TCA cycle? [$ 0.068\\frac{cmol ATP}{cmol\\,X\\cdot h}$]"
   ]
  },
  {
   "cell_type": "markdown",
   "metadata": {},
   "source": [
    "b) Incorperate the Crabtree effect in your flux model and generate the relevant concentration profiles.\n",
    "\n",
    "<img src=\"crabtree1.png\" width=\"450\" />"
   ]
  },
  {
   "cell_type": "markdown",
   "metadata": {},
   "source": [
    "c) Why does ethanol formation terminate towards the end?\n",
    "\n",
    "d) Plot $\\mu$ as a function of time and explain.\n",
    "\n",
    "<img src=\"crabtree2.png\" width=\"450\" />\n",
    "\n",
    "e) Rerun the fermentation but add 2 $\\frac{cmol}{L}$ of ethanol at the start. How long does it take to complete the fermentation? Does additional ethanol form and why? [136 h]\n",
    "\n",
    "f)  You are employed to produce this yeast for a bakery. You decide to use a fed-batch reactor with a constant feed of glucose. Starting with the same inoculum concentration of biomass and zero glucose in a 50 liter fermenter you add a syrup of 400 $\\frac{g}{L}$ to the fermenter at a chosen constant feed rate. The fermenter cannot exceed a final volume of 100 liter, so your final time will be a function of the chosen flowrate. The objective is to maximise the yield of biomass on glucose in the shortest possible fermentation time. Plot $\\mu$ for all your attempts and analyse. Convince yourself that the maximum possible yield is 0.465 $\\frac{g}{g}$. Start with a feedrate of 1 $\\frac{L}{h}$.\n",
    "\n",
    "<img src=\"crabtree3.png\" width=\"450\" />\n",
    "\n",
    "g) To further improve the productivity, it is suggested that you can use the spectrophotometric reading of the biomass concentration to adjust the flowrate with time. Use a proportional constant ($Q=kC_X$) and investigate. "
   ]
  },
  {
   "cell_type": "code",
   "execution_count": null,
   "metadata": {
    "collapsed": true
   },
   "outputs": [],
   "source": []
  }
 ],
 "metadata": {
  "kernelspec": {
   "display_name": "Python 3",
   "language": "python",
   "name": "python3"
  },
  "language_info": {
   "codemirror_mode": {
    "name": "ipython",
    "version": 3
   },
   "file_extension": ".py",
   "mimetype": "text/x-python",
   "name": "python",
   "nbconvert_exporter": "python",
   "pygments_lexer": "ipython3",
   "version": "3.6.1"
  }
 },
 "nbformat": 4,
 "nbformat_minor": 2
}
