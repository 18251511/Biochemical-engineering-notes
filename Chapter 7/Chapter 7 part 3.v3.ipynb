{
 "metadata": {
  "kernelspec": {
   "display_name": "Python 3",
   "language": "python",
   "name": "python3"
  },
  "language_info": {
   "codemirror_mode": {
    "name": "ipython",
    "version": 3
   },
   "file_extension": ".py",
   "mimetype": "text/x-python",
   "name": "python",
   "nbconvert_exporter": "python",
   "pygments_lexer": "ipython3",
   "version": "3.5.1"
  },
  "name": ""
 },
 "nbformat": 3,
 "nbformat_minor": 0,
 "worksheets": [
  {
   "cells": [
    {
     "cell_type": "markdown",
     "metadata": {},
     "source": [
      "## 7.3 Facultative anaerobes\n",
      "\n",
      "Some organisms like lactic acid bacteria and _Saccharomyces cerevisiae_ are able to survive under aerobic and anaerobic conditions. This implies that energy (ATP) can be generated form respiration (oxidative phosphorylation) or substrate level phosphorylation (ATP generation from the fermentative pathways). In this last example it will be illustrated how the organism changes its flux distribution (stoichiometry) as the oxygen availability in the fermenter alters. \n",
      "\n",
      "<img src=\"saccie.jpg\" width=\"450\" />\n",
      "\n",
      "We\u2019ll use the _S. cerevisiae_ example from chapter 6 (section 6.5 in part 1), but we\u2019ll include a respiration flux. The example will illustrate how an overall stoichiometry approach can replace the two-stoichiometry (growth and maintenance) approach followed for all the examples in the notes thus far. Instead of using a linear combination  of two stoichiometries to obtain the overall stoichiometry (remember z), the overall stoichiometry will be obtained from a single matrix formulation. Comprehension of this will give you another tool for tackling nasty test/exam questions, so have a close look at the example. \n",
      "\n",
      "We\u2019ll start by defining the flux model:\n",
      "\n",
      "<img src=\"etresp.png\" width=\"850\" />\n"
     ]
    },
    {
     "cell_type": "markdown",
     "metadata": {},
     "source": [
      "The flux model given above may appear different than before. It is evident that the $C$-vector now contains biomass based rates ($r^{'}$) instead of yields used before. Also the ATP balance is not equal to zero anymore. The $S$-matrix however remain the same as before except that the glucose flux is not defined as unity anymore. This leaves one with the question what the units of flux should be? The answer is that it does not matter ** as long as the ratio between the fluxes represents the cmol-based yields.** In our previous formulations we have divided all the fluxes by $r_S^{'}$ and accordingly the substrate based yields were used to define the fluxes:\n",
      "\n",
      "$$Y_{Si}=\\frac{r^{'}_i}{r_S^{'}}$$\n",
      "\n",
      "In this 'new' formulation we use the biomass based rates ($r^{'}$) as fluxes. Nothing is changing since the **ratio of cmol rates represents the cmol yields.**\n",
      "\n",
      "The ATP balance above is equal to the rate of maintenance ATP production ($r^{'}_{ATP_M}=\\theta$). In our previous formulations the ATP balance was set equal to zero when solving the **growth** stoichiometry. For these cases the implication was that all ATP generated for growth ($r^{'}_{ATP_G}=\\gamma\\mu$) was consumed by the biomass flux ($v_2$) and hence the net ATP produced was zero. The ATP balance above combines **growth and maintenance** where the excess ATP (not used for growth but for maintenance) is given by $\\theta$. \n",
      "\n",
      "The 'new' formulation is simpler than the two stoichiometry approach used before. Before we had a fixed growth and maintenance stoichiometry where $z$ was used to linearly combine the two stoichiometries into the overall stoichiometry ($Y^{o}$). By now you should clearly understand that $z$ varied according to changes in $\\mu$ and $\\theta$ (caused by $C_S$ and $C_P$ changes in the fermenter). The formulation above takes $\\mu$ and $\\theta$ directly and solves for the overall stoichiometry ($Y^{o}$). Since $\\mu$ and $\\theta$ will vary, the overall stoichiometry will change accordingly.\n",
      "\n",
      "To tests the statements above we can compare the 'new' formulation to the formulation in section 6.5. In order to compare we should consider pure anaerobic conditions (set $v_3=v_7=0$). The following parameters was used in the example:\n",
      "\n",
      "|$\\alpha \\qquad \\qquad$|$\\gamma \\qquad \\qquad $|$\\mu_{max} \\qquad$|$\\theta_{max}\\qquad$| $(P/O)$ $\\qquad \\qquad$\n",
      "|----|-|-|-|-\n",
      "|$\\frac{cmol\\,CO_2}{cmol \\, X}$|$\\frac{mol \\, ATP}{Cmol \\, X}$|$\\frac{1}{h}$|$\\frac{mol \\, ATP}{cmol\\,X\\cdot h}$|$\\frac{mol\\,ATP}{mol\\, O}$\n",
      "|0.1|1.8|0.3|0.15|1.5\n",
      "\n",
      "Given the standard biomass formula of $CH_{1.8}O_{0.5}N_{0.2}$, $\\beta$ can be calculated as 0.1 $\\frac{mol\\, NADH}{cmol\\,X}$.\n",
      "\n",
      "Assuming that $\\mu=\\mu_{max}$ and $\\theta=\\theta_{max}$ we can solve for the matrix."
     ]
    },
    {
     "cell_type": "code",
     "collapsed": false,
     "input": [
      "import numpy\n",
      "alpha, beta, gamma, PO =0.1, 0.1,1.8, 1.5\n",
      "mu, theta= 0.3, 0.15\n",
      "S = numpy.matrix([[-1,1+alpha,1,1,0,0,0],\n",
      "                  [0,0,0,-1,1,1.5,0],\n",
      "                  [0,beta,2,0,-1/3,0,-2],\n",
      "                  [0,-gamma,2/3,-1/3,0,1,2*PO],\n",
      "                  [0,1,0,0,0,0,0],\n",
      "                  [0,0,1,0,0,0,0],\n",
      "                  [0,0,0,0,0,0,1]])\n",
      " \n",
      "C = numpy.matrix([0, 0, 0, theta,mu,0,0]).T\n",
      "r = numpy.linalg.solve(S, C)        #solving for rates instead of yields"
     ],
     "language": "python",
     "metadata": {},
     "outputs": [],
     "prompt_number": 1
    },
    {
     "cell_type": "markdown",
     "metadata": {},
     "source": [
      "By merely deviding with $r^{'}_S$ we obtain the yield coeffisients:"
     ]
    },
    {
     "cell_type": "code",
     "collapsed": false,
     "input": [
      "Ysi=r[:,0]/r[0,0]\n",
      "Ysi[:,0]"
     ],
     "language": "python",
     "metadata": {},
     "outputs": [
      {
       "metadata": {},
       "output_type": "pyout",
       "prompt_number": 2,
       "text": [
        "matrix([[  1.00000000e+00],\n",
        "        [  1.16279070e-01],\n",
        "        [ -4.88998866e-19],\n",
        "        [  8.72093023e-01],\n",
        "        [  3.48837209e-02],\n",
        "        [  5.58139535e-01],\n",
        "        [  0.00000000e+00]])"
       ]
      }
     ],
     "prompt_number": 2
    },
    {
     "cell_type": "markdown",
     "metadata": {},
     "source": [
      "Compare this to the answers at the end of chapter 6 part 1. They are **exactly the same!** Hope that you are now convinced that the 'new' formulation is correct.  \n",
      "\n",
      "To furhter illustrate the elegance of the 'new' formulation we can repeat the integration performed in chapter 6 part 2. We'll quickly recap on the inhibition functions:\n",
      "\n",
      "$$\\mu=\\mu_{max}\\left[\\frac{Cs}{Km+Cs}\\right] \\left[1-\\frac{C_e}{C_e^*} \\right]$$\n",
      "\n",
      "$$\\theta=\\theta_{max}\\left[\\frac{Cs}{Km+Cs}\\right]$$\n",
      "\n",
      "and define the parameters as given before:"
     ]
    },
    {
     "cell_type": "code",
     "collapsed": true,
     "input": [
      "mumax, thetamax =0.3, 0.15\n",
      "Cemax, Km= 3, 0.01"
     ],
     "language": "python",
     "metadata": {},
     "outputs": [],
     "prompt_number": 3
    },
    {
     "cell_type": "markdown",
     "metadata": {},
     "source": [
      "Given that $\\mu$ and $\\theta$ change during the fermentation, we'll have to **solve the matrix above within the response function:**"
     ]
    },
    {
     "cell_type": "code",
     "collapsed": true,
     "input": [
      "def r_prime(C):\n",
      "    Cx, Cs, Cg, Ce = C         \n",
      "    mu=mumax*Cs/(Km+Cs)*(1-Ce/Cemax)\n",
      "    theta=thetamax*Cs/(Km+Cs)\n",
      "    if mu < 0:                 # there may be more ethanol production via maintenance, don't want negative mu's\n",
      "        mu=0\n",
      "    \n",
      "    S = numpy.matrix([[-1,1+alpha,1,1,0,0,0],\n",
      "                  [0,0,0,-1,1,1.5,0],\n",
      "                  [0,beta,2,0,-1/3,0,-2],\n",
      "                  [0,-gamma,2/3,-1/3,0,1,2*PO],\n",
      "                  [0,1,0,0,0,0,0],\n",
      "                  [0,0,1,0,0,0,0],\n",
      "                  [0,0,0,0,0,0,1]])\n",
      "\n",
      "    C = numpy.matrix([0, 0, 0, theta,mu,0,0]).T\n",
      "    r = numpy.linalg.solve(S, C) \n",
      "        \n",
      "    \n",
      "    return [mu,\n",
      "            -r[0,0],   #flux v1\n",
      "            r[4,0],    #flux v5\n",
      "            r[5,0]]       "
     ],
     "language": "python",
     "metadata": {},
     "outputs": [],
     "prompt_number": 4
    },
    {
     "cell_type": "markdown",
     "metadata": {},
     "source": [
      "Much easier not having to work with the two sets of yield coeffisients! Let's see if we get the same answer as before:"
     ]
    },
    {
     "cell_type": "code",
     "collapsed": true,
     "input": [
      "def dNdt_fun(N,t):\n",
      "    Cx, Cs, Cg, Ce, V = N[0]/N[4],N[1]/N[4],N[2]/N[4],N[3]/N[4],N[4]  #calculating and naming concentration and volume \n",
      "    r=r_prime([Cx, Cs, Cg, Ce])\n",
      "    \n",
      "    return [Qf*Cxf-Q*Cx+(r[0])*Cx*V,\n",
      "            Qf*Csf-Q*Cs+(r[1])*Cx*V,    \n",
      "            Qf*Cgf-Q*Cg+(r[2])*Cx*V,                        \n",
      "            Qf*Cef-Q*Ce+(r[3])*Cx*V,\n",
      "            Qf-Q]   "
     ],
     "language": "python",
     "metadata": {},
     "outputs": [],
     "prompt_number": 5
    },
    {
     "cell_type": "code",
     "collapsed": true,
     "input": [
      "def solve_ferm(tmax):\n",
      "    tspan=numpy.linspace(0,tmax,200)             #define the timespan of the integration\n",
      "    N = odeint(dNdt_fun, No, tspan)\n",
      "\n",
      "    Cx=N[:,0]/N[:,4]                           #devide cmol amount by the volume to get concentration \n",
      "    Cs=N[:,1]/N[:,4]\n",
      "    Cp=N[:,3]/N[:,4]\n",
      "    V=N[:,4]\n",
      "\n",
      "    plt.plot(tspan, Cp, color='blue', label='p')\n",
      "    plt.plot(tspan, Cs, color='red',label='s')\n",
      "    plt.plot(tspan, Cx, color='green',label='x')\n",
      "    plt.legend(loc='best')\n",
      "    plt.ylabel('Concentration cmol/L') \n",
      "    plt.xlabel('time (h)') \n",
      "    plt.show()\n",
      "\n",
      "    return N,tspan"
     ],
     "language": "python",
     "metadata": {},
     "outputs": [],
     "prompt_number": 6
    },
    {
     "cell_type": "markdown",
     "metadata": {},
     "source": [
      "We'll copy the conditions in chapter 6 part 2:"
     ]
    },
    {
     "cell_type": "code",
     "collapsed": false,
     "input": [
      "import matplotlib.pyplot as plt\n",
      "%matplotlib inline \n",
      "from scipy.integrate import odeint\n",
      "Qf=Q=Cxf=Csf=Cgf=Cef=0  \n",
      "Vo=1000\n",
      "Co=numpy.array([0.001, 7, 0, 0, 1])     #Increase the initial glucose concentration to 7 cmol/L\n",
      "No=Co*Vo\n",
      "N, tspan = solve_ferm(40)"
     ],
     "language": "python",
     "metadata": {},
     "outputs": [
      {
       "metadata": {},
       "output_type": "display_data",
       "png": "[encoded data removed]",
       "text": [
        "<matplotlib.figure.Figure at 0x637bfdfcc0>"
       ]
      }
     ],
     "prompt_number": 7
    },
    {
     "cell_type": "markdown",
     "metadata": {},
     "source": [
      "We can compare to what we had before:\n",
      "\n",
      "<img src=\"compare.png\" width=\"400\" />\n"
     ]
    },
    {
     "cell_type": "markdown",
     "metadata": {},
     "source": [
      "They are the same! Less work to get to the same answer. \n",
      "\n",
      "<img src=\"simplify.jpg\" width=\"350\" />\n",
      "\n",
      "\n",
      "### Selective oxygen addition"
     ]
    },
    {
     "cell_type": "markdown",
     "metadata": {
      "collapsed": true
     },
     "source": [
      "We'll now use the example above by adding oxygen to the fermenter. The maximum oxygen supply will be determined by the mass transfer coefficient. Given biomass build-up in the fermenter a point will be reached where all the oxygen is consumed by the organism. Unlike chapter 7 part 2 this will not slow down growth. A singe function of growth rate ($\\mu$) will be used, implying that growth will continue at the same rate under aerobic and anaerobic conditions. So the ATP required to sustain growth and maintenance can be obtained from respiration or ethanol formation. \n",
      "\n",
      "We'll start by defining the oxygen mass transfer rate and a new value for $\\gamma$: "
     ]
    },
    {
     "cell_type": "code",
     "collapsed": true,
     "input": [
      "gamma=2.2\n",
      "kla=400 #1/h\n",
      "Co_sat= 7/1000/32  #mol O2 per liter"
     ],
     "language": "python",
     "metadata": {},
     "outputs": [],
     "prompt_number": 18
    },
    {
     "cell_type": "markdown",
     "metadata": {},
     "source": [
      "The organism won't produce ethanol (and glycerol) if oxygen is avaialable. The rate function splitS into an aerobic an partial aerobic section. In the aerobic section oxygen is freely available and oxygen mass transfer is not at the maximum rate ($C_{O_2}>0$):\n",
      "\n",
      "$$r_{O_2}^{mt_{max}}>r^{'}_{O_2}\\cdot C_X$$\n",
      "\n",
      "In this regime no products other than biomass is formed and hence the ethanol and glycerol rates are set to zero (see the first matrix formulation in r_prime). If the above condition is not satisfied, the partial aerobic regime will apply. In this regime the oxygen consumption (for respiration) is not sufficient to supply the energy requirements for growth and maintenace and hence additional carbon has to be consumed for ethanol production to generate the ATP deficit. You will see that the second matrix formulation specifies the oxygen mass transfer rate as the overall oxygen consumption rate ($r^{'}_{O_2}$). In addition glycerol is still specified as zero. The glycerol formation is only a function of the NADH formed in biomass production ($\\beta$) and we'll assume for now that enough oxygen is available to convert this small amount of NADH. We can check whether this is true by:\n",
      "\n",
      "$$\\beta*r_X^{'}<2r^{'}_{O_2}$$\n",
      "\n",
      "Make sure the rate function below is clearly understood."
     ]
    },
    {
     "cell_type": "code",
     "collapsed": false,
     "input": [
      "def r_prime(C):\n",
      "    Cx, Cs, Cg, Ce = C         \n",
      "    mu=mumax*Cs/(Km+Cs)*(1-Ce/Cemax)\n",
      "    if mu < 0:                 # don't want negative mu's\n",
      "        mu=0\n",
      "    theta=thetamax*Cs/(Km+Cs)\n",
      "    \n",
      "    #calculate respiration rates\n",
      "    S = numpy.matrix([[-1,1+alpha,1,1,0,0,0],\n",
      "                  [0,0,0,-1,1,1.5,0],\n",
      "                  [0,beta,2,0,-1/3,0,-2],\n",
      "                  [0,-gamma,2/3,-1/3,0,1,2*PO],\n",
      "                  [0,1,0,0,0,0,0],\n",
      "                  [0,0,0,0,1,0,0],     #zero glycerol\n",
      "                  [0,0,0,0,0,1,0]])    #zero ethanol\n",
      " \n",
      "    C = numpy.matrix([0, 0, 0, theta,mu,0,0]).T\n",
      "    r = numpy.linalg.solve(S, C)        #solving for rates instead of yields\n",
      "    \n",
      "    r_O2_vol=r[6,0]*Cx\n",
      "    ro_mt=kla*Co_sat          #maximum transfer rate\n",
      "              #volumetric O2 respiration rate\n",
      "   \n",
      "    if ro_mt > r_O2_vol:\n",
      "       \n",
      "       return [mu,\n",
      "               -r[0,0],   #flux v1\n",
      "               r[4,0],    #flux v5\n",
      "               r[5,0],\n",
      "               r[6,0]]    #include oxygen            \n",
      "\n",
      "    else:\n",
      "        #the following matrix allow for joint respiraion and ethanol fermentation\n",
      "        S1 = numpy.matrix([[-1,1+alpha,1,1,0,0,0],\n",
      "                  [0,0,0,-1,1,1.5,0],\n",
      "                  [0,beta,2,0,-1/3,0,-2],\n",
      "                  [0,-gamma,2/3,-1/3,0,1,2*PO],\n",
      "                  [0,1,0,0,0,0,0],\n",
      "                  [0,0,0,0,1,0,0],     #zero glycerol\n",
      "                  [0,0,0,0,0,0,1]])    #O2 rate now the mass transfer rate\n",
      " \n",
      "        C1 = numpy.matrix([0, 0, 0, theta,mu,0,ro_mt/Cx]).T #note the biomass based oxygen rate\n",
      "        r1 = numpy.linalg.solve(S1, C1)        \n",
      "        \n",
      "        if beta*r1[1,0] > 2*r1[6,0]:\n",
      "            print('glycerol must form')\n",
      "        \n",
      "        return [mu,\n",
      "               -r1[0,0],   #flux v1\n",
      "               r1[4,0],    #flux v5\n",
      "               r1[5,0], \n",
      "               r1[6,0]]    #include oxygen            \n"
     ],
     "language": "python",
     "metadata": {},
     "outputs": [],
     "prompt_number": 9
    },
    {
     "cell_type": "markdown",
     "metadata": {},
     "source": [
      "We can now integrate like before. We'll use the parameters of the previous example except for a higher $C_X^o$."
     ]
    },
    {
     "cell_type": "code",
     "collapsed": false,
     "input": [
      "Co=numpy.array([0.005, 7, 0, 0, 1])     #Increase the initial glucose concentration to 7 cmol/L\n",
      "No=Co*Vo\n",
      "N1, tspan1 = solve_ferm(28)"
     ],
     "language": "python",
     "metadata": {},
     "outputs": [
      {
       "metadata": {},
       "output_type": "display_data",
       "png": "[encoded data removed]",
       "text": [
        "<matplotlib.figure.Figure at 0x637df965c0>"
       ]
      }
     ],
     "prompt_number": 10
    },
    {
     "cell_type": "markdown",
     "metadata": {},
     "source": [
      "Interesting profile. It is clear that there is substrate consumption before there is ethanol formation (between 7 and 15 hours). This will represent the aerobic regime where only biomass was formed from substrate. The partial biomass regime is entered around 15 hours where ethanol formation commences. When comparing the results from the anaerobic fermentation (N) to this run (N1), it is clear that more biomass formed and less ethanol. It is common practice to grow facultative anaerobes under aerobic conditions where substrate expenditure to form biomass is small. Often the aerobic growth is followed by complete anaerobic conditions, where fast volumetric rates can be obtained  under anaerobic conditions with the high $C_X$ generated in the aerobic phase. \n",
      "\n",
      "Let's have a look at the reaction rates:"
     ]
    },
    {
     "cell_type": "code",
     "collapsed": false,
     "input": [
      "Ci=(N1[:, :4].T/N1[:, 4]).T                  #first 4 elements of N devided by 5th element to get Ci, \n",
      "ri=numpy.asarray([r_prime(C) for C in Ci])\n",
      "\n",
      "Cx=N1[:,0]/N1[:,4]                            #Cx, Cs, Cg, Ce\n",
      "\n",
      "rs=ri[:,1]\n",
      "rx=ri[:,0]\n",
      "rp=ri[:,3]\n",
      "ro=ri[:,4] \n",
      "\n",
      "plt.plot(tspan1, rx, color='green',label='rx')\n",
      "plt.plot(tspan1, rs, color='cyan',label='rs')\n",
      "plt.plot(tspan1, rp, color='red',label='rp')\n",
      "plt.plot(tspan1, ro, color='blue',label='ro')\n",
      "\n",
      "plt.legend(loc='best')\n",
      "plt.ylabel('rate (mol/(cmolX.h)') \n",
      "plt.xlabel('time (h)') \n",
      "plt.show()"
     ],
     "language": "python",
     "metadata": {},
     "outputs": [
      {
       "metadata": {},
       "output_type": "display_data",
       "png": "[encoded data removed]",
       "text": [
        "<matplotlib.figure.Figure at 0x637e639438>"
       ]
      }
     ],
     "prompt_number": 16
    },
    {
     "cell_type": "markdown",
     "metadata": {},
     "source": [
      "From the biomass based rates it is clear that all rates are constant upto the point where partial aerobic conditions starts. This is because zero inhibition occurs in the aerobic zone. In the partial aerobic regime $\\mu$ is inhibited by the ethanol formation and this can be observed in the drop of the green proile above. It is clear that $|r^{'}_S|$ increases dramatically in the partial aerobic regime. This is due to the large amounts of glucose required for generating the required ATP via ethanol formation. Furthermore $r^{'}_{O_2}$ decreases due to the increase in $C_X$ at constant $r_{O_2}$. Lastly $r^{'}_P$ decreases at the end due to product inhibition.\n",
      "\n",
      "We can also plot the volumetric rates:"
     ]
    },
    {
     "cell_type": "code",
     "collapsed": false,
     "input": [
      "rs_v=ri[:,1]*Cx\n",
      "rx_v=ri[:,0]*Cx\n",
      "rp_v=ri[:,3]*Cx\n",
      "ro_v=ri[:,4]*Cx \n",
      "\n",
      "plt.plot(tspan1, rx_v, color='green',label='rx')\n",
      "plt.plot(tspan1, rs_v, color='cyan',label='rs')\n",
      "plt.plot(tspan1, rp_v, color='red',label='rp')\n",
      "plt.plot(tspan1, ro_v, color='blue',label='ro')\n",
      "\n",
      "plt.legend(loc='best')\n",
      "plt.ylabel('rate (mol/(L.h)') \n",
      "plt.xlabel('time (h)') \n",
      "plt.show()"
     ],
     "language": "python",
     "metadata": {},
     "outputs": [
      {
       "metadata": {},
       "output_type": "display_data",
       "png": "[encoded data removed]",
       "text": [
        "<matplotlib.figure.Figure at 0x637e040da0>"
       ]
      }
     ],
     "prompt_number": 19
    },
    {
     "cell_type": "markdown",
     "metadata": {},
     "source": [
      "The maximum oxygen consumption rate is clear in the partial aerobic regime. The $r_S$ profile exhibit has a sudden change at the regime transition while the turning behaviour is caused by product inhibition.\n",
      "\n",
      "### What do we learn from this last section?\n",
      "\n",
      "* That conditions in the fermenter ($C_P,\\, C_X$ and oxygen limitation) alters the overall stoichiometry.\n",
      "* That the overall stoichiometry can be calculated with a single matrix formulation.\n",
      "* That the stoichiometry calculation can be performed in the rate function (r_prime) given certain rate specifications.\n",
      "* That the two-stoichiometry (growth and maintenance) approach employed before can be replaced by the single formulation of this  section.\n",
      "* That yields are just the ratio of rates and that the usage of absolute rate values simplifies the mathematical formulation of fermentation.\n",
      "\n",
      "<img src=\"draft.jpg\" width=\"350\" />"
     ]
    },
    {
     "cell_type": "code",
     "collapsed": true,
     "input": [],
     "language": "python",
     "metadata": {},
     "outputs": [],
     "prompt_number": null
    }
   ],
   "metadata": {}
  }
 ]
}
