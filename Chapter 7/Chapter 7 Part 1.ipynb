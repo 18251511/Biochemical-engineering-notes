{
 "cells": [
  {
   "cell_type": "markdown",
   "metadata": {},
   "source": [
    "## 7 . Non-growth aerobic fermentation\n",
    "\n",
    "Numerous commercial processes occurs under aerobic conditions, where the production phase (of chemicals) is characterised by zero growth. Unlike anaerobic processes, ATP production is not the key driver for these processes, but rather an overflow mechanism. Metabolic overflow is defined by a carbon substrate uptake greater than the energy requirements of the cell. For aerobic conditions sufficient energy can be generated with small amount of substrate due to the efficiency of aerobic respiration. For a non-growing organism only the maintenance energy requirements need to be serviced and this usually requires a small substrate uptake rate ($r^{'}_S$) compared to the uptake rate when growth is occurring. Growth termination usually occur when an essential growth substrate other than the carbon substrate (nitrogen source, phosphate source, essential vitamin) is depleted. When this occurs the organism finds itself in a rapidly changing environment, where the rather large substrate uptake ($r^{'}_S$) for growth and maintenance has to be reduced to maintenance only. For this scenario it often happens that the organism does not reduce its substrate uptake. Accordingly the excess carbon need to be spilled in the form of a metabolic product other than $CO_2$, since only a small fraction of the substrate can be used for respiration. It is not always clear why the organism does not reduce its carbon uptake, but it should become clear why the bioprocess engineer loves this response where the microbe becomes like a normal catalyst in a chemical process where no substrate is wasted on building more ‘catalyst’.\n",
    "\n",
    "<img src=\"overflow.jpg\" width=\"500\" />\n",
    "\n",
    "The response described above should not be confused with that of an anaerobic fermentation, where energy is generated from substrate level phosphorylation. For these processes the non-$CO_2$ carbon products has an intimate relationship with the energy requirements of the cell (growth and maintenance) and it should be understood that these products have to be produced for the cells to survive. Chapter 6 was exclusively based on anaerobic fermentations although not explicitly stated. This chapter will be on aerobic processes where oxygen supply is assumed to be in excess at all times. \n",
    "\n",
    "We’ll try and establish the principles of non-growth aerobic fermentation via an example. Mathematically this is an interesting chapter since we will be combining the matrix algebra from chapter 5 with the differential equations of chapter 6. The story is now coming together.    \n"
   ]
  },
  {
   "cell_type": "markdown",
   "metadata": {},
   "source": [
    "Our example will entail the production of fumaric acid with the fungus _Rhizopus oryzae_. We’ll start with the metabolic map and stoichiometry of the organism:\n",
    "\n",
    "<img src=\"fumap.png\" width=\"700\" />\n",
    "\n",
    "Unlike before, respiration is modelled with a single flux $v_2$ from glycolysis. All the carbon in $v_2$ will flux to  the mitochondria. The fumaric acid pathway $v_3$ occurs in the cytosol using some of the TCA enzymes. \n",
    "\n",
    "For the growth phase of the organism zero fumaric acid is formed (overflow not required). We'll choose $\\alpha=0.1 \\frac{mol\\,CO_2}{cmol\\,X}$ and work out $\\beta=0.1\\frac{mol\\,NADH}{cmol\\,X}$ (remeber tut 4). We'll futher define $\\gamma=2.5\\frac{mol\\,ATP}{cmol\\,X}$.\n",
    "The growth stoichiometry will be given by the following:"
   ]
  },
  {
   "cell_type": "code",
   "execution_count": 1,
   "metadata": {
    "collapsed": false
   },
   "outputs": [
    {
     "data": {
      "text/plain": [
       "matrix([[ 0.57441253],\n",
       "        [ 0.36814621],\n",
       "        [ 0.        ],\n",
       "        [ 0.39686684]])"
      ]
     },
     "execution_count": 1,
     "metadata": {},
     "output_type": "execute_result"
    }
   ],
   "source": [
    "import numpy\n",
    "Sg = numpy.matrix([[1.1,1,0.75,0],\n",
    "                  [0.1,2,0,-2],\n",
    "                  [-2.5,2/3,0,3],\n",
    "                  [0,0,1,0]])          \n",
    "        \n",
    "Cg = numpy.matrix([[1,0,0,0]]).T\n",
    "Yg1 = numpy.linalg.solve(Sg,Cg)\n",
    "Yg1      "
   ]
  },
  {
   "cell_type": "markdown",
   "metadata": {},
   "source": [
    "The maintenance stoichiometry (while the microbe is growing) is given by:"
   ]
  },
  {
   "cell_type": "code",
   "execution_count": 2,
   "metadata": {
    "collapsed": false
   },
   "outputs": [
    {
     "data": {
      "text/plain": [
       "matrix([[  1.00929366e-16],\n",
       "        [  1.00000000e+00],\n",
       "        [  0.00000000e+00],\n",
       "        [  1.00000000e+00]])"
      ]
     },
     "execution_count": 2,
     "metadata": {},
     "output_type": "execute_result"
    }
   ],
   "source": [
    "import numpy\n",
    "Sm = numpy.matrix([[1.1,1,0.75,0],\n",
    "                  [0.1,2,0,-2],\n",
    "                  [1,0,0,0],\n",
    "                  [0,0,1,0]])          \n",
    "        \n",
    "Cm = numpy.matrix([[1,0,0,0]]).T\n",
    "Ym1 = numpy.linalg.solve(Sm,Cm)\n",
    "Ym1      "
   ]
  },
  {
   "cell_type": "markdown",
   "metadata": {},
   "source": [
    "You can see form the results that the maintenace stoichiometry entails only respiration.\n",
    "\n",
    "The non-growth scenario is slightly different. Since the maintenance energy requirements ($\\theta$) is defined by a rate, we'll define the substrate uptake rate ($r^{'}_S$) under these conditions as a **physiological parameter** referred to as $\\lambda$. The variable $\\lambda$ is similar to $\\mu$ and will contain a Monod term and likely a product/substrate inhibition term:\n",
    "\n",
    "$$ r^{'(nG)}_S = \\lambda =\\lambda_{max} \\,\\cdot  f_M \\cdot  f_{PI} \\cdot f_{SI}  $$\n",
    "\n",
    "The acronymn nG is used for non-growth. The ATP yield on substrate in the non-growth phase is now be given by:\n",
    "\n",
    "$$Y_{S\\,ATP}^{nG}=\\frac{\\theta}{\\lambda}  $$\n",
    "\n",
    "The value of $\\lambda_{max}$ can be related to the growth-phase maximum ($r^{'}_S$) such that:\n",
    "\n",
    "$$\\lambda_{max}=Y_{XS}^G\\cdot \\mu_{max}+Y_{ATP\\,S}^M\\cdot\\theta_{max} $$\n",
    "\n",
    "This is linked to the maximum potential for uptake and conversion of substrate by the cell, where the limiting factor is likely the enzyme activities in glycolysis. Note that $Y_{ATP\\,S}^M$ refers respiration alone since no fumerate is formed during the growth-stage.\n",
    "\n",
    "The matrix description of the non-growth phase will use $Y_{S\\,ATP}^{nG}$ as specification in the ATP balance, such that:\n",
    "\n",
    "\n",
    "$$\\begin{bmatrix}\n",
    "(1+\\alpha) & 1 &\\frac{3}{4} & 0\\\\\n",
    "\\beta & 2 &\t0 &\t-2\\\\\n",
    "-\\delta & \\frac{2}{3} & 0 &\t3\\\\\n",
    "1& 0&\t0&\t0\\end{bmatrix}\n",
    "\\times\\begin{bmatrix}\n",
    "v_1\\\\v_2\\\\v_3\\\\v_4\\end{bmatrix}\n",
    "=\\begin{bmatrix}1\\\\0\\\\ \\frac{\\theta}{\\lambda}\\\\0\\end{bmatrix}$$\n",
    "\n",
    "Given that both $\\theta$ and $\\lambda$ can change as a function of the conditions in the fermenter ($C_P$ and $C_S$), the flux distribution between respiration ($v_2$) and fumerate ($v_3$) will vary as conditions change. We will thus have to continuously solve the matrix within the differential equation. But with Python this not an issue.\n",
    "\n",
    "The inhibition characteristics of the system are given by the following:\n",
    "\n",
    "|$K_M \\, \\left(\\frac{cmol}{L} \\right)$|$K_P \\, \\left(\\frac{cmol}{L} \\right)$|$K_S \\,  \\left(\\frac{cmol}{L} \\right)$\n",
    " -|-|-|-\n",
    " **Growth**|0.0004|$0.4$|$\\infty$\n",
    " **Maintenance**|0.0004|$\\infty$|$\\infty$\n",
    " **Non-growth**|0.0004|$0.4$|$\\infty$\n",
    " \n",
    " Where the product inhibition is given by:\n",
    " \n",
    " $$f_{PI}= \\left[1+\\frac{C_P}{K_P} \\right]^{-1}  $$\n",
    " \n",
    " The maximum physiological rates are given by:\n",
    " \n",
    " $\\mu_{max}\\,\\left(\\frac{1}{h} \\right)$|$\\theta_{max} \\, \\left(\\frac{mol\\, ATP}{cmol\\, X\\cdot h} \\right) $\n",
    " -|-\n",
    " 0.2 |0.05\n",
    " \n",
    " See whether you agree with the stoichiometry (non-growth excluded for now):\n",
    " \n",
    "  |$Y_{SX}$|$Y_{SC}$|$Y_{S ATP}$\n",
    " -|----|-----|--\n",
    " **Growth**|0.574|0.423|1.436\n",
    " **Maintenace**|0|1|3.666\n",
    " \n",
    " We can now calculate $\\lambda_{max}$ as $0.362 \\,\\frac{cmol\\, S}{cmol\\,X\\cdot h}$"
   ]
  },
  {
   "cell_type": "markdown",
   "metadata": {},
   "source": [
    "Lastly before we start we have to include the essential growth component into our model. For now we will choose an arbitrary component $S_2$. The depletion of this second substrate will be part of our model. The effect of $C_{S_2}$ on the growth rate can be incorporated as a second Monod term such that:\n",
    "\n",
    "$$ \\mu= \\mu_{max} \\left[ \\frac{C_S}{K_M+C_S} \\right] \\cdot \\left[\\frac{C_{S_2}}{K_{M_2}+C_{S_2}}  \\right ] \n",
    "\\cdot \\left[ 1+\\frac{C_P}{K_P} \\right] ^{-1} \n",
    "$$\n",
    "\n",
    "Note that $C_S$ refers to the main carbon substrate. $C_{S_2}$ is only consumed for growth and will be included in the set of cmol differential equations where:\n",
    "\n",
    "$$ r^{'}_{C_{S_2}} = Y_{X{S_2}} \\, \\mu$$\n",
    "\n",
    "For now we'll define $K_{M_2} = 0.0005 \\frac{cmol}{L}$ and $Y_{X{S_2}}=0.01 \\frac{cmol}{cmol}$"
   ]
  },
  {
   "cell_type": "markdown",
   "metadata": {},
   "source": [
    "We'll use a $500$ liter batch reactor where $C_S^o=3.2 \\frac{cmol}{L}$ , $C_X^o=0.0015 \\frac{cmol}{L}$ and $C_{S_2}^o=0.004 \\frac{cmol}{L}$."
   ]
  },
  {
   "cell_type": "code",
   "execution_count": 3,
   "metadata": {
    "collapsed": false
   },
   "outputs": [],
   "source": [
    "import numpy\n",
    "import matplotlib.pyplot as plt\n",
    "%matplotlib inline \n",
    "from scipy.integrate import odeint\n",
    "\n",
    "mumax,thetamax, Km, Kp= 0.2, 0.05, 0.0004, 0.4\n",
    "Yg=[1, 0.574, 0 , 0.423, 1.436]  #S,X,F,CO2,ATP \n",
    "Ym=[1, 0, 0, 1, 3.666]\n",
    "Yss2=0.01\n",
    "lambdamax=Yg[0]/Yg[1]*mumax+Ym[0]/Ym[4]*thetamax\n",
    "\n",
    "Cxo, Cso, Cs2o, Vo = 0.0015, 3.2, 0.004, 500\n",
    "Co=numpy.array([Cxo, Cso, Cs2o, 0, 1])     #[X, S, S2, P, V]             \n",
    "No=Co*Vo"
   ]
  },
  {
   "cell_type": "markdown",
   "metadata": {},
   "source": [
    "The response function of the microbe will be devided into a growth and a non-growth section. The growth response is the same as before while the non-growth response is 'driven' by $\\lambda$:\n",
    "\n",
    "$$ r^{'(nG)}_S = \\lambda  $$\n",
    "\n",
    "$$ r^{'(nG)}_P = Y_{SP}^{nG}\\cdot\\lambda$$\n",
    "\n",
    "Note that biomass formation and $S_2$ depletion is zero in the non-growth phase. The microbe is still obtaining its maintenance ATP ($\\theta$) from respiration while the remainder of the glucose flux is used to form product. The switch point between growth and non-growth is based on a very small value of $\\mu$. We can now define the response function in Python:"
   ]
  },
  {
   "cell_type": "code",
   "execution_count": 4,
   "metadata": {
    "collapsed": false
   },
   "outputs": [],
   "source": [
    "def r_prime(C):\n",
    "    Cx, Cs, Cs2, Cp = C          \n",
    "    mu=mumax*Cs/(Km+Cs)*Cs2/(Km+Cs2)*(1+Cp/Kp)**(-1)\n",
    "    theta=thetamax*Cs/(Km+Cs)\n",
    "    lamda=lambdamax*Cs/(Km+Cs)*(1+Cp/Kp)**(-1)\n",
    "    \n",
    "    if mu > 0.0001:    #growth conditions\n",
    "        return [mu,\n",
    "               -((Yg[0]/Yg[1])*mu+(Ym[0]/Ym[4])*theta),     \n",
    "               -Yss2*mu,\n",
    "                0]\n",
    "    else:           #non-growth\n",
    "        \n",
    "        Sng = numpy.matrix([[1.1,1,0.75,0],\n",
    "                           [0.1,2,0,-2],\n",
    "                           [-2.5,2/3,0,3],\n",
    "                           [1,0,0,0]])          \n",
    "        \n",
    "        Cng = numpy.matrix([[1,0,theta/lamda,0]]).T\n",
    "        Yng = numpy.linalg.solve(Sng,Cng)\n",
    "              \n",
    "        \n",
    "        return [0,\n",
    "               -lamda,     \n",
    "                0,\n",
    "                Yng[2]*lamda]"
   ]
  },
  {
   "cell_type": "code",
   "execution_count": 5,
   "metadata": {
    "collapsed": true
   },
   "outputs": [],
   "source": [
    "Qf=Q=Cxf=Csf=Cs2f=Cpf=0 "
   ]
  },
  {
   "cell_type": "code",
   "execution_count": 6,
   "metadata": {
    "collapsed": true
   },
   "outputs": [],
   "source": [
    "def dNdt_fun(N,t):\n",
    "    Cx, Cs, Cs2, Cp, V = N[0]/N[4],N[1]/N[4],N[2]/N[4],N[3]/N[4],N[4\n",
    "                                                                  ]  #calculating and naming concentration and volume \n",
    "    r=r_prime([Cx, Cs, Cs2, Cp])\n",
    "    \n",
    "    return [Qf*Cxf-Q*Cx+(r[0])*Cx*V,\n",
    "            Qf*Csf-Q*Cs+(r[1])*Cx*V,    \n",
    "            Qf*Cs2f-Q*Cs2+(r[2])*Cx*V,\n",
    "            Qf*Cpf-Q*Cp+(r[3])*Cx*V,\n",
    "            Qf-Q] "
   ]
  },
  {
   "cell_type": "code",
   "execution_count": 7,
   "metadata": {
    "collapsed": true
   },
   "outputs": [],
   "source": [
    "def solve_ferm(tmax):\n",
    "    tspan=numpy.linspace(0,tmax,200)             #define the timespan of the integration\n",
    "    N = odeint(dNdt_fun, No, tspan)\n",
    "\n",
    "    Cx= N[:,0]/N[:,4]                           #devide cmol amount by the volume to get concentration \n",
    "    Cs= N[:,1]/N[:,4]\n",
    "    Cs2=N[:,2]/N[:,4]\n",
    "    Cp= N[:,3]/N[:,4]\n",
    "    V=  N[:,4]\n",
    "\n",
    "    plt.plot(tspan, Cp, color='blue', label='p')\n",
    "    plt.plot(tspan, Cs, color='red',label='s')\n",
    "    plt.plot(tspan, Cx, color='green',label='x')\n",
    "    plt.plot(tspan, Cs2, color='cyan',label='s2')\n",
    "    plt.legend(loc='best')\n",
    "    plt.ylabel('Concentration cmol/L') \n",
    "    plt.xlabel('time (h)') \n",
    "    plt.show()\n",
    "\n",
    "    return N,tspan"
   ]
  },
  {
   "cell_type": "code",
   "execution_count": 8,
   "metadata": {
    "collapsed": false,
    "scrolled": true
   },
   "outputs": [
    {
     "data": {
      "image/png": "[encoded data removed]",
      "text/plain": [
       "<matplotlib.figure.Figure at 0x1c706b4860>"
      ]
     },
     "metadata": {},
     "output_type": "display_data"
    }
   ],
   "source": [
    "N1, tspan = solve_ferm(120)"
   ]
  },
  {
   "cell_type": "markdown",
   "metadata": {},
   "source": [
    "The discontinuity on the substrate profile indicates the discrete switch in the rate function. In practise the switch will be more gradual. You should see that the substrate is used to make biomass when $C_{S_2}$ is present in the fermetner. Let's plot the $C_{S_2}$ profile: "
   ]
  },
  {
   "cell_type": "code",
   "execution_count": 58,
   "metadata": {
    "collapsed": false
   },
   "outputs": [
    {
     "data": {
      "image/png": "[encoded data removed]",
      "text/plain": [
       "<matplotlib.figure.Figure at 0x1c747fca20>"
      ]
     },
     "metadata": {},
     "output_type": "display_data"
    }
   ],
   "source": [
    "Cs2=N1[:,2]/N1[:,4]\n",
    "Cp= N1[:,3]/N1[:,4]\n",
    "Cs= N1[:,1]/N1[:,4]\n",
    "plt.plot(tspan, Cs2, color='cyan',label='s2')\n",
    "plt.legend(loc='best')\n",
    "plt.ylabel('Concentration cmol/L') \n",
    "plt.xlabel('time (h)') \n",
    "plt.show()"
   ]
  },
  {
   "cell_type": "markdown",
   "metadata": {},
   "source": [
    "Production of fumaric acid commences once $C_{S_2}$ is depleted. The bend in the product profile relates to the inhibition effect of $C_P$ on $\\lambda$. This should be reflected in the instantaneous yields, where $\\lambda$ decreases while $\\theta$ remains constant until $C_S$ gets very low. Let's determine the instantaneous and accumulated fumeric acid yields:"
   ]
  },
  {
   "cell_type": "code",
   "execution_count": 66,
   "metadata": {
    "collapsed": false
   },
   "outputs": [
    {
     "data": {
      "image/png": "[encoded data removed]",
      "text/plain": [
       "<matplotlib.figure.Figure at 0x1c735af9e8>"
      ]
     },
     "metadata": {},
     "output_type": "display_data"
    }
   ],
   "source": [
    "from numpy import asarray\n",
    "Ci=(N1[:, :4].T/N1[:, 4]).T                  #first 4 elements of N devided by 5th element to get Ci, \n",
    "r=asarray([r_prime(C) for C in Ci])        # All Ci rows assigned (one by one) to function r_prime                             \n",
    "rs=r[:,1]\n",
    "rp=r[:,3]\n",
    "\n",
    "Ysp_inst=rp/(-rs)\n",
    "Ysp_acc=Cp[1:199]/(Cso-Cs[1:199])\n",
    "\n",
    "plt.plot(tspan, Ysp_inst, color='blue',label='Ysp_int')\n",
    "plt.plot(tspan[1:199], Ysp_acc, color='red',label='Ysp_acc')\n",
    "plt.legend(loc='best')\n",
    "plt.ylabel('Rate cmol/(cmol X h)') \n",
    "plt.xlabel('time (h)') \n",
    "plt.show()"
   ]
  },
  {
   "cell_type": "markdown",
   "metadata": {},
   "source": [
    "A clear decrease in the instantaneous yield of fumarate on glucose is observed. This implies that at lower $\\lambda$ a greater fraction of the glucose flux is used for respiration (maintenance energy). The overall yield exhibits an increase when production starts. The accumulated yield will always remain lower that the instantaneous yield since a significant fraction of substrate was used for making biomass prior to the production phase.\n",
    "\n",
    "The yield can be altered by feeding less of $C_{S_2}$, but with less biomass in the fermenter there will be a sacrifice in productivity."
   ]
  },
  {
   "cell_type": "markdown",
   "metadata": {},
   "source": [
    "### $O_2$ and $CO_2$ rates:\n",
    "\n",
    "It will also be interesting to quantify the oxygen and $CO_2$ depletion/formation rates. We can use the results from the 3 flux models. Let's start by converting the growth and maintenance stoichiometry matices to lists. This will be required for the function where we calculate the rates (r_prime_gasses) "
   ]
  },
  {
   "cell_type": "code",
   "execution_count": 67,
   "metadata": {
    "collapsed": false
   },
   "outputs": [],
   "source": [
    "Yg1=numpy.array(Yg1).flatten().tolist()\n",
    "Ym1=numpy.array(Ym1).flatten().tolist()"
   ]
  },
  {
   "cell_type": "markdown",
   "metadata": {},
   "source": [
    "We can now calulate the instantaneous rates:\n",
    "\n",
    "**Under growth conditions:**\n",
    "\n",
    "$$r^{'}_{O_2}=Y_{XO}^G\\cdot\\mu+ Y_{ATP\\,O}^M\\cdot \\theta $$\n",
    "\n",
    "$$r^{'}_{CO_2}=Y_{XC}^G\\cdot\\mu+ Y_{ATP\\,C}^M\\cdot \\theta $$\n",
    "\n",
    "where the $CO_2$ is formed in respiration ($v_2$) and when forming biomass ($0.1v_1)$.\n",
    "\n",
    "**Under non-growth conditions:**\n",
    "\n",
    "$$r^{'}_{O_2}=Y_{SO}^{nG}\\cdot\\lambda $$\n",
    "\n",
    "$$r^{'}_{CO_2}=Y_{SC}^{nG}\\cdot\\lambda $$\n",
    "\n",
    "where the $CO_2$ is formed in respiration ($v_2$) and when forming fumarate ($0.25v_3)$.\n",
    "\n",
    "We define these rates in a seperate function (although it can be combined with r_prime at a later stage)"
   ]
  },
  {
   "cell_type": "code",
   "execution_count": 51,
   "metadata": {
    "collapsed": false
   },
   "outputs": [],
   "source": [
    "def r_prime_gasses(C):\n",
    "    \n",
    "    Cx, Cs, Cs2, Cp = C          \n",
    "    mu=mumax*Cs/(Km+Cs)*Cs2/(Km+Cs2)*(1+Cp/Kp)**(-1)\n",
    "    theta=thetamax*Cs/(Km+Cs)\n",
    "    lamda=lambdamax*Cs/(Km+Cs)*(1+Cp/Kp)**(-1)\n",
    "    \n",
    "    if mu > 0.0001:    #growth conditions\n",
    "        \n",
    "        return ([(Yg1[3]/Yg1[0])*mu+(Ym1[3]/Ym[4])*theta,    # oxygen depletion -note the difference between Yg1,Yg, Ym1 and Ym   \n",
    "               ((Yg1[1]+0.1*Yg1[0])/Yg1[0])*mu+(Ym1[1]/Ym[4])*theta])   #CO2 formation\n",
    "                \n",
    "    else:           #non-growth\n",
    "        \n",
    "        Sng = numpy.matrix([[1.1,1,0.75,0],\n",
    "                           [0.1,2,0,-2],\n",
    "                           [-2.5,2/3,0,3],\n",
    "                           [1,0,0,0]])          \n",
    "        \n",
    "        Cng = numpy.matrix([[1,0,theta/lamda,0]]).T\n",
    "        Yng = numpy.linalg.solve(Sng,Cng)\n",
    "        Yng = numpy.array(Yng).flatten().tolist()\n",
    "        \n",
    "        return  ([Yng[3]*lamda,                  #oxygen consumption\n",
    "                (Yng[1]-Yng[2]*0.25)*lamda])    #CO2 formation"
   ]
  },
  {
   "cell_type": "markdown",
   "metadata": {},
   "source": [
    "Given the output from the fermentation (N1), we can reconstruct the rates as a function of time and multiply with $C_X$ in order to obtain volumetric rates:"
   ]
  },
  {
   "cell_type": "code",
   "execution_count": 52,
   "metadata": {
    "collapsed": false
   },
   "outputs": [
    {
     "data": {
      "image/png": "[encoded data removed]",
      "text/plain": [
       "<matplotlib.figure.Figure at 0x1c73644c50>"
      ]
     },
     "metadata": {},
     "output_type": "display_data"
    }
   ],
   "source": [
    "from numpy import asarray\n",
    "Ci=(N1[:, :4].T/N1[:, 4]).T                  #first 4 elements of N devided by 5th element to get Ci, \n",
    "r=asarray([r_prime_gasses(C) for C in Ci])        # All Ci rows assigned (one by one) to function r_prime\n",
    "\n",
    "Cx= N1[:,0]/N1[:,4]\n",
    "\n",
    "ro=r[:,0]*Cx\n",
    "rc=r[:,1]*Cx\n",
    "\n",
    "plt.plot(tspan, ro, color='green', label='O2 depletion')\n",
    "plt.plot(tspan, rc, color='red',label='CO2 formation')\n",
    "plt.legend(loc='best')\n",
    "plt.ylabel('rate mol/(L.h)') \n",
    "plt.xlabel('time (h)') \n",
    "plt.show()"
   ]
  },
  {
   "cell_type": "markdown",
   "metadata": {},
   "source": [
    "Very interesting. It is clear that oxygen should be sparged at all times, while $CO_2$ should be sparged once growth seizes.\n",
    "\n",
    "Most industrial fermentors use a $CO_2$ and $O_2$ online analyser in the exit gas stream (off-gas). Given known outlet/inlet flowrates and concentrations, a measured graph similar to the one above can be obtained. The turning or switching point in this fermentation can be predicted by merely monitoring the gas outlet. A useful tool for measuring the direct reponse of the microbes.  \n",
    "\n",
    "<img src=\"analyze.jpg\" width=\"500\" />"
   ]
  },
  {
   "cell_type": "code",
   "execution_count": null,
   "metadata": {
    "collapsed": true
   },
   "outputs": [],
   "source": []
  }
 ],
 "metadata": {
  "kernelspec": {
   "display_name": "Python 3",
   "language": "python",
   "name": "python3"
  },
  "language_info": {
   "codemirror_mode": {
    "name": "ipython",
    "version": 3
   },
   "file_extension": ".py",
   "mimetype": "text/x-python",
   "name": "python",
   "nbconvert_exporter": "python",
   "pygments_lexer": "ipython3",
   "version": "3.5.1"
  }
 },
 "nbformat": 4,
 "nbformat_minor": 0
}
