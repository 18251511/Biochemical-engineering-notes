{
 "cells": [
  {
   "cell_type": "markdown",
   "metadata": {},
   "source": [
    "## The fermenter equation (cmol balance)\n",
    "\n",
    "In CBI310 we’ll assume that all fermenters are well mixed and that no concentration or temperature gradients exist within the fermentation broth. In real life the assumption is often approximated where gradients are minimal. The easiest way to perform the mass balance over the fermenter is to consider the cmol balance of each component. We’ll start with a time-dependant model were the dynamic concentration and volume changes in the fermenter are incorporated by an accumulation term for each component ($\\frac{dN_i}{dt}$). Note that the cmol quantity ($N_i$) is the product of the cmol concentration ($C_i$ in $\\frac{cmol}{L}$) and the fermenter volume ($V$). The concentration of a component and/or volume will change with addition/removal of the component as well as formation/depletion of the component. The general cmol component balance is given by:\n",
    "\n",
    "$$\\frac{dN_i}{dt}=Q^F C^F_i-QC_i  + r_i C_X V $$  \n",
    "-------------------\n",
    "$$\\left[\\frac{cmol\\,i}{h}\\right]=\n",
    " \\left[ \\frac{cmol\\,i}{L} \\cdot \\frac{L}{h} \\right]\n",
    "- \\left[ \\frac{cmol\\,i}{L} \\cdot \\frac{L}{h} \\right] + \\left[ \\frac{cmol\\,i}{cmol\\,X\\cdot h} \\cdot \\frac{cmol\\,X}{L} \\cdot L \\right] $$\n",
    "\n",
    "** Check and understand the units of all the terms. All 4 terms should have the same units! **Note that the superscript $^F$ refers to a feed stream concentration ($C^F_i$) and the inlet volumetric flowrate ($Q^F$). Due to the perfect mixing the outlet concentration ($C_i$) will be the same as the concentration in the fermenter.\n",
    "\n",
    "**Very important** to note the units and sign convention of $r_i$. In chapter 3 and 4 we used positive rates to determine stoichiometry. Accordingly all reagent rates were multiplies by $-1$ where positive  glucose and oxygen rates were presented by $-r_s$ and $-r_O$. The $r_i$ in the equation above represents production, so substrate or uptake rates will be negative according to the definition.\n",
    "\n",
    "Apart from the cmol based rates ($r_i$) we'll define a volumetric rate ($r^V_i$) as follow:\n",
    "\n",
    "\n",
    "$$r^V_i=r_i \\cdot C_X $$\n",
    "------------\n",
    "\n",
    "$$\\left[ \\frac{cmol\\,i}{L \\cdot h} \\right] = \n",
    "\\left[ \\frac{cmol\\,i}{cmol\\,X\\cdot h} \\cdot \\frac{cmol\\,X}{L} \\right] $$\n",
    "$$$$\n",
    "\n",
    "Also note the relationship between cmol concentration ($C_i$) and the cmol amount ($C_i$). \n",
    "\n",
    "$$N_X=C_X\\cdot V$$\n",
    "\n",
    "\n",
    "Apart from the set of cmol balances, we also need a volume balance. When making the assumption that al liquids have the same density (feed and effluent) the following simple equation results:\n",
    "\n",
    "$$\\frac{dV}{dt}=Q^F-Q$$\n",
    "\n"
   ]
  },
  {
   "cell_type": "markdown",
   "metadata": {},
   "source": [
    "### The batch fermenter\n",
    "\n",
    "We'll start with batch fermentations, where the fermenter volume does not change since nothing is added or removed from the fermenter. Prove to yourself that the **fermenter equation** reduces to the following:\n",
    "\n",
    "$$\\frac{dC_i}{dt}=r_i C_X $$  \n",
    "-------------------\n",
    "\n",
    "The rates calculated in chapter 3 and 4 will be referred to as the **response function** or **rate function**. We are going to start by using a constant rate function. This implies that $\\mu$ and $\\theta$ will not change as the concentrations in the fermenter change. We'll use the example of anaerobic ethanol fermentation to take you through the steps of modelling a fermenter. To generate the response function we'll require the flux model:\n",
    "\n",
    "<img src=\"etmap.png\" width=\"570\" />\n",
    "\n",
    "We'll use the following physiological parameters:\n",
    "\n",
    "|$\\alpha \\qquad \\qquad$|$\\gamma \\qquad \\qquad $|$\\mu \\qquad$|$\\theta\\qquad$\n",
    "|----|-|-|-|-\n",
    "|$\\frac{\\text{cmol $CO_2$}}{\\text{cmol X}}$|$\\frac{\\text{mol ATP}}{\\text{cmol X}}$|$\\frac{1}{\\text{h}}$|$\\frac{\\text{mol ATP}}{\\text{cmol X}\\cdot \\text{h}}$\n",
    "|0.12|1.8|0.3|0.1\n",
    "\n",
    "The biomass formula is given by $CH_{1.8}O_{0.5}N_{0.2}$\n",
    "\n",
    "We'll start by defining the parameters and importing the relevant Python functions:\n"
   ]
  },
  {
   "cell_type": "code",
   "execution_count": 35,
   "metadata": {
    "collapsed": false
   },
   "outputs": [],
   "source": [
    "import numpy\n",
    "import matplotlib.pyplot as plt\n",
    "from scipy.integrate import odeint\n",
    "%matplotlib inline\n",
    "alpha, beta, gamma = 0.1, 0.1,1.8\n"
   ]
  },
  {
   "cell_type": "markdown",
   "metadata": {},
   "source": [
    "We now want to define the _response function_ that **supplies the required rates to the fermentation equation**. In this example we will be working with  biomass, glucose, glycerol and ethanol rates ($r_X$,$r_S$,$r_G$ and $r_E$).\n",
    "\n",
    "**Note that the response function is a function of fermenter concentrations where $C=[C_X,C_S,C_G,C_E]$**. We'll define $\\mu$ and $\\theta$ within the response function since these will be related to $C$ in chapter 6. You will also note that the response function is calculated with chapter 4 techniques:\n"
   ]
  },
  {
   "cell_type": "code",
   "execution_count": 36,
   "metadata": {
    "collapsed": true
   },
   "outputs": [],
   "source": [
    "def response_fun(C):\n",
    "    \n",
    "    mu, theta= 0.3, 0.1\n",
    "             \n",
    "    S = numpy.matrix([[-1,1+alpha,1,0,0],\n",
    "                      [ 0,0,-1,1,1.5],\n",
    "                      [  0,beta,0,-1/3,0],\n",
    "                      [ 0,-gamma,-1/3,0,1],\n",
    "                      [ 0,1,0,0,0]])\n",
    "\n",
    "    K = numpy.matrix([0, 0, 0, theta, mu]).T\n",
    "    r = numpy.linalg.solve(S, K) \n",
    "        \n",
    "    \n",
    "    return [mu,       # important to see the order of the rates (X,S,G,E)\n",
    "           -r[0,0],   # glucose, note the negative since the flux model calculated (-rs)\n",
    "            r[3,0],   # glycerol\n",
    "            r[4,0]]   # ethanol   "
   ]
  },
  {
   "cell_type": "markdown",
   "metadata": {},
   "source": [
    "The _fermenter equation_ will contain 4 separate equations:\n",
    "\n",
    "|Biomass|Glucose|Glycerol|Ethanol\n",
    "|-|-|-|-\n",
    "|$\\frac{dC_X}{dt}=r_X C_X $|$\\frac{dC_S}{dt}=r_S C_X $|$\\frac{dC_G}{dt}=r_G C_X $|$\\frac{dC_E}{dt}=r_E C_X $  \n",
    "\n",
    "The corresponding rates ($r_X$,$r_S$,$r_G$ and $r_E$) are 'fetched' from the response function.\n",
    "\n",
    "The fermenter equation is given by:\n"
   ]
  },
  {
   "cell_type": "code",
   "execution_count": 37,
   "metadata": {
    "collapsed": true
   },
   "outputs": [],
   "source": [
    "def ferm_eq(C,t):\n",
    "    Cx, Cs, Cg, Ce = C[0],C[1],C[2],C[3]  # order of components very important \n",
    "    r=response_fun([Cx, Cs, Cg, Ce])      # this is the 'fetching' from the response function\n",
    "    \n",
    "    return [r[0]*Cx,\n",
    "            r[1]*Cx,    \n",
    "            r[2]*Cx,\n",
    "            r[3]*Cx]   "
   ]
  },
  {
   "cell_type": "markdown",
   "metadata": {},
   "source": [
    "All that remains is to integrate and plot the _fermentation equation_. We will require the initial concentrations of the 4 components as well as a time span for the integration: "
   ]
  },
  {
   "cell_type": "code",
   "execution_count": 38,
   "metadata": {
    "collapsed": false
   },
   "outputs": [
    {
     "data": {
      "image/png": "[encoded data removed]",
      "text/plain": [
       "<matplotlib.figure.Figure at 0xba7a173198>"
      ]
     },
     "metadata": {},
     "output_type": "display_data"
    }
   ],
   "source": [
    "Co=[0.001, 100/30,0,0]                     # [Cxo, Cso, Cgo, Ceo] in cmol/L\n",
    "tmax=20                                    # Integrate for 20 hours  \n",
    "tspan=numpy.linspace(0,tmax,200)           # define the timespan of the integration\n",
    "C = odeint(ferm_eq, Co, tspan)             # integration via odeint that calls apon ferm_eq\n",
    "\n",
    "Cx=C[:,0]                                  \n",
    "Cs=C[:,1]\n",
    "Cg=C[:,2]\n",
    "Ce=C[:,3]\n",
    "\n",
    "plt.plot(tspan, Ce, color='blue', label='e')\n",
    "plt.plot(tspan, Cg, color='cyan', label='g')\n",
    "plt.plot(tspan, Cs, color='red',label='s')\n",
    "plt.plot(tspan, Cx, color='green',label='x')\n",
    "plt.legend(loc='best')\n",
    "plt.ylabel('Concentration cmol/L') \n",
    "plt.xlabel('time (h)') \n",
    "plt.show()\n"
   ]
  },
  {
   "cell_type": "markdown",
   "metadata": {},
   "source": [
    "So there you have it, your first fermenter profile. At his stage $\\mu$ and $\\theta$ are still constants. This implies that the  _response function_ returns the same rates as time progress. This will change in the next chapter.\n",
    "\n",
    "Also note that the integration can easily run into negative numbers if the timespan of the integration is chosen too long. In real life growth or maintenance won't be possible without a positive substrate (glucose) concentration. The current math description is not fully realistic yet. We can induce the substrate requirement by redefining the response function:"
   ]
  },
  {
   "cell_type": "code",
   "execution_count": 39,
   "metadata": {
    "collapsed": true
   },
   "outputs": [],
   "source": [
    "def response_fun(C):\n",
    "    \n",
    "    if C[1]<=0:               #glucose concnetration\n",
    "        mu, theta = 0,0\n",
    "    else:\n",
    "        mu, theta= 0.3, 0.1\n",
    "             \n",
    "    S = numpy.matrix([[-1,1+alpha,1,0,0],\n",
    "                      [ 0,0,-1,1,1.5],\n",
    "                      [  0,beta,0,-1/3,0],\n",
    "                      [ 0,-gamma,-1/3,0,1],\n",
    "                      [ 0,1,0,0,0]])\n",
    "\n",
    "    K = numpy.matrix([0, 0, 0, theta, mu]).T\n",
    "    r = numpy.linalg.solve(S, K) \n",
    "        \n",
    "    \n",
    "    return [mu,       # important to see the order of the rates (X,S,G,E)\n",
    "           -r[0,0],   # glucose, note the negative since the flux model calculated (-rs)\n",
    "            r[3,0],   # glycerol\n",
    "            r[4,0]]   # ethanol   "
   ]
  },
  {
   "cell_type": "markdown",
   "metadata": {},
   "source": [
    "If we re-integrate with a longer timespan using the newly defined response function above, we'll get the following:"
   ]
  },
  {
   "cell_type": "code",
   "execution_count": 40,
   "metadata": {
    "collapsed": false
   },
   "outputs": [
    {
     "data": {
      "image/png": "[encoded data removed]",
      "text/plain": [
       "<matplotlib.figure.Figure at 0xba7a1cf668>"
      ]
     },
     "metadata": {},
     "output_type": "display_data"
    }
   ],
   "source": [
    "Co=[0.001, 100/30,0,0]                     # [Cxo, Cso, Cgo, Ceo] in cmol/L\n",
    "tmax=40                                    # Integrate for 20 hours  \n",
    "tspan=numpy.linspace(0,tmax,200)           # define the timespan of the integration\n",
    "C = odeint(ferm_eq, Co, tspan)             # integration via odeint that calls apon ferm_eq\n",
    "\n",
    "Cx=C[:,0]                                  \n",
    "Cs=C[:,1]\n",
    "Cg=C[:,2]\n",
    "Ce=C[:,3]\n",
    "\n",
    "plt.plot(tspan, Ce, color='blue', label='e')\n",
    "plt.plot(tspan, Cg, color='cyan', label='g')\n",
    "plt.plot(tspan, Cs, color='red',label='s')\n",
    "plt.plot(tspan, Cx, color='green',label='x')\n",
    "plt.legend(loc='best')\n",
    "plt.ylabel('Concentration cmol/L') \n",
    "plt.xlabel('time (h)') \n",
    "plt.show()"
   ]
  },
  {
   "cell_type": "markdown",
   "metadata": {},
   "source": [
    "Here you have the first interactive link between the bug and the fermenter environment! Remember the first 2 videos of the course. The bug altering the environment and the environment then altering the bug. This video aims to further explain the **LINK** which will be extensively used in the rest of CBI."
   ]
  },
  {
   "cell_type": "markdown",
   "metadata": {},
   "source": [
    "[Back to Contents page](https://nbviewer.jupyter.org/github/willienicol/Biochemical-engineering-notes/blob/master/List%20of%20contents.ipynb)"
   ]
  },
  {
   "cell_type": "code",
   "execution_count": null,
   "metadata": {
    "collapsed": true
   },
   "outputs": [],
   "source": []
  }
 ],
 "metadata": {
  "kernelspec": {
   "display_name": "Python 3",
   "language": "python",
   "name": "python3"
  },
  "language_info": {
   "codemirror_mode": {
    "name": "ipython",
    "version": 3
   },
   "file_extension": ".py",
   "mimetype": "text/x-python",
   "name": "python",
   "nbconvert_exporter": "python",
   "pygments_lexer": "ipython3",
   "version": "3.5.1"
  }
 },
 "nbformat": 4,
 "nbformat_minor": 0
}
