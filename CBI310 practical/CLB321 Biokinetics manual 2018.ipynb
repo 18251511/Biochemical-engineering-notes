{
 "cells": [
  {
   "cell_type": "markdown",
   "metadata": {},
   "source": [
    "## Anaerobic growth of _Saccharomyces cerevisiae_\n",
    "\n",
    "<img src=\"Y1.png\" width=\"800\" />\n",
    "\n",
    "### The mindset for this practical\n",
    "\n",
    "Hi there all CBI310 friends. It is finally time to play with real micro-organisms. I want you to think of this experiment as a fun learning opportunity. The aim should be to get more understanding. My expectation is therefore that you really engage with this experiment. I want passionate interpretations more than I want correct interpretations. To pass this part of the module you only need conviction, whatever the conviction. There will be a 3 hour 'board meeting' where we access your conviction. The unconvicted (hopefully there will be none) will redo the experiment so that we can have a 100% pass rate.\n",
    "\n",
    "The experiment is an interesting combination of group and individual work. Each student will run his own fermentation and contribute to the overall dataset of 12 experiments. Poorly executed experiments will be clearly visible to the 12 students analysing the dataset and will influence the final mark. On the day of the 'board meeting' there will be 12 uploaded presentations consisting out of 3 slides each. There will also be individual peer evaluation with yet another Google form (😉). Group interaction will be during the long experiment (6 hours) and a mandatory group meeting of 2 hours (that the group should schedule themselves). \n",
    "\n",
    "The more you prepare before the experiment, the more fun the experiment will be. The true scientist always has an expected outcome while performing an experiment. Science is about testing what we anticipate. Observation of an unanticipated result is fuel for the scientific mind. I therefore see all of you having their laptops in the lab, trying to already understand the results as they come in. Initially you will be busy with physical labour, but towards the end of the run there will be time to ponder on what is happening. Try and make the best of your hours in the lab.\n"
   ]
  },
  {
   "cell_type": "markdown",
   "metadata": {},
   "source": [
    "### What is expected?\n",
    "\n",
    "You are expected to:\n",
    "\n",
    " - Read through this notebook before the experiment\n",
    " - Implement the given flux model so that you can run it during the experiment\n",
    " - Be on time for your scheduled experiment\n",
    " - Perform your specific individual experiment\n",
    " - Leave your bench the same way it was when you arrived\n",
    " - Upload your final data in the correct format to Click-Up before the end of the experimental day\n",
    " - Schedule and attend a two hour meeting with your group (at a time of your convenience) to discuss your analysis of the dataset (12 experiments)\n",
    " - Prepare for the 'board meeting' using the whole dataset and your **own** final interpretation\n",
    " - Submit your **individual 3 slides** for the 'board meeting' before the cut-off time\n",
    " - Attend the board meeting\n",
    " - Ensure that you learn something\n"
   ]
  },
  {
   "cell_type": "markdown",
   "metadata": {},
   "source": [
    "### Getting ready for the 'board meeting'\n",
    "\n",
    "An [Excel template](https://github.com/willienicol/Biochemical-engineering-notes/blob/master/CBI310%20practical/Report%20template.xlsx) is provided for your experimental measurements. The completed file must be uploaded to Click-Up **before the end of the day** on which you performed the experiment. This will enable the group of 12 to acquire the complete experimental dataset of the day. Please use your experiment number (below) to name the file, e.g. **B2.xlsx**.The file should be saved on the dedicated Click-Up group under the group set **Bioreactor groups of 12**. All 12 files should be easily accessible by all 12 members.\n",
    "\n",
    "All students should use the full dataset for the analysis. Note that the experiment name (eg. A2 or C4) must be used to indicate the data on all graphs. There will be repeat experiments so make sure you are not that obvious outlier 😬.  \n",
    "\n",
    "After the experimental session you need to schedule a mandatory 2 hour meeting with your group at a time of your convenience. This session is to get help or provide help for preparing your individual presentation. The peer evaluation will rate your involvement in the group discussion session.\n",
    "\n",
    "You must prepare a **landscape PDF document of 3 pages** for the 'board meeting'. These pages can only have graphs/figures. You will use these pages to explain your experimental interpretation. Multiple graphs on one page are allowed, but remember that the page will be projected on the screen, so we need to be able to see the figures (note font sizes of legends/axes). Last and very important ensure that your experiment number (eg. A2 or C4) is indicated in **font size 40** at the top right corner of each landscape page. The **PDF document** must be uploaded to Click-Up before 07:00 on the day of the board meeting (scheduled feedback session). \n",
    "\n",
    "Please note to **only use the following units on your presentation:**\n",
    "\n",
    "|$\\mu \\qquad \\qquad$|$\\theta \\qquad \\qquad $|$C_{ET} \\qquad \\qquad $|$Q_{CO_2} \\qquad \\qquad $|$r_i \\qquad \\qquad $\n",
    "|-|-|-|-|-\n",
    "|$\\frac{1}{h}$|$\\frac{mol \\, ATP}{cmol \\, X \\cdot h} $|$\\frac{g}{L} $|$\\frac{mL}{min}$|$\\frac{cmol }{cmol \\,X \\cdot h} $\n",
    "\n",
    "**Bring your laptops** to the feedback session and have your laptops and matrices ready , since we will be re-running certain calculations. Please ensure that you execute these requirements correctly. Board meetings are for the prepared.\n",
    "\n",
    "\n"
   ]
  },
  {
   "cell_type": "markdown",
   "metadata": {},
   "source": [
    "### Assignment of experiment\n",
    "\n",
    "Each student will perform his/her own fermentation. There will be 3 groups in the lab. The group assignment (A,B or C) will be according the group number where lowest group number will be group A and highest group number group C. For example group 6 (A), group 7 (B) and group 8(C). In a similar manner the experiment number will be assigned according to the alphabetical order of the surnames in the group, e.g. Botha (A1), Jones (A2), Mahlangu (A3) and Zuma (A4). \n",
    "\n",
    "The conditions of each experiment is given in the table below:\n",
    "\n",
    "<img src=\"Extable.png\" width=\"600\" />\n"
   ]
  },
  {
   "cell_type": "markdown",
   "metadata": {},
   "source": [
    "### What are we investigating?\n",
    "\n",
    "In this experiment we will be looking at how fast _Saccharomyces cerevisiae_ (we call her _Cery_ in our lab) grows and also at the amount of energy required to sustain the growth. Different external conditions (fermenter concentrations) will be employed to see how it affects the growth and energy requirements of _Cery_. \n",
    "\n",
    "Start by fitting a constant 𝜇 on the data. Be careful in in using time zero as the starting point for the fit since the first hour of fermentation is slower due to the organism waking up. Given the fitted 𝜇 calculate the CO₂ production rate in ml/min. Plot this 'model' on the CO₂ data and vary 𝛾 to improve the fit. Start by allowing for a contant 𝛾 over the duration of the run. \n",
    "\n",
    "After this you should model the fermentation CBI310 style. Test whether the constant 𝜇 and 𝛾 assumption is correct. What is the effect of ethanol formed during the reaction.\n",
    "\n",
    "Ensure that you have your numbers (𝜇 and 𝛾) ready when called upon.\n"
   ]
  },
  {
   "cell_type": "markdown",
   "metadata": {},
   "source": [
    "### Theoretical background\n",
    "\n",
    "Under anaerobic conditions _Cery_ produces mainly ethanol as catabolic excretion product (there will be a small amount of glycerol to balance the NADH. The flux model of the system is supplied below:\n",
    "\n",
    "<img src=\"etmap.png\" width=\"680\" />\n",
    "\n",
    "We'll use the following physiological parameters:\n",
    "\n",
    "|$\\alpha $|$\\beta $|$\\theta $\n",
    "|-|-|-\n",
    "|$\\frac{\\text{cmol $CO_2$}}{\\text{cmol X}}$|$\\frac{\\text{mol NADH}}{\\text{cmol X}}$|$\\frac{\\text{mol ATP}}{\\text{cmol X} \\cdot \\text{h}}$\n",
    "|0.1|0.1|0.05\n",
    "\n",
    "The biomass formula is given by $CH_{1.8}O_{0.5}N_{0.2}$\n",
    "\n",
    "Ensure to set up a matrix of the flux model before entering the lab. \n",
    "\n",
    "Your experiment will entail measuring the volumetric rate of $CO_2$ production ($\\frac{mL}{min}$) and the biomass amount ($\\frac{g}{L}$) in the fermentation broth. This will enable calculation of $r_{CO_2}$ by using the ideal gas law. Assume that $CO_2$ in the glass pipette is at 25°C.\n",
    "\n",
    "For the growth experiments the biomass concentration will be measured 5 times during the experiment. You will be able to observe the increase in biomass. For starters you will try to fit a constant $\\mu$ to the growth data (remember the CBI310 exam 😉). Given $\\mu$ and $r_{CO_2}$ data, you will be able to investigate the value of $\\gamma$. Tip: Start by assuming a constant value of $\\mu$ during the batch run before allowing for variations in $\\mu$ during the run. \n",
    "\n"
   ]
  },
  {
   "cell_type": "markdown",
   "metadata": {},
   "source": [
    "### Experimental setup and procedure\n",
    "\n",
    "All 12 experimental setups are identical. The fermenter flask will be placed on the temperature controlled hotplate (with thermocouple inserted into broth). The $CO_2$ formed during the fermentation will flow through the silicon tube to the upside down glass pipette. The bottom of the pipette will be submerged in water while the top of the pipette will be connected to a pipette filler bulb (vacuum via a rubber balloon). The bulb will enable the manipulation of the liquid level in the pipette. $CO_2$ released from the fermentation will push the liquid level downwards whereby volume change can be monitored as a function of time.\n",
    "\n",
    "Accustom yourself to the pipette filler bulb, by using an empty fermenter. Connect the system and manipulate the water level to the top of the glass pipette. Ensure that your system is well sealed by monitoring the level for 5 minutes (a gradual decrease in level will indicate a leak that need to be sorted prior to starting with the fermentation)\n",
    "\n",
    "Start by adding 500ml of mineral solution to your fermenter. Stir at 400 rpm. **Make sure the thermocouple cord is well removed from the hot surface**. Take care in **slowly increasing the temperature** to 35°C since an overshoot will take time and effort to cool down. Best practise is to slowly increase the set point up to 35°C and not to start with a 35°C set point straight away (2°C at a time, give time for the response). The heating procedure will take approximately 20 minutes if performed correctly. While warming up you can measure the yeast, yeast extract and glucose amounts. Note the difference between yeast and yeast extract. Yeast is the living organism in pellet form. Although dormant in the dried state, they will quickly wake once hydrated. Yeast extract is dead organic material obtained from yeast cells in powder form. It contains essential nutrients required for growth.\n",
    "\n",
    "You can add the glucose, ethanol and yeast extract while the liquid is warming up. **Read paragraphs below before adding the yeast itself!** The glucose and ethanol amounts will be specific to your experiment.  The yeast extract should be added on an hourly basis according to the following table:\n",
    "\n",
    "<img src=\"YEadd.png\" width=\"250\" />\n",
    "\n",
    "All experiments will use **1 gram** of yeast pellets for the 500ml mixture. Addition of yeast to the mixture is referred to as inoculation. Inoculation will occur at time zero. Prior to inoculation you need to sparge with $CO_2$ (available on the bench) for 5 minutes. Ensure to submerge the silicon tube into the mixture while the stirrer is on (400 rpm). Sparging removes oxygen for the broth to prevent aerobic fermentation. After sparging, **seal your system and wait for 5 minutes** for equilibrium to establish before inoculating.  \n",
    "\n",
    "$CO_2$ production will commence shortly after inoculation. Use the continuous production of $CO_2$ to perfect your measurement technique. The first part of this [short video](https://youtu.be/8Y_woTfpQa0) will be helpful (ignore the second part on maintenance measurements). **Be careful with the filler bulb, you don't want to pull water into the fermenter** $CO_2$ rate measurements will be instantaneous measurements. For these measurements you will time how long it takes to replace a certain volume of water in the pipette. Best practise is to maximise the predetermined volume. I will visit your experiment during this time, have your ethanol concentration (in $\\frac{g}{L}$) and latest gas flow readings (in $\\frac{mL}{min}$ ) ready since I will be requesting these readings. Note that the [reporting template](https://github.com/willienicol/Biochemical-engineering-notes/blob/master/CBI310%20practical/Report%20template.xlsx) requires $CO_2$ measurements at specific times. It is in order to report an average of multiple readings around the specified time.\n",
    "\n",
    "For sampling of the fermentation medium, the assistant will perform the first two samples of the day to educate all 12 students. Ensure that your system is **not under vacuum**, the **gas outlet should be bubbling** in the beaker. This will ensure that air (with oxygen) is not sucked into the fermenter headspace. Also important to **switch off the heating plate** for the total sampling time. Removal of the thermocouple from the broth will result in a heating response since the thermocouple will be exposed to cool air. Remember to switch back the heater after sampling. Take a 2 ml sample with the supplied pipette (**don't leave fermenter open for too long**) and place into the supplied polytop container. Immediately mark the sample and cool down by putting on ice. The assistant will perform all measurements with the spectrophotometer and supply you with a biomass concentration in $\\frac{g}{L}$.\n",
    "\n",
    "Please note that the teaching assistants will be giving marks for each individual student, so ensure to keep them happy!\n"
   ]
  },
  {
   "cell_type": "code",
   "execution_count": null,
   "metadata": {
    "collapsed": true
   },
   "outputs": [],
   "source": []
  }
 ],
 "metadata": {
  "kernelspec": {
   "display_name": "Python 3",
   "language": "python",
   "name": "python3"
  },
  "language_info": {
   "codemirror_mode": {
    "name": "ipython",
    "version": 3
   },
   "file_extension": ".py",
   "mimetype": "text/x-python",
   "name": "python",
   "nbconvert_exporter": "python",
   "pygments_lexer": "ipython3",
   "version": "3.6.1"
  }
 },
 "nbformat": 4,
 "nbformat_minor": 1
}
