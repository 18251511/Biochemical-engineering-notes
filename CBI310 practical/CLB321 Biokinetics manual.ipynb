{
 "cells": [
  {
   "cell_type": "markdown",
   "metadata": {},
   "source": [
    "## Kinetics of _Saccharomyces cerevisiae_\n",
    "\n",
    "In this CBI310 practical we will be quantifying the dependence of $\\mu$ and $\\theta$ on the ethanol concentration in the fermentation broth. In CBI310 we have extensively used variations in $\\mu$ and $\\theta$ to show how the overall stoichiometry over the cell is altered. In this practical we will derive the growth and maintenance functions for a supplied strain of _Saccharomyces cerevisiae_.\n",
    "\n",
    "There will be 3 groups, each containing 4 group members for each practical session. Each student will run his/her own fermentation and contribute to the experimental dataset consisting out of 12 fermentations. The 3 groups will interpret the same dataset separately and prepare an oral presentation on the analysis for the scheduled feedback session. The audience will consist out of academics, postgrads and the other two CLB321 groups that participated in the practical. Each data point will be attached to the name of the experimenter, so **ensure that you don’t contribute poor data to the dataset**, since you will be exposed in the interpretation.\n"
   ]
  },
  {
   "cell_type": "markdown",
   "metadata": {},
   "source": [
    "### Theoretical background\n",
    "\n",
    "From CBI310 you should remember specific growth rate ($\\mu$) and maintenance rate ($\\theta$). These are the parameters that determine how much energy is required by the organism during fermentation. Glucose is the energy source in this experiment. The metabolism of _S. cerevisiae_ is relatively simple where only glycerol and ethanol are formed as catabolites. The flux model of the system is supplied below:\n",
    "\n",
    "<img src=\"etmap.png\" width=\"680\" />\n",
    "\n",
    "We'll use the following physiological parameters:\n",
    "\n",
    "|$\\alpha \\qquad \\qquad$|$\\beta \\qquad \\qquad $\n",
    "|----|-\n",
    "|$\\frac{\\text{cmol $CO_2$}}{\\text{cmol X}}$|$\\frac{\\text{mol NADH}}{\\text{cmol X}}$\n",
    "|0.1|0.1\n",
    "\n",
    "The biomass formula is given by $CH_{1.8}O_{0.5}N_{0.2}$\n",
    "\n",
    "Ensure to set up a matrix of the flux model before entering the lab. This will help you to understand that you can solve for the growth rate ($\\mu$), given known values of $\\theta$, $\\gamma$ and $r_{CO_2}$ (in units of $\\frac{mol \\, CO_2}{cmol \\, X \\cdot h}$). \n",
    "\n",
    "For starters we’ll assume a typical average value of $\\gamma$ of 1.8 $\\frac{mol \\, ATP}{cmol \\, X}$.\n",
    "\n",
    "Your experiment will entail measuring the volumetric rate of $CO_2$ production ($\\frac{mL}{min}$) and the biomass amount ($\\frac{g}{L}$) in the fermentation broth. This will enable calculation of $r_{CO_2}$ by using the ideal gas law. Assume that $CO_2$ in the glass pipette is at 25°C.\n",
    "\n",
    "The value of $\\theta$ will be calculated from a non-growth experiment where zero yeast extract (nitrogen source) is added. In these experiments the following reaction will occur:\n",
    "\n",
    "<img src=\"etmap_m.png\" width=\"500\" />\n",
    "\n",
    "The reaction is redox neutral (no NADH balance required) with no zero glycerol forming (due to zero biomass formation).\n",
    "\n",
    "For the growth experiments the biomass concentration will be measured 3 times during the experiment. You will be able to observe the increase in biomass and compare the results with your prediction of $\\mu$. During the initial phase of the growth fermentation (first 90 minutes) growth will occur at a lower than usual energy requirement ($\\gamma$ low). This is due to the yeast extract containing peptides that are readily used by the organism. Synthesis of these protein building blocks normally entails ATP expenditure, but since the building blocks are already in the broth, the yeast can grow by spending less energy.\n",
    "\n",
    "Ethanol in the fermentation broth will influence the values of both ($\\mu$) and ($\\theta$). You will have to determine the mathematical relationship of these inhibition functions. See section [section 6.1](https://nbviewer.jupyter.org/github/willienicol/Biochemical-engineering-notes/blob/master/6%20Modeling%20stoichiometry%20variations/Altering%20rates.ipynb) in the CBI310 notes for more detail. \n",
    " "
   ]
  },
  {
   "cell_type": "markdown",
   "metadata": {},
   "source": [
    "### Assignment of experiment\n",
    "\n",
    "Each student will perform his/her own fermentation. There will be 3 groups in the lab. The group assignment (A,B or C) will be according the group number where lowest group number will be group A and highest group number group C. For example group 6 (A), group 7 (B) and group 8(C). In a similar manner the experiment number will be assigned according to the alphabetical order of the surnames in the group, e.g. Botha (A1), Jones (A2), Mahlangu (A3) and Zuma (A4). \n",
    "\n",
    "The conditions of each experiment is given in the table below:\n",
    "\n",
    "<img src=\"extable1.png\" width=\"550\" />\n"
   ]
  },
  {
   "cell_type": "markdown",
   "metadata": {},
   "source": [
    "### Arrangements for the experiment\n",
    "\n",
    "**Please ensure to be in the lab at the scheduled time**. The teaching assistant will give a 10 min introductory lecture at 10:30. Note that the teaching assistant will give an individual mark for each student that will significantly influence the final mark, so ensure to impress him/her.\n",
    "\n",
    "After the introductory talk we will perform a quick leak test and then proceed with preparing the fermentation mixtures. The inoculums (living cells) will be ready for collection from 12:00. Growth experiments will last for 2.5 hours, while maintenance experiments will last 1.5 hours.\n",
    "\n",
    "The teaching assistant will perform the spectrophotometric analysis of all the fermentation samples. There will be 3 samples per growth experiment and a single sample for the maintenance experiment. Samples should be well marked indicating experiment number and sample number (e.g. B3.1 or C4.3). **Samples should be kept cool** on ice since analysis won’t occur immediately.\n",
    "\n",
    "The teaching assistant has to **sign off on each individual** before you can leave the lab. Ensure to fulfil all the requirements of the assistant (clean workspace and equipment will be a definite requirement) \n"
   ]
  },
  {
   "cell_type": "markdown",
   "metadata": {},
   "source": [
    "### Experimental setup and procedure\n",
    "\n",
    "Watch this [short video](https://youtu.be/8Y_woTfpQa0) for some pointers. Note that yeast extract is dead material that contains no living cells, it is the nitrogen source used for growth. The yeast (or inoculum) in the 100 ml bottles on the other hand are **living cells**. Treat them with respect and they will give you good data. \n",
    "\n",
    "All 12 experimental setups are identical. The fermenter flask will be placed on the temperature controlled hotplate (with thermocouple inserted into broth). The $CO_2$ formed during the fermentation will flow through the silicon tube to the upside down glass pipette. The bottom of the pipette will be submerged in water while the top of the pipette will be connected to a pipette filler bulb (vacuum via a rubber balloon). The bulb will enable the manipulation of the liquid level in the pipette. $CO_2$ released from the fermentation will push the liquid level downwards whereby a time dependant volume measurement can be obtained.\n",
    "\n",
    "Accustom yourself to the pipette filler bulb, by using an empty fermenter. Connect the system and manipulate the water level to the top of the glass pipette. Ensure that your system is well sealed by monitoring the level for 5 minutes (a gradual decrease in level will indicate a leak that need to be sorted prior to starting with the fermentation)\n",
    "\n",
    "Students will prepare the 500 $mL$ fermentation medium according the specifications provided in the experimental assignment. Start by adding 250 $mL$ of the minerals solution to the fermentation flask. Add the sugar (and yeast extract) mass so that that you achieve the specified concentrations in a total volume of 500 $mL$ (15 $g$ of glucose will give 30 $\\frac{g}{L}$). Add the ethanol to the mixture by using the volumetric dispenser (ask assistant for help if unsure). Note that the density of ethanol is 0.79 $\\frac{g}{mL}$. **Double check the amounts you should add before physically starting with the preparation**. After completed fill the fermenter with mineral solution up to a volume of 400 $mL$ (indicated on fermentation flask). \n",
    "\n",
    "Once the correct medium is prepared (your 400$mL$) the temperature should be controlled at 35°C before sparging with $CO_2$. **Make sure the thermocouple cord is well removed from the hot surface**. Take care in **slowly increasing the temperature** to 35°C since an overshoot will take time and effort to cool down. Best practise is to slowly increase the set point up to 35°C and not to start with a 35°C set point straight away (2°C at a time, give time for the response). The heating procedure will take approximately 20 minutes if performed correctly. After temperature is established, the medium should be sparged with $CO_2$ (available on the bench) for 5 minutes prior to adding the inoculum. Ensure to submerge the silicon tube into the mixture while the stirrer is on (400 rpm). Sparging removes oxygen for the broth to prevent aerobic fermentation. After sparging, **seal your system and wait for 5 minutes** for equilibrium to establish before inoculating. Inoculums (100 $mL$ bottles containing live yeast cells) can be collected from the shaking incubator. Clearly note that **growth inoculums have green caps**, while  **maintenance inoculums have blue caps**. Ensure that you take the correct inoculum. The innoculum volume of 100 $mL$ will ensure a final fermenter volume of 500 $mL$.\n",
    "\n",
    "The fermentation will commence once the inoculum is added to the fermenter (time zero). Shake the inoculum before adding it to the fermenter in order to leave as little as possible cells behind in the container. For growth fermentations (yeast extract added) 1.5 hour should be allowed before $CO_2$ rate measurements are reported. You should however practise your rate measurement technique beforehand (make sure to watch the video mentioned above). **Be careful with the filler bulb, you don't want to pull water into the fermenter** $CO_2$ rate measurements on growth fermentations will be instantaneous measurements. For these measurements you will time how long it takes to replace a certain volume of water in the pipette. Best practise is to maximize the predetermined volume. I will visit your experiment during this time, have your ethanol concentration (in $\\frac{g}{L}$)and latest gas flow readings (in $\\frac{mL}{min}$ ready since I will be requesting these readings.\n",
    "\n",
    "You will report 7 $CO_2$ rate measurements between 1.5 and 2.5 hours of fermentation. Note that you will only take 3 biomass measurements at the times specified in the report template ([see report_template.xlsx](https://github.com/willienicol/Biochemical-engineering-notes/blob/master/CBI310%20practical/Reporting_template.xlsx)).\n",
    "\n",
    "For maintenance fermentations (no nitrogen added) reported measurements will commence after 50 minutes. You should however practise your rate measurement technique beforehand and have your ethanol concentration (in $\\frac{g}{L}$) and latest gas flow readings (in $\\frac{mL}{min}$ ready for my visit. **Be careful with the filler bulb, you don't want to pull water into the fermenter** In these experiments an accumulative volume measurement will be employed. This entails taking numerous volume displacement measurements against time (the whole pipette volume should be used). If you run out of pipette volume, use the bulb to adjust the water level and perform the necessary additions and subtractions so that the **total accumulative replaced volume** (see video) is reported against time. Your biomass concentration will only be determined at the end of the run. Data should be entered into the report template (see [report_template.xlsx](https://github.com/willienicol/Biochemical-engineering-notes/blob/master/CBI310%20practical/Reporting_template.xlsx)). Ensure to give accumulative replaced volume over a timespan of at least 40 minutes.\n",
    "\n",
    "For sampling of the fermentation medium, the assistant will perform the first two samples of the day to educate all 12 students. Ensure that your system is not under vacuum, the **gas outlet should be bubbling** in the beaker. This will ensure that air (with oxygen) is not sucked into the fermenter headspace. Also important to **switch off the heating plate** for the total sampling time. Removal of the thermocouple from the broth will result in a heating response since the thermocouple will be exposed to cool air. Remeber to switch back the heater after sampling. Take a 2 ml sample with the supplied pipette (**don't leave fermenter open for too long**) and place into the supplied polytop container. Immediately mark the sample and cool down by putting on ice. The assistant will perform all measurements with the spectrophotometer and supply you with an absorbance reading for each sample. You can obtain the biomass concentration via the following function:\n",
    "\n",
    "$$y = 5.01x -0.221 $$\n",
    "\n",
    "where $y$ is the cell concentration in $\\frac{g}{L}$ and $x$ the absorbance reading obtained.\n",
    "\n"
   ]
  },
  {
   "cell_type": "markdown",
   "metadata": {},
   "source": [
    "### Report submission and analysis\n",
    "\n",
    "The reporting template should be saved in the following format:\n",
    "\n",
    "Experiment number_student initials, e.g. **C3_WN.xlsx**\n",
    "\n",
    "The file should be saved on the dedicated Click-Up group under the group set **Bioreactor groups of 12**. Note that **the group name will be the date of the experiment**. The reporting file should be saved before **17:00 on the day of the experiment**. All 12 files should be easily accessible by all 12 members.\n",
    "\n",
    "Analysis of the data will be performed by each CLB group (4 members) separately. Interaction between the 3 groups is not allowed! (it will be easy to spot in the final presentations). Data should be labelled by using the filename of the report template. Start your analysis by **averaging general trends** (given the experimental scatter), rather than analysing each reported datapoint. Form a simple picture first and then elaborate from this basis.\n",
    "\n",
    "The idea is to analyse the dependency of $\\mu$ and $\\theta$ on the ethanol concentration in the broth ($C_{ET}$). You can assume that the ethanol in the inoculum is negligible. Repeat experiments should be scrutinized. \n",
    "\n",
    "Note that $\\mu$  can be calculated from the matrix once $\\theta$ is determined form the relevant maintenance experiment (at corresponding $C_{ET}$). The calculation will be specific to a given time in the growth experiment. It is also possible to determine $\\mu$ by fitting a standard growth curve (with fixed $\\mu$ ) to the 3 biomass concentration measurements (see CBI310 [section 5.4](https://nbviewer.jupyter.org/github/willienicol/Biochemical-engineering-notes/blob/master/5%20Basic%20bioreactor%20modeling/Understanding%20growth.ipynb) for more detail). Comparisons should be made between the two ways of calculating $\\mu$. Deviations will most likely be linked to variations in the $\\gamma$ value.\n",
    "\n",
    "In the ideal scenario the $r_{CO_2}$ value should increase proportional to the biomass increase in the fermenter. This will only occur after 90 minutes of fermentation (growth) when $\\gamma$ is expected to be close to the standard value of 1.8 $\\frac{mol \\, ATP}{cmol \\,X}$. Note that experimental data tends to contain significant scatter. Use repeat experiments to improve the final fitted values.\n",
    "\n",
    "In the end all results should be presented by two graphs, $\\mu$ against $C_{ET}$ and $\\theta$ against $C_{ET}$. A mathematical function should be given and plotted for both graphs in conjunction with the reworked experimental data.\n",
    "\n",
    "The group should prepare a presentation consisting out of graphs only (max 6 graphs). Axis numbers and units should be clearly displayed so that all is visible on the projector screen. Note that I will nominate the student who will explain the graphs, giving him/her a maximum of 10 minutes. Have your laptops and matrices ready , since we will be re-running certain calculations. Please note to **only use the following units:**\n",
    "\n",
    "|$\\mu \\qquad \\qquad$|$\\theta \\qquad \\qquad $|$C_{ET} \\qquad \\qquad $|$Q_{CO_2} \\qquad \\qquad $|$r_i \\qquad \\qquad $\n",
    "|-|-|-|-|-\n",
    "|$\\frac{1}{h}$|$\\frac{mol \\, ATP}{cmol \\, X \\cdot h} $|$\\frac{g}{L} $|$\\frac{mL}{min}$|$\\frac{cmol }{cmol \\,X \\cdot h} $\n",
    "\n",
    "\n",
    "The examiners will be lenient for incorrect analysis as long as there is conviction in the approach. It is not an easy analysis, just give it your best and most importantly give it a piece of your brain. The purpose of the exercise is not to get it perfectly right, but rather to learn as you struggle. Enjoyment is the objective, especially enjoyment of those arguments between group members when figuring out the organism. See yourself as a scientist struggling to figure out the complexities of nature.\n",
    "\n",
    "Looking forward to the feedback session! \n"
   ]
  },
  {
   "cell_type": "code",
   "execution_count": null,
   "metadata": {
    "collapsed": true
   },
   "outputs": [],
   "source": []
  }
 ],
 "metadata": {
  "kernelspec": {
   "display_name": "Python 3",
   "language": "python",
   "name": "python3"
  },
  "language_info": {
   "codemirror_mode": {
    "name": "ipython",
    "version": 3
   },
   "file_extension": ".py",
   "mimetype": "text/x-python",
   "name": "python",
   "nbconvert_exporter": "python",
   "pygments_lexer": "ipython3",
   "version": "3.5.1"
  }
 },
 "nbformat": 4,
 "nbformat_minor": 0
}
