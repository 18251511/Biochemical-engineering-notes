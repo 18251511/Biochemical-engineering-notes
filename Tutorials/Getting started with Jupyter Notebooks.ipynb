{
 "cells": [
  {
   "cell_type": "markdown",
   "metadata": {},
   "source": [
    "## Getting started with Jupyter Notebooks\n",
    "\n",
    "All the content in this subject is presented in **Jupyter Notebooks**. It is an environment where Ipython programming runs in conjunction with text, images, video links, mathematical equations and more. Numerous lecturers in Chemical Engineering will employ Jupyter Notebooks, so it is worth your while to get used to the environment.\n",
    "\n",
    "Start by uninstalling all Python software on your laptop or PC. Download and install [Ananconda](https://www.continuum.io/downloads) (choose the Python 3 option, not 2).\n",
    "\n",
    "<img src=\"anaconda.PNG\" width=\"650\" />\n",
    "\n",
    "Once installed run Jupyter Notebook from the Anaconda submenu.\n",
    "\n",
    "You can also run Jupyter Notebook from your file browser, [see this clip for detail](https://www.youtube.com/watch?v=JId0f7URtOQ)\n",
    "\n",
    "Jupyter will open in your browser, with the server running on your computer. Open an existing  **.ipynb file** or create your own file in Python 3.\n",
    "\n",
    "The blocks indicated by **In [ ]:** is where you execute Python code like you have done before in Spyder. The language is identical.\n",
    "\n",
    "<img src=\"code.PNG\" width=\"750\" />\n",
    "\n",
    "\n",
    "To enter text and equations select the Markdown option here:\n",
    "\n",
    "\n",
    "<img src=\"markdown.PNG\" width=\"650\" />\n",
    "\n",
    "\n",
    "\n",
    "Start by downloading the Ipython Notebook files from the CBI course. With these you will be able to execute the code in the notes and see how the text, pictures an equations were entered. Download all the files at the [following link]( https://github.com/willienicol/Biochemical-engineering-notes). Press this button on the webpage:\n",
    "\n",
    "<img src=\"githubdownload.PNG\" width=\"650\" />\n",
    "\n",
    "Note that the CBI content varies the whole time, so for new sections you will have to download the repository again (fortunately it is relatively small).\n",
    "Also note that the pictures used in the notebooks should be in the same directory as the ipynb file.\n",
    "Start playing around. For chapter 3 and 4 you will be able to get by with Excel or a linear equation solver app. \n",
    "  \n",
    "\n",
    "\n"
   ]
  },
  {
   "cell_type": "markdown",
   "metadata": {},
   "source": []
  }
 ],
 "metadata": {
  "kernelspec": {
   "display_name": "Python 3",
   "language": "python",
   "name": "python3"
  },
  "language_info": {
   "codemirror_mode": {
    "name": "ipython",
    "version": 3
   },
   "file_extension": ".py",
   "mimetype": "text/x-python",
   "name": "python",
   "nbconvert_exporter": "python",
   "pygments_lexer": "ipython3",
   "version": "3.5.1"
  }
 },
 "nbformat": 4,
 "nbformat_minor": 0
}
