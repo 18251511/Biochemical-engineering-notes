{
 "cells": [
  {
   "cell_type": "markdown",
   "metadata": {},
   "source": [
    "### Tutorial 7\n",
    "\n",
    "Take the formulation from **tut 0**:\n",
    "$$$$\n",
    "$$\\frac{dC_1}{dt}=r_1C_1 $$\n",
    "$$$$\n",
    "\n",
    "$$\\frac{dC_2}{dt}=r_2C_1 $$\n",
    "$$$$\n",
    "\n",
    "$$r_1-2r_2=\\frac{-C_1}{C_2}$$\n",
    "$$$$\n",
    "\n",
    "$$2r_1-3r_3=-C_2$$\n",
    "$$$$\n",
    "\n",
    "$$r_1-r_2+r_3=\\frac{5}{C_2} $$\n",
    "$$$$\n",
    "\n",
    "$$ C_1(0)=15 \\,\\, , C_2(0)=2 $$ \n",
    "$$$$\n",
    "\n",
    "Plot the values of $C_1$ and $C_2$ from $t=0$ to $t=1$:"
   ]
  },
  {
   "cell_type": "markdown",
   "metadata": {},
   "source": [
    "Start by writing the 3 algebraic equations in matrix format and define a 'response function' in terms of $C_1$ and $C_2$.\n",
    "\n",
    "Define the differential equations as the 'fermenter equation' and integrate with odeint.\n",
    "\n",
    "The answer should look like this:\n",
    "\n",
    "<img src=\"tut7ans.png\" width=\"400\" />\n"
   ]
  },
  {
   "cell_type": "markdown",
   "metadata": {
    "collapsed": true
   },
   "source": [
    "[Back to all tutorials](http://localhost:8888/notebooks/Dropbox/1_CBI%20310/2017/Tutorials/All%20tutorials.ipynb)"
   ]
  },
  {
   "cell_type": "code",
   "execution_count": null,
   "metadata": {
    "collapsed": true
   },
   "outputs": [],
   "source": []
  }
 ],
 "metadata": {
  "kernelspec": {
   "display_name": "Python 3",
   "language": "python",
   "name": "python3"
  },
  "language_info": {
   "codemirror_mode": {
    "name": "ipython",
    "version": 3
   },
   "file_extension": ".py",
   "mimetype": "text/x-python",
   "name": "python",
   "nbconvert_exporter": "python",
   "pygments_lexer": "ipython3",
   "version": "3.5.1"
  }
 },
 "nbformat": 4,
 "nbformat_minor": 0
}
