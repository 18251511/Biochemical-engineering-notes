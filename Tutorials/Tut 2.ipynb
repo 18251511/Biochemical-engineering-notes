{
 "cells": [
  {
   "cell_type": "markdown",
   "metadata": {},
   "source": [
    "### Tutorial 2\n",
    "\n",
    "The yeast _Saccharomyces cerevisiae_ is produced commercially on a large scale to provide bakers around the world with the ‘magic stuff’ that makes dough rise. Using the generic biomass formula for the yeast cells ($CH_{1.8}O_{0.5}N_{0.2}$), write down the overall equation for producing cells from glucose, ammonia and oxygen. Note that $CO_2$ and $H_2O$ will be products.\n",
    "\n",
    "<img src=\"saccharo.png\" width=\"550\" />\n",
    "\n",
    "a)\tWhat is the mass based yield of biomass on glucose if zero oxygen is used? [0.78 g/g]\n",
    "\n",
    "b)\tWill the reaction in (a) be feasible, give reasons.\n",
    "\n",
    "c)\tIf oxygen is introduced into the system (@ 0.38 mol $O_2$/cmol glucose), what will be the biomass yield and why the change from (a)? [0.48 g/g]\n",
    "\n",
    "d)\tAll the oxygen is consumed is via the process of oxidative phosphorylation. Use this to determine the moles of ATP generated per cmol of biomass (X) formed for the scenario in (c). Assume a $(P/O)_{NADH}$ of 1.7 and a $(P/O)_{FADH}$ of 1.2. [2.51 $\\frac {mol \\, ATP}{cmol \\, X}$]\n"
   ]
  },
  {
   "cell_type": "code",
   "execution_count": null,
   "metadata": {
    "collapsed": true
   },
   "outputs": [],
   "source": []
  }
 ],
 "metadata": {
  "kernelspec": {
   "display_name": "Python 3",
   "language": "python",
   "name": "python3"
  },
  "language_info": {
   "codemirror_mode": {
    "name": "ipython",
    "version": 3
   },
   "file_extension": ".py",
   "mimetype": "text/x-python",
   "name": "python",
   "nbconvert_exporter": "python",
   "pygments_lexer": "ipython3",
   "version": "3.5.1"
  }
 },
 "nbformat": 4,
 "nbformat_minor": 0
}
