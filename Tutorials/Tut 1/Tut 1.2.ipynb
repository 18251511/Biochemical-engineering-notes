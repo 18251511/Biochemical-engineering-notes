{
 "cells": [
  {
   "cell_type": "markdown",
   "metadata": {},
   "source": [
    "## Tut 1.2\n"
   ]
  },
  {
   "cell_type": "markdown",
   "metadata": {},
   "source": [
    "Life is supported by three macronutrients (proteins, carbohydrates, and fats). These form the basis of our diet and each needs to be consumed each day. But there is a problem, how do we get enough of these three to be healthy and fit? We don't want to be foraging or hunting all day every day. So we started farming. We selected a few people that would dedicate their lives to producing food for the rest so that they could focus on other tasks.\n",
    "\n",
    "<img src=\"farm.jpg\" width=\"500\" />\n"
   ]
  },
  {
   "cell_type": "markdown",
   "metadata": {},
   "source": [
    "1. Find two locally produced sources of each macronutrient?\n",
    "\n",
    "2. In 1920 the worlds population was 1.8 billion up from 1 billion in 1820, now we have exploded to 7.7 billion people. What event madethis possible?\n",
    "\n",
    "3. What are the essential amino acids? What animal and plant sources contain all the amino acids?\n",
    "\n",
    "Beef forms the basis of many peoples diets and is eaten largely for its protein content. However it has been found that the process of producing cattle for meat production is largely unsustainable. This is said because 1 kg of beef uses 15 013 L of water [[1]](https://foodtank.com/news/2013/12/why-meat-eats-resources/), the animal agriculture industry has been found to contribute 14.5% of the global greenhouse gas emissions [[2]](http://www.fao.org/3/i3437e/i3437e03.pdf) and cattle production and the production of soyabeans for cattle feed has been found to have caused 70% of the Amazon rainforset deforestation [[3]](https://www.worldanimalfoundation.com/advocate/farm-animals/params/post/1280110/animal-agriculture-is-destroying-tropical-forests). Cows are bred primarily one of two ways they either grain fed (corn or soya beans) of they are grass fed. \n",
    "\n",
    "4. How many kilograms of feed (soya or corn) are used to produce a kilogram of beef?\n",
    "\n",
    "5. How many grams of protein are required per day for a man that weighs 70 kg?\n",
    "\n",
    "6. Which living organism produces the highest concentration of protein?\n",
    "\n",
    "7. What are alternative dietery sources of protein?\n",
    "\n",
    "Sustainability is far more complex that just what you put on your plate. Every time you step into your car or use a single-use plastic item it is a contribution to the current global crisis. Complete the following survey to see how sustainable your life is: [Whats my footprint](https://www.footprintcalculator.org/)"
   ]
  },
  {
   "cell_type": "code",
   "execution_count": null,
   "metadata": {},
   "outputs": [],
   "source": []
  }
 ],
 "metadata": {
  "kernelspec": {
   "display_name": "Python 3",
   "language": "python",
   "name": "python3"
  },
  "language_info": {
   "codemirror_mode": {
    "name": "ipython",
    "version": 3
   },
   "file_extension": ".py",
   "mimetype": "text/x-python",
   "name": "python",
   "nbconvert_exporter": "python",
   "pygments_lexer": "ipython3",
   "version": "3.7.3"
  }
 },
 "nbformat": 4,
 "nbformat_minor": 2
}
