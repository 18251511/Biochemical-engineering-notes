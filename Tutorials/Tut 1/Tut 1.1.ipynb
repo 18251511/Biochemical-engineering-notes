{
 "cells": [
  {
   "cell_type": "markdown",
   "metadata": {},
   "source": [
    "### Bioprocessing example"
   ]
  },
  {
   "cell_type": "markdown",
   "metadata": {},
   "source": [
    "\n",
    "\n",
    "<img src=\"insulin1.png\" width=\"750\" />"
   ]
  },
  {
   "cell_type": "markdown",
   "metadata": {},
   "source": [
    "1) How was insulin made in 1970?\n",
    "\n",
    "2) How is insulin made today?\n",
    "\n",
    "3) Below a picture of insulin, how do you interpret it?\n",
    "\n",
    "<img src=\"insulin2.png\" width=\"750\" />"
   ]
  },
  {
   "cell_type": "markdown",
   "metadata": {},
   "source": [
    "### Evolution 101\n",
    "\n",
    "<img src=\"evotree1.png\" width=\"750\" />\n",
    "\n",
    "1) What is the definition of a specie?\n",
    "\n",
    "2) What is the common ancestor of a human and and an ostrich? How long ago did this ancestor live? If your grandfather is 2 generations away from you, how many generations is this ancestor away from you?\n",
    "\n",
    "3) What fraction of this class has Neanderthal genes in them? Why?\n",
    "\n",
    "4) Use this [map](https://www.evogeneao.com/en) and determine if you are closer related to fungi or to flowering plants?\n",
    "\n",
    "5) Bats and dolphins are similar in their echolocation systems. Does their common anchestor have this ability. What do you make of this? [See here](https://www.the-scientist.com/news-opinion/surprising-similarities-in-divergent-genomes-38745)"
   ]
  },
  {
   "cell_type": "code",
   "execution_count": null,
   "metadata": {
    "collapsed": true,
    "jupyter": {
     "outputs_hidden": true
    }
   },
   "outputs": [],
   "source": []
  }
 ],
 "metadata": {
  "kernelspec": {
   "display_name": "Python 3",
   "language": "python",
   "name": "python3"
  },
  "language_info": {
   "codemirror_mode": {
    "name": "ipython",
    "version": 3
   },
   "file_extension": ".py",
   "mimetype": "text/x-python",
   "name": "python",
   "nbconvert_exporter": "python",
   "pygments_lexer": "ipython3",
   "version": "3.7.7"
  }
 },
 "nbformat": 4,
 "nbformat_minor": 4
}
