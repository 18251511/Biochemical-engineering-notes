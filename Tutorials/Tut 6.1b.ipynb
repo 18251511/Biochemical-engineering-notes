{
 "cells": [
  {
   "cell_type": "markdown",
   "metadata": {},
   "source": [
    "### Tutorial 6.1b\n",
    "\n",
    "We will now continue with tut 9. \n",
    "\n",
    "<img src=\"homosucc.png\" width=\"550\" />\n",
    "\n",
    "h) It is also possible to operate the fermentation under aerobic conditions. Zero succinic acid will form when sufficient oxygen is available (assume this to be the case). Operate the fermenter aerobically for 15 hours by sparging with oxygen and then switch to sparging with $CO_2$. Note that the specifications in the response matrix will alter between aerobic and anaerobic conditions. Integrate the aerobic and anaerobic sections separately, but plot together on a single graph. Determine the APY and productivity of the total fermentation. Compare to the answer in (e) and explain to yourself. What happened to $C_{SA}^{final}$ when comparing to (e)? Also play with increasing the aerobic fermentation time. Take enough time in understanding the concentration profiles and don't just focus on getting the answers. \n",
    "\n",
    "[$1.64 \\frac{g}{L \\cdot h}$ and $0.99 \\frac{g}{g}$]\n",
    "\n",
    "i) It should be clear that $CO_2$ is consumed when operating under anaerobic conditions. What will happen when the $CO_2$ supply in this phase is shut off? For the aerobic phase oxygen sparging is required, but is it in order to shut off the $CO_2$ supply? Determine the $CO_2$ consumption/production at the start of the aerobic phase in (h). Also investigate the internal flux distribution in the aerobic phase by having a close look at fluxes $r_4$ and $r_5$. What is the difference between the simplified respiration model in [section 4.3](https://nbviewer.jupyter.org/github/willienicol/Biochemical-engineering-notes/blob/master/4%20Stoichiometry%20that%20includes%20internal%20reactions/TCA%20cycle%20and%20oxidative%20phosphorylation.ipynb) and the respiration in this tutorial?\n",
    "\n",
    "j) What is the difference between $-r_{S}$ at the end of the aerobic phase and the start of the anaerobic phase? Why the difference? [$\\frac {-r_S^{anaer}}{-r_S^{aer}} = 4.4$}\n",
    "\n",
    "k) Plot the volumetric consumption rate of oxygen ($r_{O_2}^V$) as a function of time for the aerobic phase. If the oxygen supply to the fermenter had a maximum possible value of $0.02 \\frac{\\text{mol }O_2}{\\text{L}\\cdot \\text{h}}$, how will the organism respond to the limitation?\n",
    "\n",
    "l) Perform your own flux model (set up your own response function). Include $CO_2$ as seperate flux. Check against the supplied model. Note the following stoichiometric relationship: $r_6=2r_3$ ($C_4$ joining $C_2$ to form $C_6$). Use the standard elemental composition for biomass. \n",
    "\n",
    "m) If the PEP carboxykinase gene is removed and replaced with the more conventional pyruvate carboxylase, the ATP balance of the organism will be affected. Note that a mole of ATP is required to convert pyruvate to oxaloacetate via pyruvate carboxylase. Determine how the biomass yield on glucose will be affected when the modification is performed (assume zero inhibition). How will this modification affect the anaerobic fermentation? How will the modification affect the aerobic-anaerobic combo fermentation?[$\\frac{Y_{SX}^{xylase}}{Y_{SX}^{kinase}}=0.28$]\n"
   ]
  },
  {
   "cell_type": "markdown",
   "metadata": {},
   "source": [
    "[Back to all tutorials](https://nbviewer.jupyter.org/github/willienicol/Biochemical-engineering-notes/blob/master/Tutorials/All%20tutorials.ipynb)"
   ]
  },
  {
   "cell_type": "code",
   "execution_count": null,
   "metadata": {
    "collapsed": true
   },
   "outputs": [],
   "source": []
  }
 ],
 "metadata": {
  "kernelspec": {
   "display_name": "Python 3",
   "language": "python",
   "name": "python3"
  },
  "language_info": {
   "codemirror_mode": {
    "name": "ipython",
    "version": 3
   },
   "file_extension": ".py",
   "mimetype": "text/x-python",
   "name": "python",
   "nbconvert_exporter": "python",
   "pygments_lexer": "ipython3",
   "version": "3.6.3"
  }
 },
 "nbformat": 4,
 "nbformat_minor": 2
}
