{
 "cells": [
  {
   "cell_type": "markdown",
   "metadata": {},
   "source": [
    "## Example 1\n",
    "\n",
    "<img src=\"kilojoules.gif\" width=\"450\" />\n",
    "\n",
    "Ben (100 kg) has an average daily energy output of 0.3 $\\frac{W}{kg}$. Ben represents the average human who are able to convert 25% of his energy intake to energy output under normal respiration conditions. Let's assume that Ben lives on only drinking Coke. Assume that sugar contains 17 $\\frac{kJ}{g}$. Use glucose for all sugar. Assume a $(P/O)_{NADH}$ of 1.5 and a $(P/O)_{FADH}$ of 1. \n",
    "\n",
    "a) How many kilojoules does Ben consume in a day? [10368 kJ/day]\n",
    "\n",
    "b) How many cans of coke is this in a day? [17.5 cans]\n",
    "\n",
    "c) If Ben's outlet breath contains 16% of oxygen, how much air does he breath in a minute? Assume his lungs are at 25°C and 86 kPa [8.1 L/min]\n",
    "\n",
    "d) Ben's VO2 max is 30 $\\frac{ml \\, O_2}{kg \\cdot min}$. Determine his energy output at this condition if you assume that only respiration is taking place. [2.2 $\\frac{W}{kg}$]\n",
    "\n",
    "e) What is Ben's glucose consumption in (d) [3.12 $\\frac{g}{min}$]\n",
    "\n",
    "f) It is determined that Ben's energy output is actually 2.6 $\\frac{W}{kg}$ at his VO2 max. What is Ben's real glucose consumption rate at this condition? [8.97 $\\frac{g}{min}$]\n",
    "\n"
   ]
  },
  {
   "cell_type": "markdown",
   "metadata": {},
   "source": [
    "## Example 2\n",
    "\n",
    "<img src=\"Resferm.jpg\" width=\"450\" />\n",
    "\n",
    "Take the reaction where glucose, oxygen, $CO_2$, ethanol and water are reagents/products.\n",
    "\n",
    "a) If the oxygen rate is the same as the $CO_2$ rate but opposite in sign, determine $Y_{SE}$ (S-glucose, E-ethanol)\n",
    "\n",
    "b) Assume the overall reaction is taking place in a living organism. If the oxygen consumption rate is 2.3 $\\frac{mmol}{h}$ and the $CO_2$ production rate is 7.8 $\\frac{mmol}{h}$, what fraction of glucose is used for respiration and what fraction of the total ATP generated is from respiration. Assume a $(P/O)_{NADH}$ of 1.5 and a $(P/O)_{FADH}$ of 1.  [12% 59%]\n",
    "\n",
    "c) In what pathways are $CO_2$ formed?\n",
    "\n",
    "d) How does this example relate to the story of the fire where wood is imcompletely burned?\n",
    "\n"
   ]
  },
  {
   "cell_type": "code",
   "execution_count": null,
   "metadata": {
    "collapsed": true
   },
   "outputs": [],
   "source": []
  }
 ],
 "metadata": {
  "kernelspec": {
   "display_name": "Python 3",
   "language": "python",
   "name": "python3"
  },
  "language_info": {
   "codemirror_mode": {
    "name": "ipython",
    "version": 3
   },
   "file_extension": ".py",
   "mimetype": "text/x-python",
   "name": "python",
   "nbconvert_exporter": "python",
   "pygments_lexer": "ipython3",
   "version": "3.6.1"
  }
 },
 "nbformat": 4,
 "nbformat_minor": 2
}
