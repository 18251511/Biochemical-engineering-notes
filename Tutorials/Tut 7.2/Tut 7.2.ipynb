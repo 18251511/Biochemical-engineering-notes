{
 "cells": [
  {
   "cell_type": "markdown",
   "metadata": {},
   "source": [
    "# A day in the life of a Bio-engineer"
   ]
  },
  {
   "cell_type": "markdown",
   "metadata": {},
   "source": [
    "In this tutorial you will be given a taste of what it is like to be a bioengineer. The organism that you will be working with is *Rhizopus oryzae*. This organism is particularly interesting since it excretes fumaric acid in higher concentration than any other organism, natural or genetically modified. However it doesn't come without its problems. It has been found to be a Crabtree positive organism, meaning that it has a limited respiration potential and produces ethanol under fully aerobic conditions as a result. *R. oryzae* is heavily influenced by the concentration of nitrogen in the media. Nitrogen is essential for the production of biomass but fumaric acid is inhibited by the presence of nitrogen."
   ]
  },
  {
   "cell_type": "markdown",
   "metadata": {},
   "source": [
    "For this tutorial you will not have access to the responce function and the parameters such as µ, Θ or Km$_S$ will not be given. You will be finding these parameters through analysing the fermentations concentration profiles. However α and γ are given as $0.1~mol~Cmol_X^{-1}$ and $2.5~mol_{ATP}~Cmol_X^{-1}$. The flux model is given below. When looking at the production of fumaric acid there is an additional cost of 3 moles per mole of fumaric acid not shown on the fulc model. (Important for the ATP balance) This is as a result of the cost of exproting the molecule out of the cell and into the broth."
   ]
  },
  {
   "cell_type": "markdown",
   "metadata": {},
   "source": [
    "<img src=\"RhozyMap.png\" width=\"500\"/>"
   ]
  },
  {
   "cell_type": "markdown",
   "metadata": {},
   "source": [
    "The code for the fermenter equation is in the Python file that you can download [here](https://nbviewer.jupyter.org/github/willienicol/Biochemical-engineering-notes/blob/master/Tutorials/Tut%207.2/rhozy.pyc). In order to import and use the function please see the cose below. The function is coded as a fed-batch fermenter, so for the first part of the tutorial set Q = 0 and all the feed concentrations to zero, as this will simulate a batch process. Pressing Shift + Tab next to the ferm function will give you more info on the function and what the varibales are."
   ]
  },
  {
   "cell_type": "code",
   "execution_count": 3,
   "metadata": {},
   "outputs": [],
   "source": [
    "from rhozy import ferm\n",
    "import numpy as np\n",
    "from scipy.integrate import odeint\n",
    "from matplotlib import pyplot as plt"
   ]
  },
  {
   "cell_type": "code",
   "execution_count": 4,
   "metadata": {},
   "outputs": [],
   "source": [
    "# Time (Using a set number of increments per hour is useful to achieve smooth profiles with out errors)\n",
    "# If an error occurs during the integration try varying the number of increments, usually too few can cause an error.\"\n",
    "time = 25\n",
    "tspan = np.linspace(0,time,time*10 + 1)\n",
    "\n",
    "# Initail parameters\n",
    "Cso,Cxo,Cfo,Ceo,Cno =  0, 0, 0, 0, 0  # Cmol/L (Cn is in mole nitrogen)\n",
    "V = 0  # L\n",
    "Q = 0.0 # L/h\n",
    "Csf,Cxf,Cff,Cef,Cnf = 0,0,0,0,0  # Cmol/L\n",
    "ans = odeint(ferm,[Cso*V,Cxo*V,0,0,Cno*V,V],tspan, args = (Q,[Csf,Cxf,Cff,Cef,Cnf],))\n",
    "N = ans.T # mol\n",
    "V_array = N[-1]\n",
    "Cs,Cx,Cf,Ce,Cn,one = N/V_array  # Cmol/L"
   ]
  },
  {
   "cell_type": "markdown",
   "metadata": {},
   "source": [
    "## Questions"
   ]
  },
  {
   "cell_type": "markdown",
   "metadata": {},
   "source": [
    "a) You will be conducting a batch fermentation where the main goal is the production of biomass. The intial concentrations are $50~g~L^{-1}$ glucose, $2.52~g~L^{-1}$ ammonium chloride and $0.05~Cmol~L^{-1}$ *R. oryzae* biomass. The volume of the reactor is 2 L for the batch fermentation but has a maximum capacity of 10 L. Determine the time taken for the fermentation to reach completion. [25.44 h]"
   ]
  },
  {
   "cell_type": "markdown",
   "metadata": {},
   "source": [
    "b) Determine the volumetric rate of biomass production and plot it vs time? Describe the shape of the profile. "
   ]
  },
  {
   "cell_type": "markdown",
   "metadata": {},
   "source": [
    "c) Determine $µ_{max}$ by varying the intial conditions of glucose and ammonia both of which have monod effects. [$µ_{max}≈ 0.1 h^{-1}$]"
   ]
  },
  {
   "cell_type": "markdown",
   "metadata": {},
   "source": [
    "d) Determine the mole fraction of nitrogen in biomass? Does this ratio change and why? ($\\frac{mol_N}{Cmol_X}$)"
   ]
  },
  {
   "cell_type": "markdown",
   "metadata": {},
   "source": [
    "e) Determine the total rate of $CO_2$ production. Explain the reason for the switch from production to consumption. [$r_{CO_2}~ = 0.134~\\frac{mol}{Cmol_X h}$ at 10 h, $r_{CO_2}~ = -0.004~\\frac{mol}{Cmol_X h}$ at 24 h] \n"
   ]
  },
  {
   "cell_type": "markdown",
   "metadata": {},
   "source": [
    "f) Determine the volumetric rate of oxygen consumption. ß has been found to be $0.09~\\frac{mol_{NADH}}{Cmol_X}$. What is the maximum volumetric oxygen rate and at what time does it occur? [$r_{O_2}~ = 0.0156~\\frac{mol}{L~h}$ at 22.23 h] "
   ]
  },
  {
   "cell_type": "markdown",
   "metadata": {},
   "source": [
    "g) Determine the plot of Θ vs time and determine the Θ$_{max}$."
   ]
  },
  {
   "cell_type": "markdown",
   "metadata": {},
   "source": [
    "h) Calculate the yield of fumaric acid over the batch fermentation. Comment on the reasons for this value and what can you do to improve the yield?"
   ]
  },
  {
   "cell_type": "markdown",
   "metadata": {},
   "source": [
    "i) Plot the rate of ethanol, fumaric acid and the $CO_2$ from resparation on the same graph. Explain why ethanol production stops with regard to respiration and why the fumaric acid production rate turns."
   ]
  },
  {
   "cell_type": "markdown",
   "metadata": {},
   "source": [
    "j) The Crabtree effect is induced by a high concentration of glucose which forces respiration to reach its limit. The carbon is therefore forced into ethanol to avoid a build up of carbon in the cell. Low glucose concentrations have been found to negate the production of ethanol formation. Determine highest concentration of glucose that results in no ethanol formation."
   ]
  },
  {
   "cell_type": "markdown",
   "metadata": {},
   "source": [
    "k) Now that the biomass has been grown the fermenter is washed to remove the metabolites and any trace of nitrogen that would inhibit fumaric acid production. This is now the fumaric acid production phase of the fermentation. The biomass concentration does not change as the biomass is immobilised in the fermenter. The starting volume is 2 L of pure water and then you add 8 L of a $2~g~L^{-1}$ glucose solution. Once the 10 L is reached the fermentation will terminate. The flow rate into the fermenter is $0.1~L~h^{-1}$. What is the final concentration of fumaric acid? Is this the optimum fermentation to produce fumaric acid? [$1.218~g~L^{-1}$]"
   ]
  },
  {
   "cell_type": "markdown",
   "metadata": {},
   "source": [
    "l) Plot the yield of fumaric acid on glucose. Why does the yeild level out?"
   ]
  },
  {
   "cell_type": "markdown",
   "metadata": {},
   "source": [
    "m) Determine the biomass based rate equation for a fed batch reactor and plot the rate of ethanol production. What is the determining factor of the shape of this plot?"
   ]
  },
  {
   "cell_type": "markdown",
   "metadata": {},
   "source": [
    "n) Vary the glucose feed rate to obtain the maximum yeild of fumaric on glucose. (Do not vary the flow rate) [$Y_{sf}~=~1.075$]"
   ]
  },
  {
   "cell_type": "markdown",
   "metadata": {},
   "source": [
    "o) Why is the production of ethanol under aerobic conditions unexpected?"
   ]
  }
 ],
 "metadata": {
  "kernelspec": {
   "display_name": "Python 3",
   "language": "python",
   "name": "python3"
  },
  "language_info": {
   "codemirror_mode": {
    "name": "ipython",
    "version": 3
   },
   "file_extension": ".py",
   "mimetype": "text/x-python",
   "name": "python",
   "nbconvert_exporter": "python",
   "pygments_lexer": "ipython3",
   "version": "3.7.3"
  }
 },
 "nbformat": 4,
 "nbformat_minor": 4
}
