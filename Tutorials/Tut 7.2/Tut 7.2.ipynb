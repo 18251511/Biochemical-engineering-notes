{
 "cells": [
  {
   "cell_type": "markdown",
   "metadata": {},
   "source": [
    "# A day in the life of a Bio-engineer\n",
    "### Reuben M. Swart"
   ]
  },
  {
   "cell_type": "markdown",
   "metadata": {},
   "source": [
    "In this tutorial you will be given a taste of what it is like to be a bio-engineer. The organism that you will be working with is *Rhizopus oryzae*. This organism is particularly interesting since it excretes fumaric acid in higher concentration than any other organism, natural or genetically modified. However it doesn't come without its problems. It has been found to be a Crabtree positive organism, meaning that it has a limited respiration potential and produces ethanol under fully aerobic conditions as a result. A Crabtree positive organism consumes glucose at a faster rate than its TCA cycle can accommodate, this excess carbon has to be depleted to avoid a build-up. This then leads to the production of ethanol as a sink for the excess glucose. However, it has been found that it is possible to avoid the production of ethanol by maintaining a low glucose concentration in the media and using a fed-batch approach to feed glucose. The findings of this study are detailed in this [paper](https://biotechnologyforbiofuels.biomedcentral.com/articles/10.1186/s13068-020-1664-8).  *R. oryzae* is heavily influenced by the concentration of nitrogen in the media. Nitrogen is essential for the production of biomass but fumaric acid is inhibited by the presence of nitrogen. If you look at the flux model below one can see that ATP is only consumed by the production of biomass or fumaric acid. Therefore the concentration of nitrogen in the media will control the direction of ATP as well as the usage of glucose."
   ]
  },
  {
   "cell_type": "markdown",
   "metadata": {},
   "source": [
    "For this tutorial you will not have access to the response function and the parameters such as µ, Θ or Km$_S$ will not be given. If required you will have to determine these parameters though analysing the response function with respect to the flux model which is given below. However α, ß, γ and PO are given as $0.1~mol~Cmol_X^{-1}$, $0.1~mol_{NADH}~Cmol_X^{-1}$, $2.5~mol_{ATP}~Cmol_X^{-1}$ and  $1.5~mol_{ATP}~mol_{O_2}^{-1}$. When looking at the production of fumaric acid there is an additional cost of **3 moles ATP per mole of fumaric acid** not shown on the flux model. (Important for the ATP balance) This is as a result of the cost of exporting the molecule out of the cell and into the broth."
   ]
  },
  {
   "cell_type": "markdown",
   "metadata": {},
   "source": [
    "<img src=\"RhozyMap.png\" width=\"500\"/>"
   ]
  },
  {
   "cell_type": "markdown",
   "metadata": {},
   "source": [
    "The code for the response function (**bug**) is in the Python file that you can download [here](https://nbviewer.jupyter.org/github/willienicol/Biochemical-engineering-notes/blob/master/Tutorials/Tut%207.2/rhozy_code.pyc) or if you are not working in Jupyter download [here](https://nbviewer.jupyter.org/github/willienicol/Biochemical-engineering-notes/blob/master/Tutorials/Tut%207.2/rhozy_code_38.pyc). The code is in a hidden formate that you will not be able to access directly, this simulates how a bio-engineer must perform experiments on an organism in order to understand its physiology. In order to import and use the function please see the code below. It is important that your Jupyter and Python is updated as the function will likely not import if you are running an older version. The function is coded to take in the concentrations (glucose, biomass, fumaric acid, ethanol, nitrogen), inlet flow rate, reactor volume and the inlet glucose feed concentration. Please take note of the Order of specifications shown in the code below. The function will then return the rates at the specified concentrations ($\\frac{Cmol}{Cmol_X~h}$). Pressing Shift + Tab next to the bug function will give you more info on the function and what the variables are. The following questions are to ensure that your fermenter equation is correct before you begin the design section."
   ]
  },
  {
   "cell_type": "code",
   "execution_count": 6,
   "metadata": {},
   "outputs": [],
   "source": [
    "\"\"\"Import modules\"\"\"\n",
    "from rhozy_code import bug #This is the import one\n",
    "# from rhozy_code_38 import bug #Depending on your version of python\n",
    "import numpy as np\n",
    "from scipy.integrate import odeint\n",
    "from matplotlib import pyplot as plt"
   ]
  },
  {
   "cell_type": "code",
   "execution_count": 7,
   "metadata": {},
   "outputs": [
    {
     "data": {
      "text/plain": [
       "(-0.4130434782608696,\n",
       " 0.09045680687471731,\n",
       " 0.0,\n",
       " 0.18620269221572727,\n",
       " -0.018091361374943465)"
      ]
     },
     "execution_count": 7,
     "metadata": {},
     "output_type": "execute_result"
    }
   ],
   "source": [
    "\"\"\" Time \"\"\"\n",
    "# Using a set number of increments per hour is useful to achieve smooth profiles without errors\n",
    "# If an error occurs during the integration try varying the number of increments, usually too few can cause an error.\n",
    "time = 25\n",
    "tspan = np.linspace(0,time,time*10 + 1)\n",
    "\n",
    "\"\"\" Initial parameters \"\"\"\n",
    "Cso,Cxo,Cfo,Ceo,Cno =  1, 0.1, 0, 0, 0.2  # Cmol/L (Cn is in mole nitrogen)\n",
    "V = 100  # L\n",
    "Q = 0.0 # L/h\n",
    "Csf,Cxf,Cff,Cef,Cnf = 0,0,0,0,0  # Cmol/L\n",
    "\n",
    "\"\"\" Response function\"\"\"\n",
    "bug([Cso,Cxo,Cfo,Ceo,Cno],Q,V,Csf) #This will return the rates at the conditions specified"
   ]
  },
  {
   "cell_type": "code",
   "execution_count": 8,
   "metadata": {},
   "outputs": [
    {
     "data": {
      "text/plain": [
       "'3.7.7 (default, May  6 2020, 11:45:54) [MSC v.1916 64 bit (AMD64)]'"
      ]
     },
     "execution_count": 8,
     "metadata": {},
     "output_type": "execute_result"
    }
   ],
   "source": [
    "import sys\n",
    "sys.version"
   ]
  },
  {
   "cell_type": "markdown",
   "metadata": {},
   "source": [
    "## Questions"
   ]
  },
  {
   "cell_type": "markdown",
   "metadata": {},
   "source": [
    "i) You will be conducting a batch fermentation where the main goal is the production of biomass. The initial concentrations are $50~g~L^{-1}$ glucose, $5~g~L^{-1}$ ammonium chloride and $1.23~g~L^{-1}$ *R. oryzae* biomass (assume the standard biomass formula). The volume of the reactor is 100 L for the batch fermentation but has a maximum capacity of 2000 L. Determine the time taken for the fermentation to reach completion. [24.85 h]"
   ]
  },
  {
   "cell_type": "markdown",
   "metadata": {},
   "source": [
    "<img src=\"Conc1.png\" width=\"450\"/>"
   ]
  },
  {
   "cell_type": "markdown",
   "metadata": {},
   "source": [
    "ii) Determine the net rate of $CO_2$ production. Explain the reason for the switch from production to consumption and the effect of this on the yield of fumaric acid.\n"
   ]
  },
  {
   "cell_type": "markdown",
   "metadata": {},
   "source": [
    "<img src=\"CO2.png\" width=\"450\"/>"
   ]
  },
  {
   "cell_type": "markdown",
   "metadata": {},
   "source": [
    "## Design"
   ]
  },
  {
   "cell_type": "markdown",
   "metadata": {},
   "source": [
    "You are tasked with designing a fermentation system to produce $50~g/L$ fumaric acid with *R. oryzae*, you are allowed to use batch or fed-batch fermentations. One replacement of the entire fermentation broth will be allowed (i.e. two fermentations are allowed). You will start with $123~g$ biomass to begin the fermentation. The boundaries of the design are as follows the range of allowable fermenter volumes are $100~L$ to $2000~L$, the highest glucose feed concentration is $570~g/L$ and you will be allowed any concentration of nitrogen. The end of the fermentation will be once the concentration of $50~g/L$ fumaric acid is achieved and thus all the parameters (volume, concentration, time) must correspond to the point where $50~g/L$ is reached. In order to evaluate your design the following equation will be used:\n",
    "\n",
    "$$ OF ~=~ 239.43 × Productivity × Yield_{Fumaric} ^2 × (1 - Yield_{Ethanol})^2$$"
   ]
  },
  {
   "cell_type": "markdown",
   "metadata": {},
   "source": [
    "Productivity has units of $\\frac{g_{Fumaric}}{L~h}$ and the yields have units of $\\frac{g_{Fumaric}}{g_{Glucose}}$ or $\\frac{g_{Ethanol}}{g_{Glucose}}$, respectively. In order to calculate the yield you will have to take into account the total amount of fumaric acid or ethanol produced and the total glucose used. For instance if you start a fermentation with X glucose and then feed Y glucose per hour for N hours, the total glucose will be X + Y × N. Productivity is calculated with the total amount of fumaric acid produced (g), the maximum size of fermenter used (L) and the total time of the fermentation (h). It will also be required that you report the net amount of $CO_2$ and $O_2$ consumed or produced for your fermentation.\n",
    "\n",
    "Good luck!"
   ]
  }
 ],
 "metadata": {
  "kernelspec": {
   "display_name": "Python 3",
   "language": "python",
   "name": "python3"
  },
  "language_info": {
   "codemirror_mode": {
    "name": "ipython",
    "version": 3
   },
   "file_extension": ".py",
   "mimetype": "text/x-python",
   "name": "python",
   "nbconvert_exporter": "python",
   "pygments_lexer": "ipython3",
   "version": "3.7.7"
  }
 },
 "nbformat": 4,
 "nbformat_minor": 4
}
