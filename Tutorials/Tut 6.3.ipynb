{
 "cells": [
  {
   "cell_type": "markdown",
   "metadata": {},
   "source": [
    "## Facultative anaerobes\n",
    "\n",
    "Some organisms like lactic acid bacteria and yeasts are able to survive under aerobic and anaerobic conditions. This implies that energy (ATP) can be generated form respiration (oxidative phosphorylation) or substrate level phosphorylation (ATP generation from the fermentative pathways). In the previous [section](https://nbviewer.jupyter.org/github/willienicol/Biochemical-engineering-notes/blob/master/6%20Modeling%20stoichiometry%20variations/Oxygen%20starvation%20in%20batch%20fermenters.ipynb) we have seen how growth is slow down by an oxygen limitation. In the example in this section the microbe has an alternative pathway to generate ATP (anaerobic) that can be used when the oxygen supply is limited. The microbe will thus attempt to maintain its growth rate ($\\mu$ factory) by generating the ATP without using oxygen. More detail is provided in the video.\n",
    "\n",
    "[Video: Lecture 17 Microbe suffocation](https://youtu.be/G5BEYfLWuBY)\n",
    "\n",
    "<img src=\"saccie.jpg\" width=\"450\" />\n",
    "\n",
    "\n",
    "_Pichia stipitis_ is a prime example of a facultative anaerobe. The metabolism of the organism is given by the following:\n",
    "\n",
    "<img src=\"etresp.png\" width=\"650\" />\n"
   ]
  },
  {
   "cell_type": "markdown",
   "metadata": {},
   "source": [
    "Note that the respiration flux is given as $r_2$.\n",
    "\n",
    "The following physiological parameters will be used:\n",
    "\n",
    "\n",
    "|$\\alpha \\qquad \\qquad$|$\\gamma \\qquad \\qquad $|$\\mu_{max} \\qquad$|$\\theta_{max}\\qquad$| $(P/O)$ $\\qquad \\qquad$\n",
    "|----|-|-|-|-\n",
    "|$\\frac{cmol\\,CO_2}{cmol \\, X}$|$\\frac{mol \\, ATP}{Cmol \\, X}$|$\\frac{1}{h}$|$\\frac{mol \\, ATP}{cmol\\,X\\cdot h}$|$\\frac{mol\\,ATP}{mol\\, O}$\n",
    "|0.05|2.3|0.25|0.15|1.5\n",
    "\n",
    "\n"
   ]
  },
  {
   "cell_type": "code",
   "execution_count": 1,
   "metadata": {},
   "outputs": [],
   "source": [
    "import numpy\n",
    "alpha, gamma, PO =0.05, 2.3, 1.5\n",
    "mumax, thetamax= 0.25, 0.15"
   ]
  },
  {
   "cell_type": "markdown",
   "metadata": {},
   "source": [
    "Let's assume the standard biomass formula of $CH_{1.8}O_{0.5}N_{0.2}$.\n",
    "\n",
    "The growth and maintenance functions are given below:\n",
    "\n",
    "$$\\mu=\\mu_{max}\\left[\\frac{Cs}{Km+Cs}\\right] \\left[1-\\frac{C_e}{C_e^*} \\right]$$\n",
    "\n",
    "$$\\theta=\\theta_{max}\\left[\\frac{Cs}{Km+Cs}\\right]$$\n",
    "\n",
    "Parameters are defined in the cell below:"
   ]
  },
  {
   "cell_type": "code",
   "execution_count": 2,
   "metadata": {
    "collapsed": true,
    "jupyter": {
     "outputs_hidden": true
    }
   },
   "outputs": [],
   "source": [
    "Cemax, Km= 2.5, 0.01"
   ]
  },
  {
   "cell_type": "markdown",
   "metadata": {},
   "source": [
    "The 'hidden' flux model is given as [Tut11_matrix.xlxs](https://github.com/willienicol/Biochemical-engineering-notes/blob/master/Tutorials/Tut11_matrix.xlsx). There is 4 fundamental equations for the 7 fluxes. The fourth equation (fourth row) represents the ATP balance and can be set equal to $\\theta$"
   ]
  },
  {
   "cell_type": "markdown",
   "metadata": {},
   "source": [
    "a) For questions a-f we will only work with the flux model (no integration required). Set up your own flux model and test against the supplied flux model. For anaerobic operation ($r_6=r_2=0$) the following should be obtained with $\\theta_{max}$ and $\\mu_{max} $ values:\n",
    "\n",
    "$$Gluc \\to 0.1026X + 0.594Et +0Glyc + 0.302CO_2 $$\n",
    "\n",
    "For full aerobic operation ($r_4=r_5=0$) the following should be obtained with $\\theta_{max}$ and $\\mu_{max} $ values:\n",
    "\n",
    "$$Gluc + 0.43 O_2 \\to 0.543X +0.456 CO_2$$\n",
    "\n",
    "(Answers were given on cmol basis while nitrogen source was ignored)"
   ]
  },
  {
   "cell_type": "markdown",
   "metadata": {},
   "source": [
    "b) For the answers above, what is $\\frac{-r_S^{aerobic}}{-r_S^{anaerobic}}$ and why?  [$0.189$]\n",
    "\n",
    "c) Determine $r_O$ for aerobic operation. [$0.198 \\frac{mol}{cmol \\, X \\cdot h}$]"
   ]
  },
  {
   "cell_type": "markdown",
   "metadata": {},
   "source": [
    "d) Specify $r_O =0.12 \\frac{mol}{cmol \\, X \\cdot h}$, assume zero glycerol formation while still using maximum energy generation ($\\theta_{max}$ and $\\mu_{max} $). Make sure you obtain the following:\n",
    "\n",
    "$$Gluc + 0.097 O_2 \\to 0.202X + 0.46Et +0Glyc + 0.337CO_2 $$\n",
    "\n",
    "We'll refer to the stoichiometry above as **partially aerobic.**\n",
    "\n",
    "The anaerobic pathway produces no glycerol (a) so the glycerol assumption is valid. Note that $r_O$ is smaller than the answer in (c). Specify the answer in (c) in the formulation and note that zero ethanol forms (without an ethanol specification).\n",
    "\n",
    "The partial aerobic stoichiometry represents a combination of respiration and ethanol formation. Ethanol was formed since the cell based oxygen supply ($r_O$) was not enough to obtain all the required ATP from respiration. \n",
    "\n",
    "Note that the total ATP requirement for all the scenarios above (aerobic, anaerobic and partially aerobic) is  $\\theta_{max}+\\gamma\\mu_{max}$ \n",
    "\n",
    "e) What fraction of ATP in (d) was generated via ethanol production? [39.3%]\n",
    "\n",
    "\n",
    "\n",
    "\n"
   ]
  },
  {
   "cell_type": "markdown",
   "metadata": {},
   "source": [
    "Note that we are not integrating yet! We do however understand that partial aerobic conditions will result in the accumulation of ethanol in the fermenter. We can see from the the growth function $\\mu=\\mu_{max}\\left[\\frac{Cs}{Km+Cs}\\right] \\left[1-\\frac{C_e}{C_e^*} \\right]$ that ethanol will reduce the value of $\\mu$. Consider this when answering the next question.\n",
    "\n",
    "f) **Without integrating**, determine the concentration of ethanol in the fermenter where ethanol production will terminate. Note that we assume that $r_O=0.12$ like in (d) at all times. [$1.24 \\frac{cmol}{L}$]"
   ]
  },
  {
   "cell_type": "markdown",
   "metadata": {},
   "source": [
    "g) You are now going to construct your own response function. Like in tutorial 10 you will calculate a maximum volumetric transfer rate of oxygen ($r_{O_2}^{mt_{max}}$) and use this value to determine where the response function switch from aerobic to partial aerobic. Normal aerobic respiration (with a constant $r_O$) will occur if the following condition is obeyed:\n",
    "\n",
    "$$r_{O}^{mt_{max}}>r_{O}\\cdot C_X$$\n",
    "\n",
    "As soon as this condition is violated, the specifications in the stoichiometric matrix need to change. An oxygen specification similar to tutorial 10 will be used. The only difference is that $\\mu$ will still be specified (note that ethanol in the fermenter will reduce $\\mu$) while ethanol formation will be allowed for.\n",
    "\n",
    "Use the following values for your integration:\n"
   ]
  },
  {
   "cell_type": "code",
   "execution_count": 3,
   "metadata": {
    "collapsed": true,
    "jupyter": {
     "outputs_hidden": true
    }
   },
   "outputs": [],
   "source": [
    "kla=180 #1/h\n",
    "Co_sat= 7/1000/32  #mol O2 per liter\n",
    "Cxo=0.005  #cmol/L\n",
    "Cso=7  #cmol/L"
   ]
  },
  {
   "cell_type": "markdown",
   "metadata": {},
   "source": [
    "Your answer should look something like this:\n",
    "\n",
    "<img src=\"tut11_ans.png\" width=\"650\" />"
   ]
  },
  {
   "cell_type": "markdown",
   "metadata": {},
   "source": [
    "Play around with the rates to examine the different phases of the fermentation.\n"
   ]
  },
  {
   "cell_type": "markdown",
   "metadata": {},
   "source": [
    "[Back to all tutorials](https://nbviewer.jupyter.org/github/willienicol/Biochemical-engineering-notes/blob/master/Tutorials/All%20tutorials.ipynb)"
   ]
  },
  {
   "cell_type": "code",
   "execution_count": null,
   "metadata": {
    "collapsed": true,
    "jupyter": {
     "outputs_hidden": true
    }
   },
   "outputs": [],
   "source": []
  }
 ],
 "metadata": {
  "kernelspec": {
   "display_name": "Python 3",
   "language": "python",
   "name": "python3"
  },
  "language_info": {
   "codemirror_mode": {
    "name": "ipython",
    "version": 3
   },
   "file_extension": ".py",
   "mimetype": "text/x-python",
   "name": "python",
   "nbconvert_exporter": "python",
   "pygments_lexer": "ipython3",
   "version": "3.7.3"
  }
 },
 "nbformat": 4,
 "nbformat_minor": 4
}
