{
 "cells": [
  {
   "cell_type": "markdown",
   "metadata": {},
   "source": [
    "## Tutorial 6\n",
    "\n",
    "The **aerobic** 1,3 propanediol (PDO) example discussed in [tutorial 3](https://nbviewer.jupyter.org/github/willienicol/Biochemical-engineering-notes/blob/master/Tutorials/Tut%203.ipynb) has the following metabolic network. Note that the DHAP carbon that is not used for PDO proceeds to the remainder of glycolysis and the TCA cycle.  \n",
    "\n",
    "<img src=\"pdomap.png\" width=\"450\" />\n",
    "\n",
    "\n",
    "Assume NADH, NADPH and FADH  equivalence. The following is known about the modified _E.coli_ strain:\n",
    "\n",
    "\n",
    "|$\\alpha \\qquad \\qquad$|$\\gamma \\qquad \\qquad $|$\\mu \\qquad$|$\\theta\\qquad$|$P/O$\n",
    "|----|-|-|-|-|-\n",
    "|$\\frac{\\text{cmol $CO_2$}}{\\text{cmol X}}$|$\\frac{\\text{mol ATP}}{\\text{cmol X}}$|$\\frac{1}{\\text{h}}$|$\\frac{\\text{mol ATP}}{\\text{cmol X}\\cdot \\text{h}}$| $\\frac{\\text {mol ATP}}{\\text {mol NADH} }$\n",
    "|0.1|-|0.15|0.02|1.5\n"
   ]
  },
  {
   "cell_type": "markdown",
   "metadata": {},
   "source": [
    "a) Determine the values of w, x, y and z.\n",
    "\n",
    "b) Determine the rate of oxygen addition using a cmol X basis. Use the answers of tut 3. [0.12 $\\frac{\\text{mol $O_2$}}{\\text{cmol X}\\cdot \\text{h}}$]\n",
    "\n",
    "c) Determine the value of $\\gamma$ that wil result in the tut 3 answers. [2.104 $\\frac{\\text{mol ATP}}{\\text{cmol X}}$]\n",
    "\n",
    "d) If the oxygen uptake rate increases to 0.18 $\\frac{\\text{mol $O_2$}}{\\text{cmol X}\\cdot \\text{h}}$, what will the biomass yield on substrate be? [0.036 $\\frac{\\text{cmol X}}{\\text{cmol S}}$]\n",
    "\n",
    "\n",
    "\n"
   ]
  },
  {
   "cell_type": "markdown",
   "metadata": {},
   "source": [
    "To test your answer, use the 4 equations supplied in the following [Excel file](https://github.com/willienicol/Biochemical-engineering-notes/blob/master/Tutorials/Tut%206%20matrix.xlsx) (just press download). These 4 equations represent the carbon, NADH and ATP balance ($4^{th}$ row). Note that the ATP balance is equal to $\\theta$ in $\\frac{\\text{mol ATP}}{\\text{cmol X}\\cdot \\text{h}}$, while the other equations are equal to zero. Two additional equations are required to solve for all the rates. \n",
    "\n",
    "Matrices will often be supplied in tests and exams in order to continue with questions when your own stoichiometric matrix is incorrect. Note that the **Pandas** tool can be used to pull the matrix into Python (see [section 4.3](https://nbviewer.jupyter.org/github/willienicol/Biochemical-engineering-notes/blob/master/4%20Stoichiometry%20that%20includes%20internal%20reactions/TCA%20cycle%20and%20oxidative%20phosphorylation.ipynb)).\n",
    "\n"
   ]
  },
  {
   "cell_type": "markdown",
   "metadata": {},
   "source": [
    "[Back to all tutorials](http://localhost:8888/notebooks/Dropbox/1_CBI%20310/2017/Tutorials/All%20tutorials.ipynb)"
   ]
  },
  {
   "cell_type": "code",
   "execution_count": null,
   "metadata": {
    "collapsed": true
   },
   "outputs": [],
   "source": []
  }
 ],
 "metadata": {
  "kernelspec": {
   "display_name": "Python 3",
   "language": "python",
   "name": "python3"
  },
  "language_info": {
   "codemirror_mode": {
    "name": "ipython",
    "version": 3
   },
   "file_extension": ".py",
   "mimetype": "text/x-python",
   "name": "python",
   "nbconvert_exporter": "python",
   "pygments_lexer": "ipython3",
   "version": "3.5.1"
  }
 },
 "nbformat": 4,
 "nbformat_minor": 0
}
