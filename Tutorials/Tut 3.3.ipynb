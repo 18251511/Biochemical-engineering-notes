{
 "cells": [
  {
   "cell_type": "markdown",
   "metadata": {},
   "source": [
    "### Tutorial 3.3\n",
    "\n",
    "The production of 1,3 propanediol (PDO) by the company DuPont is one of the success stories of bioproduction of polymer intermediates on a bulk scale. Read on the polymer [SORONA](http://www.dupont.com/products-and-services/fabrics-fibers-nonwovens/fibers/brands/dupont-sorona/articles/how-dupont-sorona-is-made.html) for some background on the process and final product.\n",
    "\n",
    "<img src=\"pdo.jpg\" width=\"900\" />\n",
    "\n",
    "PDO is a natural metabolic product when _Klebsiella pneumonica_ grows on glycerol as substrate. DuPont opted for glucose as feedstock and engineered _Escherichia coli_ to aerobically convert glucose into PDO.\n",
    "\n",
    "A batch fermentation was performed where 160 g/L of glucose was converted in 72 hours. The batch fermenter is equipped with an off-gas analyser of the sparged air where $O_2$ and $CO_2$ is analysed. It was determined that 55 liter of O2 was consumed while 190 liters of CO2 was produced during the fermentation run. The run was performed at sea level using a 5 liter fermenter/bioreactor. Off-gas was analysed at 25C. \n",
    "\n",
    "The overall reaction utilises glucose, ammonia and oxygen as feed. Assume that apart from PDO and biomass, no by-products are formed except water and $CO_2$. It is further given that the _E.coli_ can be described by $CH_{1.91}O_{0.48}N_{0.22}$. \n",
    "\n",
    "a) What is the final concentration (titre) of PDO in the reactor?\n",
    "\n",
    "\n"
   ]
  },
  {
   "cell_type": "markdown",
   "metadata": {
    "collapsed": true
   },
   "source": [
    "[Back to all tutorials](https://nbviewer.jupyter.org/github/willienicol/Biochemical-engineering-notes/blob/master/Tutorials/All%20tutorials.ipynb)"
   ]
  },
  {
   "cell_type": "code",
   "execution_count": null,
   "metadata": {
    "collapsed": true
   },
   "outputs": [],
   "source": []
  }
 ],
 "metadata": {
  "kernelspec": {
   "display_name": "Python 3",
   "language": "python",
   "name": "python3"
  },
  "language_info": {
   "codemirror_mode": {
    "name": "ipython",
    "version": 3
   },
   "file_extension": ".py",
   "mimetype": "text/x-python",
   "name": "python",
   "nbconvert_exporter": "python",
   "pygments_lexer": "ipython3",
   "version": "3.7.6"
  }
 },
 "nbformat": 4,
 "nbformat_minor": 1
}
