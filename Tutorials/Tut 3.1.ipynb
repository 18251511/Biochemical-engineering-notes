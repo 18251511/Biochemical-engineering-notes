{
 "cells": [
  {
   "cell_type": "markdown",
   "metadata": {},
   "source": [
    "## Tutorial 3.1\n",
    "\n",
    "<img src=\"succi1.jpg\" width=\"750\" />\n",
    "\n",
    "The photo above shows a microscopic image of the rumen bacterium _Actinobacillus succinogenes_. The photo was taken from work performed by PhD student Sekgetho Mokwatlo. Click [here](https://www.sciencedirect.com/science/article/abs/pii/S1369703X17302401) to see the paper.\n",
    "\n",
    "_A. succinogenes_ consumes glucose anaerobically to produce biomass, succinic and acetic acid when $NH_3$ is used as nitrogen source. Carbon dioxide can be a reagent or product in this reaction, while water is formed as product. You can assume the standard elemental composition for the biomass.\n",
    "\n",
    "It was determined from a fermentation run that the acetic acid yield was 0.19 $\\frac{g \\,AA}{g \\, Gluc}$ and the biomass yield 0.0656 $\\frac{g \\,X}{g \\, Gluc}$\n",
    "\n",
    "a)\tDetermine the mass based yield of succinic acid on glucose. [0.816 $\\frac{g}{g}$]\n",
    "\n",
    "b) The yield data given above was taken from a batch fermentation run that lasted 52 hours. 120 $\\frac{g}{L}$ of glucose was used at the start and after 52 hours all was consumed. Determine the concentration of cells and acetic acid at the end of the fermentation run. Give answers in $\\frac{g}{L}$ and $\\frac{cmol}{L}$.\n",
    "\n",
    "\n",
    "c) For the rest of this question we'll be working with the average rates that ocurred over the 52 hour period. Note that we can use average rates and instantaneous rates when performing mass balances. Determine the liters of $CO_2$ that formed at Pretoria atmospheric conditions (25 C) if the fermenter had a constant volume of 10 liters.\n",
    "\n",
    "d) How was the biomass concentration measured at the end of the run?\n",
    "\n",
    "e) Organic acids are analysed with an [HPLC](https://en.wikipedia.org/wiki/High-performance_liquid_chromatography) and apart from the acetic acid concentration the succinic acid can also be determined. Sekgetho determined the succinic acid concentration to be 94.6 $\\frac{g}{L}$ at the end of the run. By using only biomass and the two acids in your mass balance equations, determine the amount of glucose consumed in $\\frac{g}{L}$. Note that the fermenter volume remained constant at all times. Any comments from your side?\n",
    "\n",
    "f) If you replace the biomass measurement with the the glucose measurement in your matrix, how much biomass gets formed on a mass basis? How does this compare to the measurement?\n",
    "\n",
    "g) Any ideas on consolidating the overspecified system?\n",
    "\n",
    "\n",
    "\n"
   ]
  },
  {
   "cell_type": "markdown",
   "metadata": {
    "collapsed": true
   },
   "source": [
    "[Back to all tutorials](https://nbviewer.jupyter.org/github/willienicol/Biochemical-engineering-notes/blob/master/Tutorials/All%20tutorials.ipynb)"
   ]
  },
  {
   "cell_type": "code",
   "execution_count": null,
   "metadata": {
    "collapsed": true
   },
   "outputs": [],
   "source": []
  }
 ],
 "metadata": {
  "kernelspec": {
   "display_name": "Python 3",
   "language": "python",
   "name": "python3"
  },
  "language_info": {
   "codemirror_mode": {
    "name": "ipython",
    "version": 3
   },
   "file_extension": ".py",
   "mimetype": "text/x-python",
   "name": "python",
   "nbconvert_exporter": "python",
   "pygments_lexer": "ipython3",
   "version": "3.7.6"
  }
 },
 "nbformat": 4,
 "nbformat_minor": 1
}
