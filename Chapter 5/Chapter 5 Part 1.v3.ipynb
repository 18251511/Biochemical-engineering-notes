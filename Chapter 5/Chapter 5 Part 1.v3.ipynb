{
 "metadata": {
  "kernelspec": {
   "display_name": "Python 3",
   "language": "python",
   "name": "python3"
  },
  "language_info": {
   "codemirror_mode": {
    "name": "ipython",
    "version": 3
   },
   "file_extension": ".py",
   "mimetype": "text/x-python",
   "name": "python",
   "nbconvert_exporter": "python",
   "pygments_lexer": "ipython3",
   "version": "3.5.1"
  },
  "name": ""
 },
 "nbformat": 3,
 "nbformat_minor": 0,
 "worksheets": [
  {
   "cells": [
    {
     "cell_type": "markdown",
     "metadata": {},
     "source": [
      "# Chapter 5: Metabolic Flux Analysis\n",
      "\n",
      "\n",
      "\n",
      "\n",
      "<img src=\"MFA.jpg\" width=\"550\" />\n",
      "\n",
      "In this chapter we will have a closer look at the metabolic pathways whereby useful chemicals are formed. Proper knowledge of glycolysis, TCA cycle, fermentative pathways and respiration are required (chapter 3). The term central carbon metabolism if often used to describe the catabolism where sugar substrates like glucose is converted into catabolites. The catabolites often contains a carbon backbone and thus the interest for the chemical engineer.\n",
      "\n",
      "Chapter 4 focussed on overall balances where chemicals transported into the cell (like glucose, a nitrogen source and oxygen) was balanced with the excretion products from the cell. The overall biochemical reaction was broken down into an anabolic and catabolic half reaction where the ATP produced in one half reaction was consumed in the other half reaction. The result was that zero ATP was present the overall reaction which should be the case since the net production rate of ATP should be zero. Exactly the same applies for NADH although the half reactions in chapter 4 were chosen to be redox neutral (no NADH in half reaction) for simplicity and for illustrating the ATP balance on its own. In reality the anabolism often generates small amounts of NADH that need to be consumed by the catabolism.\n",
      "\n",
      "In this chapter we will closely examine the catabolic pathways. The idea is to follow the carbon atoms from glucose as it gets distributed through various metabolic routes. The carbon \u2018steams\u2019 will be referred to as fluxes ($v$) and can be visualised as steady state reaction rates of intracellular metabolites. All fluxes will be expressed relative to the incoming substrate (glucose) flux. Accordingly fluxes will be relative and dimensionless numbers. The per carbon (cmol) basis will be exclusively used to describe the fluxes. The fluxes will be linked to the yield coefficients of chapter 4 by assigning an incoming substrate flux of 1 cmol. Accordingly the fluxes of the excretion products will be exactly the same as the chapter 4 yield coefficients. This chapter deals exclusively with the distribution of carbon within the cell. In chapter 6 the distribution characteristics will be linked to formation or depletion rates within the fermenter.\n",
      "\n",
      "Chapter 5 can be seen as an extension of chapter 4. The goal is to obtain yield coefficients! It will become clear that this chapter provides an alternative and easier method for obtaining yield coefficients and that less specifications (measurements) will be required to solve for the unknown yields. Keep this in mind when you struggle through your tutorials. In addition to obtaining yield coefficients insight will also be gained into the internal metabolic fluxes and carbon distribution.\n"
     ]
    },
    {
     "cell_type": "markdown",
     "metadata": {},
     "source": [
      "## 5.1 Main fermentative pathways\n",
      "\n",
      "Life without oxygen is hard, but not impossible. After all, life on earth managed for almost 2 billion years without oxygen and aerobic respiration. Today numerous organisms are able to generate energy by substrate level phosphorylation, even human muscle cells use this when oxygen is scarce. The main routes for substrate level phosphorylation from glucose can be seen in the figure below, also known as the fermentative pathways. Although other anaerobic pathways exist (as will be evident from examples and tuts) these are the most prominent fermentation products. Note that except for acetate production, all ATP is generated in glycolysis. Most metabolic maps in literature are given on a molar basis like the one below. In this chapter the mol based metabolic map will be converted to a cmol based map.\n",
      "\n",
      "\n",
      "<img src=\"ferm_path_mol.png\" width=\"550\" />\n",
      "\n",
      "\n",
      "***Main catabolic pathways under anaerobic conditions.*** *The idea of the simplified map is to show the redox (NADH formation or usage) and energy (ATP formation or usage) steps in the catabolic pathway. Accordingly multiple enzymatic steps are lumped in sections of the diagram. All ATP and NADH are given as mol per mol of substrate except for glucose where only a half a mol was considered (as a result of the C3-C3 split in glycolysis). Direction of ATP/NADH arrow indicates consumption/formation. Note that pyruvate (Pyr) oxidation proceeds via two routes to Acetyl-CoA (AcCoA). In the first route on the left side CO2 and NADH are formed as co-products (via the enzyme pyruvate dehydrogenase PDH). In the second route on the right side only formate (For) are formed as co-product (via the enzyme pyruvate formate lyase PFL). Abbreviations used: Glu (glucose), DHAP (dihydroxyacetone phosphate), Gly (glycerol), Pyr (pyruvate), Lac (lactate), For (formate), AcAld (acetaldehyde), AcCoA (acetyl-CoA), Et (ethanol), Ace (acetate)* \n",
      "\n",
      "Have a close look at the figure and confirm the following observations:\n",
      "\n",
      "*\tThe overall route to lactate is redox neutral while a mole of ATP is generated\n",
      "*\tThe overall route to ethanol is redox neutral if the PDH pathway is taken (two moles of NADH generated and two moles of NADH consumed)\n",
      "*\tThe overall route to ethanol requires a mole of NADH if the PFL route is taken\n",
      "*\tThe overall route to ethanol generates a mole of ATP irrespective of the pyruvate oxidation route\n",
      "*\tFormate cannot form as standalone product since acetyl-CoA will always form in parallel\n",
      "*\tThe overall route to acetate generates a mole of NADH and two moles of ATP\n",
      "*\tGlycerol formation requires a mole of ATP and a mole of NADH\n",
      "*\tAcetaldehyde formation is redox neutral if the PFL route is taken while a mole of ATP is generated in the overall route\n",
      "*\tNote the lumping of multiple enzymatic steps for glycolysis\n"
     ]
    },
    {
     "cell_type": "markdown",
     "metadata": {},
     "source": [
      "## 5.2 The cmol pathway map\n",
      "\n",
      "In a similar manner to chapter 4, we\u2019ll use cmol instead of moles for analysing metabolic pathways. Like before this will aid the inclusion of biomass into the description. To get acquainted to the cmol pathway map we\u2019ll convert the main fermentative pathway map given above. The following figure shows the converted map.\n",
      "\n",
      "<img src=\"ferm_path_cmol.png\" width=\"550\" />\n",
      "\n",
      "You will see that it looks very similar. The 3 carbon reduction of glucose (0.5xGlucose in the original map) is not required anymore since we are considering only the flux of carbon atoms (with whatever H,O and N is attached to them). Note that the H,O and N attachments represents the average from the molecule and not the specific attachments from a specific atom. For example, in lactic acid all carbon atoms will be considered to be attached to two hydrogens and one oxygen, although there is a specific carbon in lactic acid that is not attached to oxygen at all. Try and visualise cmols (carbon atoms with their averaged attachments) \u2018flowing\u2019 through the metabolic network and \u2018choosing\u2019 an outlet streams at the branch points. All carbon atoms originates from glucose and will exit in one of the excretion (terminal) products. The aim of this chapter is to calculate the distribution of carbon through the various possible routes.\n",
      "\n",
      "You will see that all redox (NADH addition or formation) and energy (ATP addition or formation) interactions are expressed relative to one cmol fluxing. Take for example the NADH generated form glycolysis (between DHAP and pyruvate). One mol of NADH is formed per $C_3$ molecule fluxing through the pathway, accordingly $\\frac{1}{3}$ mol of NADH is formed per cmol. Also note that the averaged attachment to carbon is changing when redox interactions occur. From glucose to pyruvate $\\frac{1}{3}$ of NADH is formed, or $2\\times\\frac{1}{3}$ hydrogens is released from the fluxing cmol, thus pyruvate has a cmol formula of $CH_{\\frac{4}{3}}O$ compared to the $CH_2O$ of glucose. For ATP generation or usage the cmol formula won\u2019t alter, only the energy state of cmol fluxing. Take the example of acetic acid formation where one mole of ATP is formed per mol of acetic acid. Given the two carbons in acetic acid we have $\\frac{1}{2}$ mol of ATP per cmol fluxing. \n",
      "\n",
      "Sometimes there is more than one option when assigning NADH or ATP. A prime example of this is where pyruvate get oxidised via pyruvate dehydrogenase (left option on figure above). In this enzymatic step $CO_2$ is released while NADH is formed. All of this occurs in a single enzymatic step and a decision have to be made with regards to what stream (or flux) the NADH will be associated with. From a molar perspective it is known that one mole of NADH is formed in the reaction, accordingly one can say that $\\frac{1}{3}$ mol of NADH is formed per pyruvate fluxing or a $\\frac{1}{2}$ mole of NADH is formed per acetyl-CoA fluxing. Note that the DOR of acetyl-CoA is 4, one only consider the two carbons that remains from pyruvate (it can be represented by $CHO_{\\frac{1}{2}}$).\n",
      "\n",
      "<img src=\"PDH.png\" width=\"400\" />\n",
      "\n",
      "You will note that all the fluxes are numbered. The convention is to use $v$ for flux. The glucose flux ($v_G$ or $v_S$) will always be assigned a reference (basis) value of 1.The following simple relationships should be evident based on the known reactions and their carbon splits (see figures above):\n",
      "\n",
      "$$v_5^{''}=\\frac{2}{3}v_5\\quad v_4^{''}=\\frac{2}{3}v_4\\quad  \n",
      "v_5^{'}=\\frac{1}{3}v_5\\quad v_4^{'}=\\frac{1}{3}v_4\\quad$$\n",
      "\n",
      "Also note that that the cmol flux does not change if carbon is not split off or joined. The \u2018attachments\u2019 will change if there is redox reactions, but the carbon flux will remain.\n",
      "\n",
      "<img src=\"Acetyl_to_ethanol.png\" width=\"400\" />\n",
      "\n",
      "Remember two hydrogens in a NADH, so 1 hydrogen in \u00bd NADH.\n",
      "\n",
      "\n"
     ]
    },
    {
     "cell_type": "markdown",
     "metadata": {
      "collapsed": true
     },
     "source": [
      "## 5.3 Integrated anabolism and catabolism\n",
      "\n",
      "At the end of chapter 4 it was illustrated how the ATP generated form the catabolism was directly used in the anabolism so that a net build-up of ATP does not occur. The anabolism (and catabolism) in these examples were chosen to be redox neutral, only to simplify the illustration. Have a look again at the overall anabolic equation:\n",
      "\n",
      "$$(1+\u03b1)CH_2 O+Y_{XN} NH_3+\u03b3ATP\u2192CH_{1.9} H_{0.5} N_{0.2}+\u03b1CO_2+\u03b2NADH + Y_{XW}H_2O$$\n",
      "\n",
      "In most cases $\\alpha$ won\u2019t be zero, values around 0.1 is more realistic. This will result in a positive $\\beta$ value. Given that NADH (like ATP) cannot accumulate in a cell, the excess NADH from the anabolism have to be consumed by the catabolism. In order to fully integrate ATP/NADH consumption and production, the overall anabolism should be incorporated into the cmol metabolic flux diagram. Given the fermentative pathway example above the following can be generated.\n",
      "\n",
      "<img src=\"ferm_path_withX.png\" width=\"550\" />\n",
      "\n",
      "The glucose required for the anabolism is split off right at the start so that $v_2$ is the carbon flux to the catabolism. Note that the fluxes was renumbered above. We are now ready to set up the flux model. This is a straightforward action once the cmol metabolic map is set up, but one has to work with absolute precision since no mistakes can be allowed for. \n"
     ]
    },
    {
     "cell_type": "markdown",
     "metadata": {},
     "source": [
      "## 5.4 First metabolic flux example\n",
      "\n",
      "We\u2019ll stick to the fermentative pathways but we\u2019ll reduce some of the possible fluxes in order to keep the formulation small. Let\u2019s consider the following:\n",
      "\n",
      "<img src=\"example1.png\" width=\"550\" />\n",
      "\n",
      "Note that the whole flux model is given next to the pathway map for ease of reading. The model is straightforward. The first four equations describe the carbon splits. Equation 5 relates the cmol split when formic acid is formed (remember the pyruvate ($C_3$) splitting into formic acid ($C_1$) and acetyl-CoA ($C_2$)). Equations 6 and 7 balances the NADH and ATP ensuring a net zero production of both. Note that we have 7 linear equations, but we need to solve for 8 fluxes, so one specification will be required. \n",
      "\n",
      "The formulation is very similar to the set of linear equations generated in chapter 4. We can also employ the matrix formulation to solve this set of linear equations:\n",
      "\n",
      "$$\\begin{bmatrix}\n",
      "&v_1&v_2&v_3&v_4&v_5&v_6&v_7&v_8\\\\\n",
      "eq_1 &(1+\\alpha)  &1 &\t0&\t0&\t0&\t0&\t0&0\\\\\n",
      "eq_2 & 0\t&1\t&-1\t&-1\t&0\t&0\t&0\t&0\\\\\n",
      "eq_3 & 0&\t0&\t0&\t1&\t-1&\t-1&\t0&\t0\\\\\n",
      "eq_4 & 0&\t0&\t0&\t0&\t0&\t1&\t-1&\t-1\\\\\n",
      "eq_5 & 0&\t0&\t0&\t0&\t0&\t-\\frac{1}{3} &\t1&\t0\\\\\n",
      "eq_6 & \\beta &\t0&\t-\\frac{1}{3} &\t\\frac{1}{3} &\t-\\frac{1}{3} &\t0&\t0&\t0\\\\\n",
      "eq_7 & -\\gamma &\t-\\frac{1}{3} &\t0 &\t\\frac{2}{3} &\t0&\t0&\t0&\t\\frac{1}{2}\\\\\n",
      "eq_8 & 0&\t0&\t0&\t0&\t1&\t0&\t0&\t0\\end{bmatrix}\n",
      "\\times\\begin{bmatrix}\n",
      "v_1\\\\v_2\\\\v_3\\\\v_4\\\\v_5\\\\v_6\\\\v_7\\\\v_8\\end{bmatrix}\n",
      "=\\begin{bmatrix}1\\\\0\\\\0\\\\0\\\\0\\\\0\\\\0\\\\0.28\\end{bmatrix}$$\n",
      "\n",
      "Note that lactic acid ($v_5$) was specified to be 0.28 $\\frac{cmol\\, Lac}{cmol\\,  Gluc}$. This becomes equation number 8. One has to be careful not to specify a linear dependant equation. An example of this will be the following:\n",
      "<img src=\"linear_dep.png\" width=\"650\" />\n",
      "We can now solve the system of linear equations in Python. We'll use the average value of $\\alpha=0.1 \\frac{cmol\\, CO_2}{cmol\\, X}$. Given this specification we can solve for $\\beta=0.1$ if we take the generic biomass formula of $CH_{1.8}O_{0.5}N_{0.2}$ (remember chapter 4 part 3). We further define a $\\gamma$ value of 1.8  $\\frac{mol\\,ATP}{cmol\\, X}$ \n"
     ]
    },
    {
     "cell_type": "code",
     "collapsed": false,
     "input": [
      "import numpy\n",
      "S = numpy.matrix([[1.1,1,0,0,0,0,0,0],\n",
      "[0,1,-1,-1,0,0,0,0],\n",
      "[0,0,0,1,-1,-1,0,0],\n",
      "[0,0,0,0,0,1,-1,-1],\n",
      "[0,0,0,0,0,-1/3,1,0],\n",
      "[0.1,0,-1/3,1/3,-1/3,0,0,0],\n",
      "[-1.8,-1/3,0,2/3,0,0,0,0.5],\n",
      "[0,0,0,0,0,2,-2,-2],\n",
      "],dtype=float)\n",
      "\n",
      "from numpy.linalg import matrix_rank\n",
      "a=matrix_rank(S) \n",
      "a"
     ],
     "language": "python",
     "metadata": {},
     "outputs": [
      {
       "metadata": {},
       "output_type": "pyout",
       "prompt_number": 5,
       "text": [
        "7"
       ]
      }
     ],
     "prompt_number": 5
    },
    {
     "cell_type": "code",
     "collapsed": false,
     "input": [
      "C = numpy.matrix([[1,0,0,0,0,0,0,0.28]]).T\n",
      "Y = numpy.linalg.solve(S,C)\n",
      "Y"
     ],
     "language": "python",
     "metadata": {},
     "outputs": [
      {
       "metadata": {},
       "output_type": "pyout",
       "prompt_number": 7,
       "text": [
        "matrix([[ 0.1       ],\n",
        "        [ 0.89      ],\n",
        "        [ 0.32      ],\n",
        "        [ 0.57      ],\n",
        "        [ 0.28      ],\n",
        "        [ 0.29      ],\n",
        "        [ 0.09666667],\n",
        "        [ 0.19333333]])"
       ]
      }
     ],
     "prompt_number": 7
    },
    {
     "cell_type": "markdown",
     "metadata": {},
     "source": [
      "## 5.5 Consolidation with the overall *black box*  balance\n",
      "\n",
      "The metabolic flux model and the *black box* model from chapter 4 should always result in exactly the same answers. It is important to realise that the excretion fluxes is exactly equivalent to the yield coefficients. For the example above the following will hold\n",
      "\n",
      "$$Y_{SX}=\\frac{v_1}{v_G} \\quad  Y_{SGly}=\\frac{v_3}{v_G} \\quad Y_{SAce}=\\frac{v_8}{v_G}$$\n",
      "\n",
      "\n",
      "It is a useful exercise to test the answers from the flux model with the overall balance. Since the ATP balance is not part of the *black box* calculation the flux model will require one less specification due to the extra ATP equation (or balance). The *black box* balance will thus have a higher degree of freedom, at least one more than the flux model and for some scenarios more than one.\n",
      "<img src=\"box_vs_mfa.png\" width=\"550\" />\n",
      "\n",
      "Let\u2019s take the example above and perform a *black box* balance. Including $NH_3$, water and $CO_2$ there will be 9 components. Given 4 elemental balances and the basis yield of glucose, 4 specifications will be required (as opposed to the one specification in the flux model above).  The 4 degrees of freedom for the *black box*  balance can be reduced if the stoichiometric properties of the metabolism is known. Given the metabolism it should be evident that the formic acid cmol yield (or flux) will always be half of the acetic acid yield. If this is known the degree of freedom of the *black box* is reduced to 3. In addition the amount of $CO_2$ that formed is linked to the amount of biomass that formed via the $\\alpha$ specification (for the specific example since no other $CO_2$ is formed in the metabolism). This reduces the degree of freedom of the *black box* to 2, one more than that of the flux model. Let\u2019s see if the two models correspond if we use one of the calculated fluxes (or yields) from the flux model as specification in the *blck box* formulation: \n"
     ]
    },
    {
     "cell_type": "code",
     "collapsed": false,
     "input": [
      "# Order of components: Gluc NH3 X Gly Lac For Ace CO2 H20\n",
      "\n",
      "S2 = numpy.matrix([[1,0,1,1,1,1,1,1,0],\n",
      "[2,3,1.8,8/3,2,2,2,0,2],\n",
      "[1,0,0.5,1,1,2,1,2,1],\n",
      "[0,1,0.2,0,0,0,0,0,0],\n",
      "[1,0,0,0,0,0,0,0,0],\n",
      "[0,0,0,0,0,1,-1/2,0,0],   #acetic/formic stoiciometry\n",
      "[0,0,0,0,0,0,0,1,0],\n",
      "[0,0,0,0,1,0,0,0,0],\n",
      "[0,0,1,0,0,0,0,0,0],\n",
      "],dtype=float)\n",
      "\n",
      "# Specifications\n",
      "\n",
      "Ysx=0.1; # from flux model above\n",
      "Ysc=0.1*0.1; # Ysc=Ysx*Yxc\n",
      "Yslac=0.28; # from flux model specification\n",
      "\n",
      "C2 = numpy.matrix([[0,0,0,0,-1,0,Ysc,Yslac,Ysx]]).T  \n",
      "Y2 = numpy.linalg.solve(S2,C2)\n",
      "Y2\n"
     ],
     "language": "python",
     "metadata": {},
     "outputs": [
      {
       "metadata": {},
       "output_type": "pyout",
       "prompt_number": 10,
       "text": [
        "matrix([[-1.        ],\n",
        "        [-0.02      ],\n",
        "        [ 0.1       ],\n",
        "        [ 0.32      ],\n",
        "        [ 0.28      ],\n",
        "        [ 0.09666667],\n",
        "        [ 0.19333333],\n",
        "        [ 0.01      ],\n",
        "        [-0.05666667]])"
       ]
      }
     ],
     "prompt_number": 10
    },
    {
     "cell_type": "markdown",
     "metadata": {},
     "source": [
      "#### Have a close look, the answers are exactly the same! We have effectively perform an independent check. We are good to go! \n",
      "\n",
      "<img src=\"verified.jpg\" width=\"550\" />"
     ]
    },
    {
     "cell_type": "code",
     "collapsed": true,
     "input": [],
     "language": "python",
     "metadata": {},
     "outputs": [],
     "prompt_number": null
    }
   ],
   "metadata": {}
  }
 ]
}
