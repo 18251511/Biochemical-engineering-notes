{
 "cells": [
  {
   "cell_type": "markdown",
   "metadata": {},
   "source": [
    "## 5.7 More examples\n",
    "\n",
    "Let's consider the production of succinic acid (SA) with a modified _E.coli_ strain. The metabolic network and model are given below:\n",
    "\n",
    "<img src=\"Ecoli_SA.png\" width=\"850\" />\n",
    "\n",
    "Note that the TCA cycle is operating in reverse on the $C_4$ section of the cycle. The $CO_2$ formation steps in the cycle are irreversible and thus the reverse TCA flux cannot continue beyond succinyl-CoA. This reverse flux is often referred to as the reductive TCA branch, while the normal 'clockwise' TCA flux is referred to as the oxidative route. Make sure that you can derive the given flux model yourself.\n",
    "\n",
    "For this example the stoichiometric matrix was constructed in Excel. This is helpful since the columns are always in line. The first sheet of the file (SA_example.xlsx) looks like this:\n",
    "\n",
    "<img src=\"xcel_snippet.png\" width=\"650\" />\n",
    "\n",
    "The import tool will have the following command and will always import from the first sheet. Note the first row and column (in peach) is not imported:\n"
   ]
  },
  {
   "cell_type": "code",
   "execution_count": 1,
   "metadata": {
    "collapsed": false
   },
   "outputs": [
    {
     "data": {
      "text/html": [
       "<div>\n",
       "<table border=\"1\" class=\"dataframe\">\n",
       "  <thead>\n",
       "    <tr style=\"text-align: right;\">\n",
       "      <th></th>\n",
       "      <th>1</th>\n",
       "      <th>2</th>\n",
       "      <th>3</th>\n",
       "      <th>4</th>\n",
       "      <th>5</th>\n",
       "      <th>6</th>\n",
       "      <th>7</th>\n",
       "      <th>8</th>\n",
       "      <th>9</th>\n",
       "      <th>10</th>\n",
       "    </tr>\n",
       "  </thead>\n",
       "  <tbody>\n",
       "    <tr>\n",
       "      <th>1</th>\n",
       "      <td>1.1</td>\n",
       "      <td>1.000000</td>\n",
       "      <td>0.0</td>\n",
       "      <td>0.00</td>\n",
       "      <td>0.0</td>\n",
       "      <td>0</td>\n",
       "      <td>0.000000</td>\n",
       "      <td>0.00</td>\n",
       "      <td>0</td>\n",
       "      <td>0</td>\n",
       "    </tr>\n",
       "    <tr>\n",
       "      <th>2</th>\n",
       "      <td>0.0</td>\n",
       "      <td>-1.000000</td>\n",
       "      <td>1.5</td>\n",
       "      <td>0.75</td>\n",
       "      <td>0.0</td>\n",
       "      <td>0</td>\n",
       "      <td>0.000000</td>\n",
       "      <td>0.00</td>\n",
       "      <td>0</td>\n",
       "      <td>0</td>\n",
       "    </tr>\n",
       "    <tr>\n",
       "      <th>3</th>\n",
       "      <td>0.0</td>\n",
       "      <td>0.000000</td>\n",
       "      <td>0.0</td>\n",
       "      <td>-1.00</td>\n",
       "      <td>1.0</td>\n",
       "      <td>1</td>\n",
       "      <td>0.000000</td>\n",
       "      <td>0.00</td>\n",
       "      <td>0</td>\n",
       "      <td>0</td>\n",
       "    </tr>\n",
       "    <tr>\n",
       "      <th>4</th>\n",
       "      <td>0.0</td>\n",
       "      <td>0.000000</td>\n",
       "      <td>1.0</td>\n",
       "      <td>0.00</td>\n",
       "      <td>0.0</td>\n",
       "      <td>1</td>\n",
       "      <td>-1.000000</td>\n",
       "      <td>0.00</td>\n",
       "      <td>0</td>\n",
       "      <td>0</td>\n",
       "    </tr>\n",
       "    <tr>\n",
       "      <th>5</th>\n",
       "      <td>0.0</td>\n",
       "      <td>0.000000</td>\n",
       "      <td>0.0</td>\n",
       "      <td>0.00</td>\n",
       "      <td>1.0</td>\n",
       "      <td>0</td>\n",
       "      <td>0.000000</td>\n",
       "      <td>1.00</td>\n",
       "      <td>-1</td>\n",
       "      <td>0</td>\n",
       "    </tr>\n",
       "    <tr>\n",
       "      <th>6</th>\n",
       "      <td>0.0</td>\n",
       "      <td>0.000000</td>\n",
       "      <td>-2.0</td>\n",
       "      <td>0.00</td>\n",
       "      <td>0.0</td>\n",
       "      <td>1</td>\n",
       "      <td>0.000000</td>\n",
       "      <td>0.00</td>\n",
       "      <td>0</td>\n",
       "      <td>0</td>\n",
       "    </tr>\n",
       "    <tr>\n",
       "      <th>7</th>\n",
       "      <td>0.0</td>\n",
       "      <td>0.000000</td>\n",
       "      <td>0.0</td>\n",
       "      <td>0.00</td>\n",
       "      <td>0.0</td>\n",
       "      <td>0</td>\n",
       "      <td>-0.666667</td>\n",
       "      <td>1.00</td>\n",
       "      <td>0</td>\n",
       "      <td>0</td>\n",
       "    </tr>\n",
       "    <tr>\n",
       "      <th>8</th>\n",
       "      <td>0.1</td>\n",
       "      <td>0.333333</td>\n",
       "      <td>0.5</td>\n",
       "      <td>0.00</td>\n",
       "      <td>-0.5</td>\n",
       "      <td>0</td>\n",
       "      <td>0.000000</td>\n",
       "      <td>0.50</td>\n",
       "      <td>0</td>\n",
       "      <td>-2</td>\n",
       "    </tr>\n",
       "    <tr>\n",
       "      <th>9</th>\n",
       "      <td>-1.8</td>\n",
       "      <td>0.333333</td>\n",
       "      <td>0.0</td>\n",
       "      <td>-0.25</td>\n",
       "      <td>0.0</td>\n",
       "      <td>0</td>\n",
       "      <td>0.000000</td>\n",
       "      <td>0.25</td>\n",
       "      <td>0</td>\n",
       "      <td>3</td>\n",
       "    </tr>\n",
       "    <tr>\n",
       "      <th>10</th>\n",
       "      <td>0.0</td>\n",
       "      <td>0.000000</td>\n",
       "      <td>0.0</td>\n",
       "      <td>0.00</td>\n",
       "      <td>0.0</td>\n",
       "      <td>0</td>\n",
       "      <td>0.000000</td>\n",
       "      <td>0.00</td>\n",
       "      <td>0</td>\n",
       "      <td>1</td>\n",
       "    </tr>\n",
       "  </tbody>\n",
       "</table>\n",
       "</div>"
      ],
      "text/plain": [
       "     1         2    3     4    5   6         7     8   9   10\n",
       "1   1.1  1.000000  0.0  0.00  0.0   0  0.000000  0.00   0   0\n",
       "2   0.0 -1.000000  1.5  0.75  0.0   0  0.000000  0.00   0   0\n",
       "3   0.0  0.000000  0.0 -1.00  1.0   1  0.000000  0.00   0   0\n",
       "4   0.0  0.000000  1.0  0.00  0.0   1 -1.000000  0.00   0   0\n",
       "5   0.0  0.000000  0.0  0.00  1.0   0  0.000000  1.00  -1   0\n",
       "6   0.0  0.000000 -2.0  0.00  0.0   1  0.000000  0.00   0   0\n",
       "7   0.0  0.000000  0.0  0.00  0.0   0 -0.666667  1.00   0   0\n",
       "8   0.1  0.333333  0.5  0.00 -0.5   0  0.000000  0.50   0  -2\n",
       "9  -1.8  0.333333  0.0 -0.25  0.0   0  0.000000  0.25   0   3\n",
       "10  0.0  0.000000  0.0  0.00  0.0   0  0.000000  0.00   0   1"
      ]
     },
     "execution_count": 1,
     "metadata": {},
     "output_type": "execute_result"
    }
   ],
   "source": [
    "import pandas, numpy\n",
    "pandas.read_excel('SA_example.xlsx')"
   ]
  },
  {
   "cell_type": "markdown",
   "metadata": {},
   "source": [
    "You can also read the xcel file directly into a numpy matrix."
   ]
  },
  {
   "cell_type": "code",
   "execution_count": 2,
   "metadata": {
    "collapsed": false
   },
   "outputs": [],
   "source": [
    "M = numpy.matrix(pandas.read_excel('SA_example.xlsx'))"
   ]
  },
  {
   "cell_type": "markdown",
   "metadata": {},
   "source": [
    "You can now perform the usual calculation. We'll start by specifying a zero oxygen flux ($v_{10}=0$)."
   ]
  },
  {
   "cell_type": "code",
   "execution_count": 3,
   "metadata": {
    "collapsed": false
   },
   "outputs": [
    {
     "name": "stdout",
     "output_type": "stream",
     "text": [
      "Populating the interactive namespace from numpy and matplotlib\n"
     ]
    },
    {
     "data": {
      "text/plain": [
       "matrix([[ 0.04926092],\n",
       "        [ 0.94581299],\n",
       "        [ 0.08866997],\n",
       "        [ 1.08374404],\n",
       "        [ 0.90640409],\n",
       "        [ 0.17733994],\n",
       "        [ 0.26600992],\n",
       "        [ 0.17733994],\n",
       "        [ 1.08374404],\n",
       "        [ 0.        ]])"
      ]
     },
     "execution_count": 3,
     "metadata": {},
     "output_type": "execute_result"
    }
   ],
   "source": [
    "%pylab inline\n",
    "Yso=0;\n",
    "C = numpy.matrix([[1,0,0,0,0,0,0,0,0,Yso]]).T\n",
    "Y = numpy.linalg.solve(M,C)\n",
    "Y"
   ]
  },
  {
   "cell_type": "markdown",
   "metadata": {},
   "source": [
    "You will see that the model result in a very small biomass flux. The reason is that there is small supply of ATP. To overcome this a selective amount of oxygen can be added. The drainage of NADH to form ATP will result in an increased flux in v3. This is required since additional NADH need to be produced (for consumption in oxidative phosphorylation). To illustrate the interactivity of Python we'll create a Python function that returns the result form the flux model, given a specific choice of $Y_{SO}$."
   ]
  },
  {
   "cell_type": "code",
   "execution_count": 4,
   "metadata": {
    "collapsed": false
   },
   "outputs": [],
   "source": [
    "def distr(Yso):\n",
    "\n",
    "    C = numpy.matrix([[1,0,0,0,0,0,0,0,0,Yso]]).T\n",
    "    Y = numpy.linalg.solve(M,C)\n",
    "\n",
    "    Ysx=Y[0]  #biomass yield\n",
    "    Ysp=Y[8]  #SA yield \n",
    "    Pyr_split=1.5*Y[2]/(0.75*Y[3]) # Pyruvate to AcCoA devided by pyruvate to OXA\n",
    "\n",
    "    \n",
    "    y = [Ysx, Ysp, Pyr_split]\n",
    "    N = len(y)\n",
    "    x = range(N)\n",
    "    width = 1/1.5\n",
    "    plt.bar(x, y, width, color=\"blue\")\n",
    "    plt.ylim(-0.2, 1.2)\n",
    "    plt.xticks(numpy.array(x) + 0.5, ['Ysx', 'Ysp', 'Pyr_split'])\n",
    "    plt.show()"
   ]
  },
  {
   "cell_type": "markdown",
   "metadata": {},
   "source": [
    "Note that we can now 'call' the function for a chosen value of $Y_{SO}$. Below the plot for  $Y_{SO}=0.1$ "
   ]
  },
  {
   "cell_type": "code",
   "execution_count": 5,
   "metadata": {
    "collapsed": false
   },
   "outputs": [
    {
     "data": {
      "image/png": "[encoded data removed]",
      "text/plain": [
       "<matplotlib.figure.Figure at 0x460301a630>"
      ]
     },
     "metadata": {},
     "output_type": "display_data"
    }
   ],
   "source": [
    "distr(0.1)"
   ]
  },
  {
   "cell_type": "markdown",
   "metadata": {},
   "source": [
    "With Python it is easy to generate an interactive plot. The result is that you can vary $Y_{SO}$ with your mouse."
   ]
  },
  {
   "cell_type": "code",
   "execution_count": 6,
   "metadata": {
    "collapsed": false
   },
   "outputs": [
    {
     "data": {
      "image/png": "[encoded data removed]",
      "text/plain": [
       "<matplotlib.figure.Figure at 0x4603a3c978>"
      ]
     },
     "metadata": {},
     "output_type": "display_data"
    }
   ],
   "source": [
    "from ipywidgets import interact\n",
    "interact(distr, Yso=(0., 0.14, 0.01))"
   ]
  },
  {
   "cell_type": "markdown",
   "metadata": {},
   "source": [
    "What do we learn from the animation? That oxygen is required to obtain energy for building biomass, but that the SA yield decrease (and $Y_{SX}$ increase) as we increase the oxygen flux. From the pyruvate split you should see how more carbon is channelled to the oxidative side of the TCA cycle in order to generate more NADH for oxidative phosphorylation."
   ]
  },
  {
   "cell_type": "markdown",
   "metadata": {},
   "source": [
    "**For extra insight:** It is possible to put the 'magic' gene from _Actinobacillus succinogenes_ (see tut 7) that codes for PEP carboxikinase into _E. Coli_. This implies that the reductive TCA stream can start form PEP and **obtain an ATP in making OXA** unlike the PEP to OXA route in the example. Include this into a new flux model to see if this GMO will be able to produce a higher $Y_{SX}$ under anaerobic conditions. [$Y_{SX}=0.17$ given the same parameters as the example] "
   ]
  },
  {
   "cell_type": "markdown",
   "metadata": {},
   "source": [
    "## 5.8 Matrix handling tools\n",
    "\n",
    "### Rank of the stoichiometric matrix\n",
    "\n",
    "Your flux model will always result in a square matrix since the number of equations (rows) must equal the number of fluxes (columns). The size of the matrix will be given by the number of columns (or rows). For matrix of size n, you need to have n independent equations to solve for the answer. You can check the number of independent equations by determining the rank of the stoichiometric matrix. Below the command for the class example in Chapter 5_1. Here is the matrix again:\n",
    "\n",
    "$$\\begin{bmatrix}\n",
    "&v_1&v_2&v_3&v_4&v_5&v_6&v_7&v_8\\\\\n",
    "eq_1 &(1+\\alpha)  &1 &\t0&\t0&\t0&\t0&\t0&0\\\\\n",
    "eq_2 & 0\t&1\t&-1\t&-1\t&0\t&0\t&0\t&0\\\\\n",
    "eq_3 & 0&\t0&\t0&\t1&\t-1&\t-1&\t0&\t0\\\\\n",
    "eq_4 & 0&\t0&\t0&\t0&\t0&\t1&\t-1&\t-1\\\\\n",
    "eq_5 & 0&\t0&\t0&\t0&\t0&\t-\\frac{1}{3} &\t1&\t0\\\\\n",
    "eq_6 & \\beta &\t0&\t-\\frac{1}{3} &\t\\frac{1}{3} &\t-\\frac{1}{3} &\t0&\t0&\t0\\\\\n",
    "eq_7 & -\\gamma &\t-\\frac{1}{3} &\t0 &\t\\frac{2}{3} &\t0&\t0&\t0&\t\\frac{1}{2}\\\\\n",
    "eq_8 & 0&\t0&\t0&\t0&\t1&\t0&\t0&\t0\\end{bmatrix}\n",
    "\\times\\begin{bmatrix}\n",
    "v_1\\\\v_2\\\\v_3\\\\v_4\\\\v_5\\\\v_6\\\\v_7\\\\v_8\\end{bmatrix}\n",
    "=\\begin{bmatrix}1\\\\0\\\\0\\\\0\\\\0\\\\0\\\\0\\\\0.28\\end{bmatrix}$$"
   ]
  },
  {
   "cell_type": "code",
   "execution_count": 7,
   "metadata": {
    "collapsed": false
   },
   "outputs": [
    {
     "data": {
      "text/plain": [
       "8"
      ]
     },
     "execution_count": 7,
     "metadata": {},
     "output_type": "execute_result"
    }
   ],
   "source": [
    "import numpy\n",
    "S = numpy.matrix([[1.1,1,0,0,0,0,0,0],\n",
    "[0,1,-1,-1,0,0,0,0],\n",
    "[0,0,0,1,-1,-1,0,0],\n",
    "[0,0,0,0,0,1,-1,-1],\n",
    "[0,0,0,0,0,-1/3,1,0],\n",
    "[0.1,0,-1/3,1/3,-1/3,0,0,0],\n",
    "[-1.8,-1/3,0,2/3,0,0,0,0.5],\n",
    "[0,0,0,0,1,0,0,0],\n",
    "],dtype=float)\n",
    "\n",
    "from numpy.linalg import matrix_rank\n",
    "a=matrix_rank(S)\n",
    "a"
   ]
  },
  {
   "cell_type": "markdown",
   "metadata": {},
   "source": [
    "So the rank is the same as the size, we thus have 8 independent equations. Let’s alter the last equation to include a linear dependent relationship. Here is the map and model again.\n",
    "\n",
    "<img src=\"example1.png\" width=\"600\" />\n",
    "\n",
    "\n",
    "We’ll specify $v_8$ to be $\\frac{2}{3}v_6$ for the last equation."
   ]
  },
  {
   "cell_type": "code",
   "execution_count": 8,
   "metadata": {
    "collapsed": false
   },
   "outputs": [
    {
     "data": {
      "text/plain": [
       "7"
      ]
     },
     "execution_count": 8,
     "metadata": {},
     "output_type": "execute_result"
    }
   ],
   "source": [
    "S = numpy.matrix([[1.1,1,0,0,0,0,0,0],\n",
    "[0,1,-1,-1,0,0,0,0],\n",
    "[0,0,0,1,-1,-1,0,0],\n",
    "[0,0,0,0,0,1,-1,-1],\n",
    "[0,0,0,0,0,-1/3,1,0],\n",
    "[0.1,0,-1/3,1/3,-1/3,0,0,0],\n",
    "[-1.8,-1/3,0,2/3,0,0,0,0.5],\n",
    "[0,0,0,0,0,2/3,0,-1],        # Linear dependant specification!\n",
    "],dtype=float)\n",
    "\n",
    "from numpy.linalg import matrix_rank\n",
    "a=matrix_rank(S)\n",
    "a"
   ]
  },
  {
   "cell_type": "markdown",
   "metadata": {},
   "source": [
    "**The rank is now 1 lower than the size of the matrix and a solution won't be possible!**"
   ]
  },
  {
   "cell_type": "markdown",
   "metadata": {},
   "source": [
    "### Solving for unknowns in the stoichiometric matrix\n",
    "\n",
    "Let’s take the same example from chapter 5_1. Assume that $\\gamma$ is not known. We’ll use the original formulation in sympy to express the yield coefficients as a function of the unknown $\\gamma$."
   ]
  },
  {
   "cell_type": "code",
   "execution_count": 9,
   "metadata": {
    "collapsed": false
   },
   "outputs": [
    {
     "data": {
      "text/latex": [
       "$$\\left[\\begin{matrix}\\frac{0.326530612244898 \\gamma + 0.185034013605442}{1.53061224489796 \\gamma^{2} + 1.37755102040816 \\gamma + 0.289115646258503}\\\\\\frac{1.53061224489796 \\gamma^{2} + 1.01836734693878 \\gamma + 0.085578231292517}{1.53061224489796 \\gamma^{2} + 1.37755102040816 \\gamma + 0.289115646258503}\\\\\\frac{0.551020408163265 \\gamma^{2} + 0.365306122448979 \\gamma + 0.0300680272108844}{1.53061224489796 \\gamma^{2} + 1.37755102040816 \\gamma + 0.289115646258503}\\\\\\frac{0.979591836734693 \\gamma^{2} + 0.653061224489796 \\gamma + 0.0555102040816327}{1.53061224489796 \\gamma^{2} + 1.37755102040816 \\gamma + 0.289115646258503}\\\\0.28\\\\\\frac{0.771428571428571 \\gamma - 0.0628571428571428}{2.14285714285714 \\gamma + 0.714285714285714}\\\\\\frac{0.257142857142857 \\gamma - 0.020952380952381}{2.14285714285714 \\gamma + 0.714285714285714}\\\\\\frac{0.514285714285714 \\gamma - 0.0419047619047619}{2.14285714285714 \\gamma + 0.714285714285714}\\end{matrix}\\right]$$"
      ],
      "text/plain": [
       "⎡           1.0⋅(0.326530612244898⋅γ + 0.185034013605442)             ⎤\n",
       "⎢    ────────────────────────────────────────────────────────────     ⎥\n",
       "⎢                      2                                              ⎥\n",
       "⎢    1.53061224489796⋅γ  + 1.37755102040816⋅γ + 0.289115646258503     ⎥\n",
       "⎢                                                                     ⎥\n",
       "⎢     ⎛                  2                                         ⎞  ⎥\n",
       "⎢ 1.0⋅⎝1.53061224489796⋅γ  + 1.01836734693878⋅γ + 0.085578231292517⎠  ⎥\n",
       "⎢ ──────────────────────────────────────────────────────────────────  ⎥\n",
       "⎢                      2                                              ⎥\n",
       "⎢    1.53061224489796⋅γ  + 1.37755102040816⋅γ + 0.289115646258503     ⎥\n",
       "⎢                                                                     ⎥\n",
       "⎢    ⎛                   2                                           ⎞⎥\n",
       "⎢1.0⋅⎝0.551020408163265⋅γ  + 0.365306122448979⋅γ + 0.0300680272108844⎠⎥\n",
       "⎢─────────────────────────────────────────────────────────────────────⎥\n",
       "⎢                       2                                             ⎥\n",
       "⎢     1.53061224489796⋅γ  + 1.37755102040816⋅γ + 0.289115646258503    ⎥\n",
       "⎢                                                                     ⎥\n",
       "⎢    ⎛                   2                                           ⎞⎥\n",
       "⎢1.0⋅⎝0.979591836734693⋅γ  + 0.653061224489796⋅γ + 0.0555102040816327⎠⎥\n",
       "⎢─────────────────────────────────────────────────────────────────────⎥\n",
       "⎢                       2                                             ⎥\n",
       "⎢     1.53061224489796⋅γ  + 1.37755102040816⋅γ + 0.289115646258503    ⎥\n",
       "⎢                                                                     ⎥\n",
       "⎢                                0.28                                 ⎥\n",
       "⎢                                                                     ⎥\n",
       "⎢              0.771428571428571⋅γ - 0.0628571428571428               ⎥\n",
       "⎢              ────────────────────────────────────────               ⎥\n",
       "⎢               2.14285714285714⋅γ + 0.714285714285714                ⎥\n",
       "⎢                                                                     ⎥\n",
       "⎢               0.257142857142857⋅γ - 0.020952380952381               ⎥\n",
       "⎢               ───────────────────────────────────────               ⎥\n",
       "⎢                2.14285714285714⋅γ + 0.714285714285714               ⎥\n",
       "⎢                                                                     ⎥\n",
       "⎢              0.514285714285714⋅γ - 0.0419047619047619               ⎥\n",
       "⎢              ────────────────────────────────────────               ⎥\n",
       "⎣               2.14285714285714⋅γ + 0.714285714285714                ⎦"
      ]
     },
     "execution_count": 9,
     "metadata": {},
     "output_type": "execute_result"
    }
   ],
   "source": [
    "import sympy\n",
    "sympy.init_printing(use_latex='mathjax')\n",
    "from sympy import symbols\n",
    "gamma = sympy.Symbol('gamma')\n",
    "\n",
    "#a, b = symbols('alpha')\n",
    "\n",
    "S = sympy.Matrix([[1.1,1,0,0,0,0,0,0],\n",
    "[0,1,-1,-1,0,0,0,0],\n",
    "[0,0,0,1,-1,-1,0,0],\n",
    "[0,0,0,0,0,1,-1,-1],\n",
    "[0,0,0,0,0,-1/3,1,0],\n",
    "[0.1,0,-1/3,1/3,-1/3,0,0,0],\n",
    "[-gamma,-1/3,0,2/3,0,0,0,0.5],\n",
    "[0,0,0,0,1,0,0,0],])\n",
    "\n",
    "C = sympy.Matrix([[1,0,0,0,0,0,0,0.28]]).T\n",
    "\n",
    "Y = S.inv()*C\n",
    "Y2=sympy.simplify(Y)\n",
    "Y2"
   ]
  },
  {
   "cell_type": "markdown",
   "metadata": {},
   "source": [
    "We need to know one more yield (or flux) to solve for $\\gamma$. We'll take the glycerol flux and solve."
   ]
  },
  {
   "cell_type": "code",
   "execution_count": 10,
   "metadata": {
    "collapsed": false
   },
   "outputs": [
    {
     "data": {
      "text/latex": [
       "$$\\left [ 1.80000000000001\\right ]$$"
      ],
      "text/plain": [
       "[1.80000000000001]"
      ]
     },
     "execution_count": 10,
     "metadata": {},
     "output_type": "execute_result"
    }
   ],
   "source": [
    "sympy.solve(Y2[2] - 0.32, gamma) #v3 the glycerol flux is known"
   ]
  },
  {
   "cell_type": "markdown",
   "metadata": {},
   "source": [
    "We should aso get same the answer using any of the other known yields. Take the biomass flux for example ($v_1$) "
   ]
  },
  {
   "cell_type": "code",
   "execution_count": 11,
   "metadata": {
    "collapsed": false
   },
   "outputs": [
    {
     "data": {
      "text/latex": [
       "$$\\left [ 1.8\\right ]$$"
      ],
      "text/plain": [
       "[1.8]"
      ]
     },
     "execution_count": 11,
     "metadata": {},
     "output_type": "execute_result"
    }
   ],
   "source": [
    "sympy.solve(Y2[0] - 0.1, gamma) #v1 biomass flux"
   ]
  },
  {
   "cell_type": "markdown",
   "metadata": {},
   "source": [
    "### Easy as py(thon)!\n",
    "\n",
    "<img src=\"larson1.png\" width=\"350\" />\n"
   ]
  },
  {
   "cell_type": "code",
   "execution_count": null,
   "metadata": {
    "collapsed": true
   },
   "outputs": [],
   "source": []
  }
 ],
 "metadata": {
  "kernelspec": {
   "display_name": "Python 3",
   "language": "python",
   "name": "python3"
  },
  "language_info": {
   "codemirror_mode": {
    "name": "ipython",
    "version": 3
   },
   "file_extension": ".py",
   "mimetype": "text/x-python",
   "name": "python",
   "nbconvert_exporter": "python",
   "pygments_lexer": "ipython3",
   "version": "3.5.1"
  }
 },
 "nbformat": 4,
 "nbformat_minor": 0
}
