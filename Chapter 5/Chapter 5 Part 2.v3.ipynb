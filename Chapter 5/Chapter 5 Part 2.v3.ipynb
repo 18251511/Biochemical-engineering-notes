{
 "metadata": {
  "kernelspec": {
   "display_name": "Python 3",
   "language": "python",
   "name": "python3"
  },
  "language_info": {
   "codemirror_mode": {
    "name": "ipython",
    "version": 3
   },
   "file_extension": ".py",
   "mimetype": "text/x-python",
   "name": "python",
   "nbconvert_exporter": "python",
   "pygments_lexer": "ipython3",
   "version": "3.5.1"
  },
  "name": ""
 },
 "nbformat": 3,
 "nbformat_minor": 0,
 "worksheets": [
  {
   "cells": [
    {
     "cell_type": "markdown",
     "metadata": {},
     "source": [
      "## 5.6 Aerobic systems\n",
      "\n",
      "When oxygen is available, the carbon substrate can be converted to more energy than in anaerobic systems. With a full TCA cycle and oxidative phosphorylation the energy gained from the carbon substrate is an order of magnitude more than when only substrate level phosphorylation occurs. For aerobic systems CO2 and H20 will be the main catabolites, where the carbon backbone of the substrate (glucose) is completely disintegrated. This stands in contrast with anaerobic systems where sections of the carbon backbone is excreted from the cell and regularly used as commercial chemicals. Lactic acid, ethanol and acetic acid will be a prime example of this. This begs the question whether aerobic systems can be useful for producing chemicals, since CO2 is not a wanted commercial product. For some scenarios the biomass itself is the targeted product, like in the production of baker\u2019s yeast and this justifies the use of oxygen in a commercial process.\n",
      "\n",
      "Most commercial fermentation processes employ aerobes where oxygen is sparged through the bioreactor. In all of these systems a major part of the carbon flux is directed to molecules with carbon skeleton. Examples of these include organic acids like citric and malic acid, alcohols like propane diol, amino acids like glutamate and lysine, proteins like insulin and cellulase and various other commercial chemicals. These biochemicals cannot be seen as catabolites, since ATP was not generated in its production, but rather consumed. One might look at some of these molecules as anabolites, but the fact that these molecules are excreted and not directly used for making new biomass also disqualifies the anabolite notion. So why do these molecules get produced by microbes?\n",
      "\n",
      "The answer to the question lies in the organism\u2019s interaction with its environment and fellow competitors. In most scenarios the excreted product performs an extracellular function that favours the survival of the organism. For example, extracellular fungal enzymes or exoenzymes are used to break complex macromolecules like cellulose into digestible glucose units. The enzymes are thus used to prepare the food to the organism on the outside. Another example is the excretion of organic acids by some fungi. This creates a low pH environment that the organism is more adapted to and hence it has a growth advantage over other competing organisms. The biochemical engineer are typically more interested in utilising the cellular excretions than understanding its origins. \n",
      "\n",
      "Whatever the metabolism of these organism entail, oxygen is used to generate ATP in an efficient manner. It also \u2018digest\u2019 excess NADH formed in some of these processes. In order to model the metabolic flux distributions of these systems, oxidative phosphorylation need to be included into the flux model. This can be done by defining a molar oxygen flux.\n",
      "\n",
      "<img src=\"OP1.png\" width=\"400\" />\n",
      "\n",
      "This is the flux based representation of the equation we had before:\n",
      "\n",
      "$$2NADH+O_2\u21922(P\u2044O)_{NADH} ATP+2H_2 O$$"
     ]
    },
    {
     "cell_type": "markdown",
     "metadata": {
      "collapsed": true
     },
     "source": [
      "We will now return to the _Saccharomyces cerevisiae_ example (tut 2) where biomass production is considered. The full TCA flux model will be performed for this example. This will be helpful for constructing models where TCA intermediates (or metabolites a few enzymatic steps away from a TCA intermediate) are considered as excretion products. It will be shown that the TCA cycle can be reduced to a simpler flux model if complete respiration is the only objective.\n",
      "\n",
      "The cmol flux diagram are given by the following:\n",
      "\n",
      "\n",
      "<img src=\"TCA.png\" width=\"750\" />\n",
      "\n",
      "***Flux model of the TCA cycle in conjunction with cell growth*** *Glu - glucose, X - biomass, Pyr - pyruvate, AcCoA - acetyl-CoA, Cit  -citrate, $\\alpha$-Ket - $\\alpha$-ketoglutarate, Su-CoA - succinyl-CoA, OXA - oxaloacetate*\n",
      "\n",
      "Take note of the following:\n",
      "* Pyruvate oxidation occurs via pyruvate dehydrogenase (PDH)\n",
      "* $v_6$ should always be double $v_3$ since 2 carbons (acetyl-CoA) react with 4 carbons (oxaloacetate). This is indirectly specified in the stoichiometric balances since $v_6=\\frac{4}{5}\\times\\frac{5}{6}v_4=\\frac{2}{3}v_4$. Be careful to specify linear dependant relationships.\n",
      "*\tNote the transition in the cycle from $C_6$ to $C_5$ to $C_4$, where carbon is lost via $CO_2$ formation. The last stoichiometric balances reflect these transitions.\n",
      "*\tNote that the $\\frac{1}{2}$ NADH on $v_6$ is two separate oxidation steps ($2\\times\\frac{1}{4}$) in the cycle where FADH is considered as NADH.\n",
      "*\tNote that the GTP formed in the cycle is considered as ATP.\n",
      "*\tNote how oxidative phosphorylation is reflected in the ATP and NADH balance by using the oxygen flux as reference. \n",
      "\n",
      "Given 7 equations for 7 fluxes the system is fully specified. The formulation can easily be solved by the matrix method. Like before we'll choose $\\alpha=0.1 \\frac{mol\\,CO_2}{cmol\\,X}$ and work out $\\beta=0.1\\frac{mol\\,NADH}{cmol\\,X}$ (remeber tut 4). We'll futher define $\\gamma=2.5\\frac{mol\\,TP}{cmol\\,X}$\n"
     ]
    },
    {
     "cell_type": "code",
     "collapsed": false,
     "input": [
      "import numpy\n",
      "S = numpy.matrix([[1.1,1,0,0,0,0,0],\n",
      "[0,0,1,-1,0,1,0],\n",
      "[0,-0.666666667,1,0,0,0,0],\n",
      "[0,0,0,0.833333333,-1,0,0],\n",
      "[0,0,0,0,0.8,-1,0],\n",
      "[0.1,0.333333333,0.5,0,0.2,0.75,-2],\n",
      "[-2.5,0.333333333,0,0,0,0.25,3],\n",
      "],dtype=float)\n",
      "        \n",
      "C = numpy.matrix([[1,0,0,0,0,0,0]]).T\n",
      "Y = numpy.linalg.solve(S,C)\n",
      "Y      "
     ],
     "language": "python",
     "metadata": {},
     "outputs": [
      {
       "metadata": {},
       "output_type": "pyout",
       "prompt_number": 8,
       "text": [
        "matrix([[ 0.57441253],\n",
        "        [ 0.36814621],\n",
        "        [ 0.24543081],\n",
        "        [ 0.73629243],\n",
        "        [ 0.61357702],\n",
        "        [ 0.49086162],\n",
        "        [ 0.39686684]])"
       ]
      }
     ],
     "prompt_number": 8
    },
    {
     "cell_type": "markdown",
     "metadata": {},
     "source": [
      "We can compare this model to the calculation performed at the end of chapter 4 (section 4.7) where $\\alpha=0.075 \\frac{mol\\,O_2}{cmol\\,X}$ and  $\\beta=0\\frac{mol\\,NADH}{cmol\\,X}$. "
     ]
    },
    {
     "cell_type": "code",
     "collapsed": false,
     "input": [
      "alpha=0.075\n",
      "beta=0\n",
      "\n",
      "S = numpy.matrix([[(1+alpha),1,0,0,0,0,0],  # Note alhpa in the first node\n",
      "[0,0,1,-1,0,1,0],\n",
      "[0,-0.666666667,1,0,0,0,0],\n",
      "[0,0,0,0.833333333,-1,0,0],\n",
      "[0,0,0,0,0.8,-1,0],\n",
      "[beta,0.333333333,0.5,0,0.2,0.75,-2],     #Note beta\n",
      "[-2.5,0.333333333,0,0,0,0.25,3],\n",
      "],dtype=float)\n",
      "        \n",
      "C = numpy.matrix([[1,0,0,0,0,0,0]]).T\n",
      "Y = numpy.linalg.solve(S,C)\n",
      "Y      "
     ],
     "language": "python",
     "metadata": {},
     "outputs": [
      {
       "metadata": {},
       "output_type": "pyout",
       "prompt_number": 7,
       "text": [
        "matrix([[ 0.56921087],\n",
        "        [ 0.38809832],\n",
        "        [ 0.25873221],\n",
        "        [ 0.77619664],\n",
        "        [ 0.64683053],\n",
        "        [ 0.51746442],\n",
        "        [ 0.38809832]])"
       ]
      }
     ],
     "prompt_number": 7
    },
    {
     "cell_type": "markdown",
     "metadata": {},
     "source": [
      "Exactly the same answer, as it should be! Look at the calculated $Y_{SX}$ of 0.5692."
     ]
    },
    {
     "cell_type": "markdown",
     "metadata": {},
     "source": [
      "The full TCA model is useful since the steady state internal fluxes (not excreted) is quantified. The model should also assist in constructing pathways where TCA intermediates are excreted products. If the TCA cycle has the sole purpose of providing NADH for oxidative phosphorylation, the above flux model can be significantly reduced in order to only model respiration. The following simplified flux model should give the same as the model above:\n",
      "\n",
      "<img src=\"TCA2.png\" width=\"650\" />\n",
      "\n",
      "Note that the $\\frac{2}{3}$ATP in the respiration flux ($v_2$) is $\\frac{2}{3}$ATP from glycolysis and $\\frac{2}{3}$ATP from pyruvate oxidation via pyruvate dehydrogenase. The respiration flux is exactly the same as the equation we had in section 4.7, namely:\n",
      "\n",
      "$$CH_2 O+O_2\u2192CO_2+H_2 O+\\frac{11}{3} ATP$$\n",
      "\n",
      "Let\u2019s confirm if we get the same answer:"
     ]
    },
    {
     "cell_type": "code",
     "collapsed": false,
     "input": [
      "alpha=0.1\n",
      "beta=0.1   # Remember tut4, you can calculate this\n",
      "gamma=2.5\n",
      "\n",
      "S = numpy.matrix([[(1+alpha),1,0],\n",
      "[beta,2,-2],\n",
      "[-gamma, 2/3,3],                  \n",
      "],dtype=float)\n",
      "        \n",
      "C = numpy.matrix([[1,0,0]]).T\n",
      "Y = numpy.linalg.solve(S,C)\n",
      "Y      "
     ],
     "language": "python",
     "metadata": {},
     "outputs": [
      {
       "metadata": {},
       "output_type": "pyout",
       "prompt_number": 9,
       "text": [
        "matrix([[ 0.57441253],\n",
        "        [ 0.36814621],\n",
        "        [ 0.39686684]])"
       ]
      }
     ],
     "prompt_number": 9
    },
    {
     "cell_type": "markdown",
     "metadata": {},
     "source": [
      "Exactly the same as the example above (with initail $\\alpha$ specification of 0.1 $\\frac{mol\\,CO_2}{cmol\\,X}$). Definitely the simplest solution to aerobic growth of _S. cerevisiae_ problem! Just compare it to the work in 4.7. \n",
      "\n",
      "<img src=\"simplify.jpg\" width=\"450\" />\n"
     ]
    }
   ],
   "metadata": {}
  }
 ]
}
