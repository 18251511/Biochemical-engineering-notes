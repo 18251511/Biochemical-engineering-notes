{
 "cells": [
  {
   "cell_type": "markdown",
   "metadata": {},
   "source": [
    "## Matrix handling tools\n",
    "\n",
    "### Rank of the stoichiometric matrix\n",
    "\n",
    "Your flux model will always result in a square matrix since the number of equations (rows) must equal the number of fluxes (columns). The size of the matrix will be given by the number of columns (or rows). For matrix of size n, you need to have n independent equations to solve for the answer. You can check the number of independent equations by determining the rank of the stoichiometric matrix. Below the command for the class example in Chapter 5_1. Here is the matrix again:\n",
    "\n",
    "$$\\begin{bmatrix}\n",
    "&v_1&v_2&v_3&v_4&v_5&v_6&v_7&v_8\\\\\n",
    "eq_1 &(1+\\alpha)  &1 &\t0&\t0&\t0&\t0&\t0&0\\\\\n",
    "eq_2 & 0\t&1\t&-1\t&-1\t&0\t&0\t&0\t&0\\\\\n",
    "eq_3 & 0&\t0&\t0&\t1&\t-1&\t-1&\t0&\t0\\\\\n",
    "eq_4 & 0&\t0&\t0&\t0&\t0&\t1&\t-1&\t-1\\\\\n",
    "eq_5 & 0&\t0&\t0&\t0&\t0&\t-\\frac{1}{3} &\t1&\t0\\\\\n",
    "eq_6 & \\beta &\t0&\t-\\frac{1}{3} &\t\\frac{1}{3} &\t-\\frac{1}{3} &\t0&\t0&\t0\\\\\n",
    "eq_7 & -\\gamma &\t-\\frac{1}{3} &\t0 &\t\\frac{2}{3} &\t0&\t0&\t0&\t\\frac{1}{2}\\\\\n",
    "eq_8 & 0&\t0&\t0&\t0&\t1&\t0&\t0&\t0\\end{bmatrix}\n",
    "\\times\\begin{bmatrix}\n",
    "v_1\\\\v_2\\\\v_3\\\\v_4\\\\v_5\\\\v_6\\\\v_7\\\\v_8\\end{bmatrix}\n",
    "=\\begin{bmatrix}1\\\\0\\\\0\\\\0\\\\0\\\\0\\\\0\\\\0.28\\end{bmatrix}$$"
   ]
  },
  {
   "cell_type": "code",
   "execution_count": 1,
   "metadata": {
    "collapsed": false
   },
   "outputs": [
    {
     "data": {
      "text/plain": [
       "8"
      ]
     },
     "execution_count": 1,
     "metadata": {},
     "output_type": "execute_result"
    }
   ],
   "source": [
    "import numpy\n",
    "S = numpy.matrix([[1.1,1,0,0,0,0,0,0],\n",
    "[0,1,-1,-1,0,0,0,0],\n",
    "[0,0,0,1,-1,-1,0,0],\n",
    "[0,0,0,0,0,1,-1,-1],\n",
    "[0,0,0,0,0,-1/3,1,0],\n",
    "[0.1,0,-1/3,1/3,-1/3,0,0,0],\n",
    "[-1.8,-1/3,0,2/3,0,0,0,0.5],\n",
    "[0,0,0,0,1,0,0,0],\n",
    "],dtype=float)\n",
    "\n",
    "from numpy.linalg import matrix_rank\n",
    "a=matrix_rank(S)\n",
    "a"
   ]
  },
  {
   "cell_type": "markdown",
   "metadata": {},
   "source": [
    "So the rank is the same as the size, we thus have 8 independent equations. Let’s alter the last equation to include a linear dependent relationship. Here is the map and model again.\n",
    "\n",
    "<img src=\"ferm_path_withX.png\" width=\"550\" />\n",
    "\n",
    "\n",
    "We’ll specify $v_8$ to be $\\frac{2}{3}v_6$ for the last equation."
   ]
  },
  {
   "cell_type": "code",
   "execution_count": 2,
   "metadata": {
    "collapsed": false
   },
   "outputs": [
    {
     "data": {
      "text/plain": [
       "7"
      ]
     },
     "execution_count": 2,
     "metadata": {},
     "output_type": "execute_result"
    }
   ],
   "source": [
    "S = numpy.matrix([[1.1,1,0,0,0,0,0,0],\n",
    "[0,1,-1,-1,0,0,0,0],\n",
    "[0,0,0,1,-1,-1,0,0],\n",
    "[0,0,0,0,0,1,-1,-1],\n",
    "[0,0,0,0,0,-1/3,1,0],\n",
    "[0.1,0,-1/3,1/3,-1/3,0,0,0],\n",
    "[-1.8,-1/3,0,2/3,0,0,0,0.5],\n",
    "[0,0,0,0,0,2/3,0,-1],        # Linear dependant specification!\n",
    "],dtype=float)\n",
    "\n",
    "from numpy.linalg import matrix_rank\n",
    "a=matrix_rank(S)\n",
    "a"
   ]
  },
  {
   "cell_type": "markdown",
   "metadata": {},
   "source": [
    "**The rank is now 1 lower than the size of the matrix and a solution won't be possible!**\n",
    "\n",
    "\n",
    "\n",
    "<img src=\"larson1.png\" width=\"350\" />"
   ]
  },
  {
   "cell_type": "markdown",
   "metadata": {},
   "source": [
    "### Solving for unknowns in the stoichiometric matrix\n",
    "\n",
    "Let’s take the same example from chapter 5_1. Assume that $\\gamma$ is not known. We’ll use the original formulation in sympy to express the yield coefficients as a function of the unknown $\\gamma$.\n"
   ]
  },
  {
   "cell_type": "code",
   "execution_count": 3,
   "metadata": {
    "collapsed": false
   },
   "outputs": [
    {
     "data": {
      "text/latex": [
       "$$\\left[\\begin{matrix}\\frac{0.326530612244898 \\gamma + 0.185034013605442}{1.53061224489796 \\gamma^{2} + 1.37755102040816 \\gamma + 0.289115646258503}\\\\\\frac{1.53061224489796 \\gamma^{2} + 1.01836734693878 \\gamma + 0.085578231292517}{1.53061224489796 \\gamma^{2} + 1.37755102040816 \\gamma + 0.289115646258503}\\\\\\frac{0.551020408163265 \\gamma^{2} + 0.365306122448979 \\gamma + 0.0300680272108844}{1.53061224489796 \\gamma^{2} + 1.37755102040816 \\gamma + 0.289115646258503}\\\\\\frac{0.979591836734693 \\gamma^{2} + 0.653061224489796 \\gamma + 0.0555102040816327}{1.53061224489796 \\gamma^{2} + 1.37755102040816 \\gamma + 0.289115646258503}\\\\0.28\\\\\\frac{0.771428571428571 \\gamma - 0.0628571428571428}{2.14285714285714 \\gamma + 0.714285714285714}\\\\\\frac{0.257142857142857 \\gamma - 0.020952380952381}{2.14285714285714 \\gamma + 0.714285714285714}\\\\\\frac{0.514285714285714 \\gamma - 0.0419047619047619}{2.14285714285714 \\gamma + 0.714285714285714}\\end{matrix}\\right]$$"
      ],
      "text/plain": [
       "⎡           1.0⋅(0.326530612244898⋅γ + 0.185034013605442)             ⎤\n",
       "⎢    ────────────────────────────────────────────────────────────     ⎥\n",
       "⎢                      2                                              ⎥\n",
       "⎢    1.53061224489796⋅γ  + 1.37755102040816⋅γ + 0.289115646258503     ⎥\n",
       "⎢                                                                     ⎥\n",
       "⎢     ⎛                  2                                         ⎞  ⎥\n",
       "⎢ 1.0⋅⎝1.53061224489796⋅γ  + 1.01836734693878⋅γ + 0.085578231292517⎠  ⎥\n",
       "⎢ ──────────────────────────────────────────────────────────────────  ⎥\n",
       "⎢                      2                                              ⎥\n",
       "⎢    1.53061224489796⋅γ  + 1.37755102040816⋅γ + 0.289115646258503     ⎥\n",
       "⎢                                                                     ⎥\n",
       "⎢    ⎛                   2                                           ⎞⎥\n",
       "⎢1.0⋅⎝0.551020408163265⋅γ  + 0.365306122448979⋅γ + 0.0300680272108844⎠⎥\n",
       "⎢─────────────────────────────────────────────────────────────────────⎥\n",
       "⎢                       2                                             ⎥\n",
       "⎢     1.53061224489796⋅γ  + 1.37755102040816⋅γ + 0.289115646258503    ⎥\n",
       "⎢                                                                     ⎥\n",
       "⎢    ⎛                   2                                           ⎞⎥\n",
       "⎢1.0⋅⎝0.979591836734693⋅γ  + 0.653061224489796⋅γ + 0.0555102040816327⎠⎥\n",
       "⎢─────────────────────────────────────────────────────────────────────⎥\n",
       "⎢                       2                                             ⎥\n",
       "⎢     1.53061224489796⋅γ  + 1.37755102040816⋅γ + 0.289115646258503    ⎥\n",
       "⎢                                                                     ⎥\n",
       "⎢                                0.28                                 ⎥\n",
       "⎢                                                                     ⎥\n",
       "⎢              0.771428571428571⋅γ - 0.0628571428571428               ⎥\n",
       "⎢              ────────────────────────────────────────               ⎥\n",
       "⎢               2.14285714285714⋅γ + 0.714285714285714                ⎥\n",
       "⎢                                                                     ⎥\n",
       "⎢               0.257142857142857⋅γ - 0.020952380952381               ⎥\n",
       "⎢               ───────────────────────────────────────               ⎥\n",
       "⎢                2.14285714285714⋅γ + 0.714285714285714               ⎥\n",
       "⎢                                                                     ⎥\n",
       "⎢              0.514285714285714⋅γ - 0.0419047619047619               ⎥\n",
       "⎢              ────────────────────────────────────────               ⎥\n",
       "⎣               2.14285714285714⋅γ + 0.714285714285714                ⎦"
      ]
     },
     "execution_count": 3,
     "metadata": {},
     "output_type": "execute_result"
    }
   ],
   "source": [
    "import sympy\n",
    "sympy.init_printing(use_latex='mathjax')\n",
    "from sympy import symbols\n",
    "gamma = sympy.Symbol('gamma')\n",
    "\n",
    "#a, b = symbols('alpha')\n",
    "\n",
    "S = sympy.Matrix([[1.1,1,0,0,0,0,0,0],\n",
    "[0,1,-1,-1,0,0,0,0],\n",
    "[0,0,0,1,-1,-1,0,0],\n",
    "[0,0,0,0,0,1,-1,-1],\n",
    "[0,0,0,0,0,-1/3,1,0],\n",
    "[0.1,0,-1/3,1/3,-1/3,0,0,0],\n",
    "[-gamma,-1/3,0,2/3,0,0,0,0.5],\n",
    "[0,0,0,0,1,0,0,0],])\n",
    "\n",
    "C = sympy.Matrix([[1,0,0,0,0,0,0,0.28]]).T\n",
    "\n",
    "Y = S.inv()*C\n",
    "Y2=sympy.simplify(Y)\n",
    "Y2"
   ]
  },
  {
   "cell_type": "markdown",
   "metadata": {},
   "source": [
    "We need to know one more yield (or flux) to solve for $\\gamma$. We'll take the glycerol flux and solve."
   ]
  },
  {
   "cell_type": "code",
   "execution_count": 4,
   "metadata": {
    "collapsed": false
   },
   "outputs": [
    {
     "data": {
      "text/latex": [
       "$$\\left [ 1.80000000000001\\right ]$$"
      ],
      "text/plain": [
       "[1.80000000000001]"
      ]
     },
     "execution_count": 4,
     "metadata": {},
     "output_type": "execute_result"
    }
   ],
   "source": [
    "sympy.solve(Y2[2] - 0.32, gamma) #v3 the glycerol flux is known"
   ]
  },
  {
   "cell_type": "markdown",
   "metadata": {},
   "source": [
    "We should aso get same the answer using any of the other known yields. Take the biomass flux for example (v1) "
   ]
  },
  {
   "cell_type": "code",
   "execution_count": 5,
   "metadata": {
    "collapsed": false
   },
   "outputs": [
    {
     "data": {
      "text/latex": [
       "$$\\left [ 1.8\\right ]$$"
      ],
      "text/plain": [
       "[1.8]"
      ]
     },
     "execution_count": 5,
     "metadata": {},
     "output_type": "execute_result"
    }
   ],
   "source": [
    "sympy.solve(Y2[0] - 0.1, gamma) #v1 biomass flux"
   ]
  },
  {
   "cell_type": "markdown",
   "metadata": {},
   "source": [
    "### Easy as py(thon)!\n",
    "\n",
    "\n",
    "<img src=\"thematrix.png\" width=\"250\" />"
   ]
  },
  {
   "cell_type": "code",
   "execution_count": null,
   "metadata": {
    "collapsed": true
   },
   "outputs": [],
   "source": []
  }
 ],
 "metadata": {
  "kernelspec": {
   "display_name": "Python 3",
   "language": "python",
   "name": "python3"
  },
  "language_info": {
   "codemirror_mode": {
    "name": "ipython",
    "version": 3
   },
   "file_extension": ".py",
   "mimetype": "text/x-python",
   "name": "python",
   "nbconvert_exporter": "python",
   "pygments_lexer": "ipython3",
   "version": "3.5.1"
  }
 },
 "nbformat": 4,
 "nbformat_minor": 0
}
